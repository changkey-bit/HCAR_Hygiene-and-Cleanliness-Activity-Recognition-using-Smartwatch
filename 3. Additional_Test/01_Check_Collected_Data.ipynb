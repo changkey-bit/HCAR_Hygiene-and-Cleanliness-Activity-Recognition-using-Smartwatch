{
 "cells": [
  {
   "cell_type": "code",
   "metadata": {
    "ExecuteTime": {
     "end_time": "2025-07-29T02:06:19.457664Z",
     "start_time": "2025-07-29T02:06:19.433098Z"
    }
   },
   "source": [
    "# Participant Activity Duration Summary\n",
    "import os\n",
    "import sys\n",
    "import pandas as pd\n",
    "from pathlib import Path\n",
    "\n",
    "# Configuration\n",
    "DATA_DIR = Path('../Data/Experiment_Data/2_PreprocessDataset')\n",
    "OUTPUT_CSV = Path('../Data/Experiment_Data/participant_activity_with_other.csv')\n",
    "\n",
    "if __name__ == '__main__':\n",
    "    records = []\n",
    "    session_times = {}\n",
    "\n",
    "    # Iterate participants\n",
    "    for subdir in sorted(DATA_DIR.iterdir()):\n",
    "        if not subdir.is_dir():\n",
    "            continue\n",
    "        pid = subdir.name\n",
    "        anno_file = subdir / f\"{pid}_Annotation_processed.csv\"\n",
    "        if not anno_file.exists():\n",
    "            continue\n",
    "\n",
    "        df = pd.read_csv(anno_file)\n",
    "        df = df.sort_values('UnixTime_s')\n",
    "\n",
    "        # Compute total session duration\n",
    "        start_ts = df.loc[df.Event=='Session Start', 'UnixTime_s'].min()\n",
    "        stop_ts  = df.loc[df.Event=='Session Stop',  'UnixTime_s'].max()\n",
    "        session_times[pid] = (stop_ts - start_ts) / 60.0\n",
    "\n",
    "        # Aggregate per-activity durations\n",
    "        ongoing = {}\n",
    "        for _, row in df.iterrows():\n",
    "            act, ev, ts = row.Activity, row.Event, row.UnixTime_s\n",
    "            if ev == 'Start':\n",
    "                ongoing[act] = ts\n",
    "            elif ev == 'End' and act in ongoing:\n",
    "                duration = (ts - ongoing.pop(act)) / 60.0\n",
    "                records.append({'Participant': pid, 'Activity': act, 'Duration_min': duration})\n",
    "\n",
    "    # Create summary DataFrame\n",
    "    rec_df = pd.DataFrame(records)\n",
    "    summary = (\n",
    "        rec_df.groupby(['Participant','Activity'], as_index=False)\n",
    "              .agg(Total_Duration_min=('Duration_min','sum'))\n",
    "    )\n",
    "\n",
    "    # Pivot to wide format\n",
    "    pivot = summary.pivot(index='Participant', columns='Activity', values='Total_Duration_min').fillna(0)\n",
    "\n",
    "    # Compute 'Other' as remaining session time\n",
    "    pivot['Other'] = pivot.index.to_series().map(session_times) - pivot.sum(axis=1)\n",
    "\n",
    "    # Save to CSV\n",
    "    pivot.to_csv(OUTPUT_CSV)\n",
    "    print(f\"Saved participant activity summary (with 'Other') to {OUTPUT_CSV.resolve()}\")"
   ],
   "outputs": [
    {
     "name": "stdout",
     "output_type": "stream",
     "text": [
      "Saved participant activity summary (with 'Other') to D:\\Project\\HCAR\\Data\\Experiment_Data\\participant_activity_with_other.csv\n"
     ]
    }
   ],
   "execution_count": 5
  },
  {
   "cell_type": "code",
   "execution_count": null,
   "metadata": {},
   "outputs": [],
   "source": []
  }
 ],
 "metadata": {
  "kernelspec": {
   "display_name": "tf_gpu_ver3",
   "language": "python",
   "name": "python3"
  },
  "language_info": {
   "codemirror_mode": {
    "name": "ipython",
    "version": 3
   },
   "file_extension": ".py",
   "mimetype": "text/x-python",
   "name": "python",
   "nbconvert_exporter": "python",
   "pygments_lexer": "ipython3",
   "version": "3.7.16"
  }
 },
 "nbformat": 4,
 "nbformat_minor": 2
}
