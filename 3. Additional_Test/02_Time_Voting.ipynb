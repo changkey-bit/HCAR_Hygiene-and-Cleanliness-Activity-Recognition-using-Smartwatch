{
 "cells": [
  {
   "cell_type": "code",
   "metadata": {
    "ExecuteTime": {
     "end_time": "2025-07-29T02:09:16.999484Z",
     "start_time": "2025-07-29T02:08:37.353728Z"
    }
   },
   "source": [
    "# Time-Voting Post-Processing Evaluation\n",
    "import os\n",
    "import sys\n",
    "import numpy as np\n",
    "import pandas as pd\n",
    "from collections import deque\n",
    "from pathlib import Path\n",
    "from sklearn.metrics import balanced_accuracy_score, f1_score\n",
    "\n",
    "# Configuration\n",
    "BASE_DIR = Path('../Results/Experiment_Result/Model_Preds/finetune_6class_other_existing_timevoting')\n",
    "SUBJECT_IDS = ['201','202','203','205','206','207','208','209','210']\n",
    "WINDOW_SIZES = [5, 10, 50, 100, 200, 300]\n",
    "CLASS_NAMES = [\"Other\",\"Shower\",\"Tooth_brushing\",\"Vacuum_Cleaner\",\"Washing_hands\",\"Wiping\"]\n",
    "FINETUNE_SUBFOLDER = 'finetuned_full_420'\n",
    "OUTPUT_CSV = BASE_DIR / 'time_voting_metrics_per_subject.csv'\n",
    "\n",
    "if __name__ == '__main__':\n",
    "    # Initialize results containers\n",
    "    ba_results = {sid: {} for sid in SUBJECT_IDS}\n",
    "    f1_results = {sid: {} for sid in SUBJECT_IDS}\n",
    "\n",
    "    # Iterate subjects\n",
    "    for sid in SUBJECT_IDS:\n",
    "        pred_dir = BASE_DIR / sid / FINETUNE_SUBFOLDER\n",
    "        if not pred_dir.is_dir():\n",
    "            continue\n",
    "        # Load predictions\n",
    "        csvs = list(pred_dir.glob('*.csv'))\n",
    "        if not csvs:\n",
    "            continue\n",
    "        df = pd.read_csv(csvs[0])\n",
    "        y_true = df['y_true'].values\n",
    "        probs = df[CLASS_NAMES].values\n",
    "\n",
    "        # Time voting for each window size\n",
    "        for w in WINDOW_SIZES:\n",
    "            buf = deque()\n",
    "            cum = np.zeros(len(CLASS_NAMES))\n",
    "            y_pred_tv = []\n",
    "            for p in probs:\n",
    "                buf.append(p)\n",
    "                cum += p\n",
    "                if len(buf) > w:\n",
    "                    cum -= buf.popleft()\n",
    "                y_pred_tv.append(CLASS_NAMES[int(np.argmax(cum))])\n",
    "            ba_results[sid][w] = balanced_accuracy_score(y_true, y_pred_tv)\n",
    "            f1_results[sid][w] = f1_score(y_true, y_pred_tv, average='macro')\n",
    "\n",
    "    # Convert to DataFrames\n",
    "    ba_df = pd.DataFrame.from_dict(ba_results, orient='index', columns=WINDOW_SIZES)\n",
    "    f1_df = pd.DataFrame.from_dict(f1_results, orient='index', columns=WINDOW_SIZES)\n",
    "    ba_df.index.name = 'Subject'\n",
    "    f1_df.index.name = 'Subject'\n",
    "\n",
    "    # Scale and round\n",
    "    ba_df = (ba_df * 100).round(2)\n",
    "    f1_df = (f1_df * 100).round(2)\n",
    "\n",
    "    # Add mean row\n",
    "    ba_df.loc['Mean'] = ba_df.mean()\n",
    "    f1_df.loc['Mean'] = f1_df.mean()\n",
    "\n",
    "    # Combine with MultiIndex columns\n",
    "    combined = pd.concat(\n",
    "        {'Balanced_Accuracy': ba_df, 'Macro_F1': f1_df},\n",
    "        axis=1\n",
    "    )\n",
    "\n",
    "    # Save results\n",
    "    combined.to_csv(OUTPUT_CSV)\n",
    "    print(f\"Saved combined metrics to {OUTPUT_CSV}\")"
   ],
   "outputs": [
    {
     "name": "stderr",
     "output_type": "stream",
     "text": [
      "C:\\Users\\user\\anaconda3\\envs\\tf_gpu_ver3\\lib\\site-packages\\sklearn\\metrics\\_classification.py:1987: UserWarning: y_pred contains classes not in y_true\n",
      "  warnings.warn(\"y_pred contains classes not in y_true\")\n",
      "C:\\Users\\user\\anaconda3\\envs\\tf_gpu_ver3\\lib\\site-packages\\sklearn\\metrics\\_classification.py:1987: UserWarning: y_pred contains classes not in y_true\n",
      "  warnings.warn(\"y_pred contains classes not in y_true\")\n",
      "C:\\Users\\user\\anaconda3\\envs\\tf_gpu_ver3\\lib\\site-packages\\sklearn\\metrics\\_classification.py:1987: UserWarning: y_pred contains classes not in y_true\n",
      "  warnings.warn(\"y_pred contains classes not in y_true\")\n",
      "C:\\Users\\user\\anaconda3\\envs\\tf_gpu_ver3\\lib\\site-packages\\sklearn\\metrics\\_classification.py:1987: UserWarning: y_pred contains classes not in y_true\n",
      "  warnings.warn(\"y_pred contains classes not in y_true\")\n",
      "C:\\Users\\user\\anaconda3\\envs\\tf_gpu_ver3\\lib\\site-packages\\sklearn\\metrics\\_classification.py:1987: UserWarning: y_pred contains classes not in y_true\n",
      "  warnings.warn(\"y_pred contains classes not in y_true\")\n",
      "C:\\Users\\user\\anaconda3\\envs\\tf_gpu_ver3\\lib\\site-packages\\sklearn\\metrics\\_classification.py:1987: UserWarning: y_pred contains classes not in y_true\n",
      "  warnings.warn(\"y_pred contains classes not in y_true\")\n",
      "C:\\Users\\user\\anaconda3\\envs\\tf_gpu_ver3\\lib\\site-packages\\sklearn\\metrics\\_classification.py:1987: UserWarning: y_pred contains classes not in y_true\n",
      "  warnings.warn(\"y_pred contains classes not in y_true\")\n",
      "C:\\Users\\user\\anaconda3\\envs\\tf_gpu_ver3\\lib\\site-packages\\sklearn\\metrics\\_classification.py:1987: UserWarning: y_pred contains classes not in y_true\n",
      "  warnings.warn(\"y_pred contains classes not in y_true\")\n",
      "C:\\Users\\user\\anaconda3\\envs\\tf_gpu_ver3\\lib\\site-packages\\sklearn\\metrics\\_classification.py:1987: UserWarning: y_pred contains classes not in y_true\n",
      "  warnings.warn(\"y_pred contains classes not in y_true\")\n",
      "C:\\Users\\user\\anaconda3\\envs\\tf_gpu_ver3\\lib\\site-packages\\sklearn\\metrics\\_classification.py:1987: UserWarning: y_pred contains classes not in y_true\n",
      "  warnings.warn(\"y_pred contains classes not in y_true\")\n",
      "C:\\Users\\user\\anaconda3\\envs\\tf_gpu_ver3\\lib\\site-packages\\sklearn\\metrics\\_classification.py:1987: UserWarning: y_pred contains classes not in y_true\n",
      "  warnings.warn(\"y_pred contains classes not in y_true\")\n",
      "C:\\Users\\user\\anaconda3\\envs\\tf_gpu_ver3\\lib\\site-packages\\sklearn\\metrics\\_classification.py:1987: UserWarning: y_pred contains classes not in y_true\n",
      "  warnings.warn(\"y_pred contains classes not in y_true\")\n"
     ]
    },
    {
     "name": "stdout",
     "output_type": "stream",
     "text": [
      "Saved combined metrics to ..\\Results\\Experiment_Result\\Model_Preds\\finetune_6class_other_existing_timevoting\\time_voting_metrics_per_subject.csv\n"
     ]
    }
   ],
   "execution_count": 1
  },
  {
   "metadata": {},
   "cell_type": "code",
   "outputs": [],
   "execution_count": null,
   "source": ""
  }
 ],
 "metadata": {
  "kernelspec": {
   "display_name": "tf_gpu_ver3",
   "language": "python",
   "name": "python3"
  },
  "language_info": {
   "codemirror_mode": {
    "name": "ipython",
    "version": 3
   },
   "file_extension": ".py",
   "mimetype": "text/x-python",
   "name": "python",
   "nbconvert_exporter": "python",
   "pygments_lexer": "ipython3",
   "version": "3.7.16"
  }
 },
 "nbformat": 4,
 "nbformat_minor": 2
}
