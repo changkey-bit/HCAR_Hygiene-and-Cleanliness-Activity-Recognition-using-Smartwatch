{
 "cells": [
  {
   "cell_type": "code",
   "execution_count": 1,
   "metadata": {},
   "outputs": [
    {
     "name": "stdout",
     "output_type": "stream",
     "text": [
      "Saved WAV file: D:\\code\\2025_03_12_KCGS\\test.wav\n"
     ]
    }
   ],
   "source": [
    "import pandas as pd\n",
    "import numpy as np\n",
    "from scipy.io.wavfile import write\n",
    "\n",
    "from test import base_dir\n",
    "\n",
    "base_dir = \"../Data/Train_Data/1_RawDataset\"\n",
    "\n",
    "# 각 CSV 파일을 청크 단위로 처리하는 함수\n",
    "def process_csv_to_wav(csv_file, chunksize=100):\n",
    "    audio_signal_list = []\n",
    "    # CSV 파일을 chunksize 크기로 읽기 (행)\n",
    "    for chunk in pd.read_csv(csv_file, chunksize=chunksize):\n",
    "        audio_columns = [col for col in chunk.columns if col.startswith(\"AudioData\")]\n",
    "        if not audio_columns:\n",
    "            print(f\"'{csv_file}'에 AudioData 열이 없습니다.\")\n",
    "            continue\n",
    "\n",
    "        # chunk의 모든 행에 대해 오디오 데이터를 이어붙임\n",
    "        data = chunk[audio_columns].values.astype(np.float32)\n",
    "        audio_signal_list.append(data.flatten())\n",
    "    \n",
    "    if not audio_signal_list:\n",
    "        return None\n",
    "    \n",
    "    # 모든 청크를 이어붙여 최종 오디오 신호 생성\n",
    "    audio_signal = np.concatenate(audio_signal_list)\n",
    "        \n",
    "    # 16-bit PCM 변환\n",
    "    audio_int16 = np.int16(audio_signal)\n",
    "    return audio_int16\n",
    "\n",
    "csv_file = base_dir + \"/100/100_1747457605113_AudioData.csv\"\n",
    "\n",
    "audio_int16 = process_csv_to_wav(csv_file, chunksize=100)\n",
    "wav_file = csv_file[:-4] + \".wav\"\n",
    "write(wav_file, 16000, audio_int16)\n",
    "\n",
    "print(f\"Saved WAV file: {wav_file}\")"
   ]
  },
  {
   "cell_type": "code",
   "execution_count": null,
   "metadata": {},
   "outputs": [],
   "source": []
  }
 ],
 "metadata": {
  "kernelspec": {
   "display_name": "tf_gpu_ver3",
   "language": "python",
   "name": "python3"
  },
  "language_info": {
   "codemirror_mode": {
    "name": "ipython",
    "version": 3
   },
   "file_extension": ".py",
   "mimetype": "text/x-python",
   "name": "python",
   "nbconvert_exporter": "python",
   "pygments_lexer": "ipython3",
   "version": "3.7.16"
  }
 },
 "nbformat": 4,
 "nbformat_minor": 2
}
