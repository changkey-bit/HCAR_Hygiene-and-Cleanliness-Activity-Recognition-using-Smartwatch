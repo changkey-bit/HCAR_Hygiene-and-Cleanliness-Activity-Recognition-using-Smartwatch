{
 "cells": [
  {
   "metadata": {
    "ExecuteTime": {
     "end_time": "2025-07-29T02:03:13.086470Z",
     "start_time": "2025-07-29T02:03:10.703140Z"
    }
   },
   "cell_type": "code",
   "source": [
    "import os\n",
    "from pathlib import Path\n",
    "\n",
    "import pandas as pd\n",
    "import plotly.express as px\n",
    "\n",
    "# Configuration\n",
    "DATA_ROOT = Path(\"../../Data/Experiment_Data/2_PreprocessDataset\")\n",
    "ACTIVITY_ORDER = [\n",
    "    \"Other\", \"Shower\", \"Tooth_brushing\",\n",
    "    \"Washing_hands\", \"Wiping\", \"Vacuum_Cleaner\"\n",
    "]\n",
    "\n",
    "# Utility Functions\n",
    "def read_dataframe(folder: Path, filename: str) -> pd.DataFrame:\n",
    "    \"\"\"\n",
    "    Load a CSV file into a pandas DataFrame.\n",
    "    \"\"\"\n",
    "    return pd.read_csv(folder / filename)\n",
    "\n",
    "def make_datetime(df: pd.DataFrame) -> pd.Series:\n",
    "    \"\"\"\n",
    "    Combine separate Year/Month/Day/Hour/Min/Sec columns into a single datetime series.\n",
    "    \"\"\"\n",
    "    return pd.to_datetime({\n",
    "        \"year\": df[\"Year\"].astype(int),\n",
    "        \"month\": df[\"Month\"].astype(int),\n",
    "        \"day\": df[\"Day\"].astype(int),\n",
    "        \"hour\": df[\"Hour\"].astype(int),\n",
    "        \"minute\": df[\"Min\"].astype(int),\n",
    "        \"second\": df[\"Sec\"].astype(int),\n",
    "    })\n",
    "\n",
    "def extract_intervals_from_annotations(df: pd.DataFrame) -> pd.DataFrame:\n",
    "    \"\"\"\n",
    "    From annotation DataFrame with 'Start'/'End' events, build activity intervals.\n",
    "    \"\"\"\n",
    "    records = []\n",
    "    current_start = None\n",
    "    current_act = None\n",
    "\n",
    "    for _, row in df.iterrows():\n",
    "        if row.Event == \"Start\":\n",
    "            current_start = row.elapsed_td\n",
    "            current_act = row.Activity\n",
    "        elif row.Event == \"End\" and current_act == row.Activity and current_start is not None:\n",
    "            records.append({\n",
    "                \"Activity\": current_act,\n",
    "                \"start_td\": current_start,\n",
    "                \"end_td\": row.elapsed_td\n",
    "            })\n",
    "            current_start = None\n",
    "            current_act = None\n",
    "\n",
    "    return pd.DataFrame(records)\n",
    "\n",
    "def extract_intervals_from_predictions(df: pd.DataFrame) -> pd.DataFrame:\n",
    "    \"\"\"\n",
    "    Collapse consecutive identical predictions into intervals.\n",
    "    \"\"\"\n",
    "    records = []\n",
    "    prev_label = None\n",
    "    prev_start = None\n",
    "\n",
    "    for _, row in df.iterrows():\n",
    "        label = row.Predict\n",
    "        td = row.elapsed_td\n",
    "        if prev_label is None:\n",
    "            prev_label = label\n",
    "            prev_start = td\n",
    "        elif label != prev_label:\n",
    "            records.append({\n",
    "                \"Activity\": prev_label,\n",
    "                \"start_td\": prev_start,\n",
    "                \"end_td\": td\n",
    "            })\n",
    "            prev_label = label\n",
    "            prev_start = td\n",
    "\n",
    "    # Add last interval\n",
    "    if prev_label is not None:\n",
    "        records.append({\n",
    "            \"Activity\": prev_label,\n",
    "            \"start_td\": prev_start,\n",
    "            \"end_td\": df.elapsed_td.iloc[-1]\n",
    "        })\n",
    "\n",
    "    return pd.DataFrame(records)\n",
    "\n",
    "def fill_gaps(df_int: pd.DataFrame, full_start: pd.Timedelta, full_end: pd.Timedelta) -> pd.DataFrame:\n",
    "    \"\"\"\n",
    "    Fill gaps between intervals with 'Other' activity.\n",
    "    \"\"\"\n",
    "    filled = []\n",
    "    prev_end = full_start\n",
    "\n",
    "    for _, row in df_int.sort_values(\"start_td\").iterrows():\n",
    "        if row.start_td > prev_end:\n",
    "            filled.append({\n",
    "                \"Activity\": \"Other\",\n",
    "                \"start_td\": prev_end,\n",
    "                \"end_td\": row.start_td\n",
    "            })\n",
    "        filled.append(row.to_dict())\n",
    "        prev_end = row.end_td\n",
    "\n",
    "    if prev_end < full_end:\n",
    "        filled.append({\n",
    "            \"Activity\": \"Other\",\n",
    "            \"start_td\": prev_end,\n",
    "            \"end_td\": full_end\n",
    "        })\n",
    "\n",
    "    return pd.DataFrame(filled)\n",
    "\n",
    "def add_wall_clock(df_int: pd.DataFrame, zero_dt: pd.Timestamp) -> pd.DataFrame:\n",
    "    \"\"\"\n",
    "    Convert elapsed timedeltas to real datetimes by adding reference datetime.\n",
    "    \"\"\"\n",
    "    df_int = df_int.copy()\n",
    "    df_int[\"start_dt\"] = zero_dt + df_int[\"start_td\"]\n",
    "    df_int[\"end_dt\"] = zero_dt + df_int[\"end_td\"]\n",
    "    return df_int\n",
    "\n",
    "def plot_timeline(df_int: pd.DataFrame, title: str) -> None:\n",
    "    \"\"\"\n",
    "    Plot interactive timeline of activities using Plotly Express.\n",
    "    \"\"\"\n",
    "    fig = px.timeline(\n",
    "        df_int,\n",
    "        x_start=\"start_dt\",\n",
    "        x_end=\"end_dt\",\n",
    "        y=\"Activity\",\n",
    "        color=\"Activity\",\n",
    "        category_orders={\"Activity\": ACTIVITY_ORDER}\n",
    "    )\n",
    "\n",
    "    min_dt = df_int[\"start_dt\"].min()\n",
    "    max_dt = df_int[\"end_dt\"].max()\n",
    "\n",
    "    fig.update_xaxes(\n",
    "        type=\"date\",\n",
    "        range=[min_dt, max_dt],\n",
    "        dtick=3600 * 1000,\n",
    "        tickformat=\"%H:%M\",\n",
    "        title=\"Time of day (HH:MM)\"\n",
    "    )\n",
    "\n",
    "    # Hourly ticks plus final\n",
    "    tick_vals = []\n",
    "    t = min_dt\n",
    "    while t < max_dt:\n",
    "        tick_vals.append(t)\n",
    "        t += pd.Timedelta(hours=1)\n",
    "    tick_vals.append(max_dt)\n",
    "\n",
    "    fig.update_xaxes(\n",
    "        tickmode=\"array\",\n",
    "        tickvals=tick_vals,\n",
    "        ticktext=[t.strftime(\"%H:%M\") for t in tick_vals]\n",
    "    )\n",
    "\n",
    "    fig.update_traces(\n",
    "        hovertemplate=(\n",
    "            \"Activity: %{y}<br>\"\n",
    "            \"Start: %{base|%Y-%m-%d %H:%M:%S}<br>\"\n",
    "            \"End: %{x|%Y-%m-%d %H:%M:%S}<extra></extra>\"\n",
    "        )\n",
    "    )\n",
    "\n",
    "    fig.update_layout(title=title, yaxis_title=None)\n",
    "    fig.show()\n",
    "\n",
    "# Main execution\n",
    "if __name__ == \"__main__\":\n",
    "    participant = \"201\"\n",
    "    folder = DATA_ROOT / participant\n",
    "\n",
    "    # Process annotations\n",
    "    df_anno = read_dataframe(folder, f\"{participant}_Annotation_processed.csv\")\n",
    "    df_anno[\"datetime\"] = make_datetime(df_anno)\n",
    "    df_anno[\"elapsed_td\"] = pd.to_timedelta(df_anno[\"Time\"], unit=\"s\")\n",
    "    intervals_anno = extract_intervals_from_annotations(df_anno)\n",
    "\n",
    "    # Determine full session range\n",
    "    if \"Session Start\" in df_anno.Event.values:\n",
    "        full_start = df_anno.loc[df_anno.Event == \"Session Start\", \"elapsed_td\"].iloc[0]\n",
    "    else:\n",
    "        full_start = intervals_anno[\"start_td\"].min()\n",
    "    if \"Session Stop\" in df_anno.Event.values:\n",
    "        full_end = df_anno.loc[df_anno.Event == \"Session Stop\", \"elapsed_td\"].iloc[-1]\n",
    "    else:\n",
    "        full_end = intervals_anno[\"end_td\"].max()\n",
    "\n",
    "    # Fill gaps and convert to wall-clock time\n",
    "    df_filled_anno = fill_gaps(intervals_anno, full_start, full_end)\n",
    "    zero_dt = df_anno.loc[df_anno.Time == 0, \"datetime\"].iloc[0]\n",
    "    df_filled_anno = add_wall_clock(df_filled_anno, zero_dt)\n",
    "    plot_timeline(df_filled_anno, \"Ground Truth Timeline\")\n",
    "\n",
    "    # Process predictions\n",
    "    df_pred = read_dataframe(folder, f\"{participant}_Predicted_Activity_processed.csv\")\n",
    "    df_pred[\"datetime\"] = make_datetime(df_pred)\n",
    "    df_pred[\"elapsed_td\"] = pd.to_timedelta(df_pred[\"Time\"], unit=\"s\")\n",
    "    intervals_pred = extract_intervals_from_predictions(df_pred)\n",
    "\n",
    "    full_start_pred = pd.Timedelta(0)\n",
    "    full_end_pred = df_pred[\"elapsed_td\"].max()\n",
    "    df_filled_pred = fill_gaps(intervals_pred, full_start_pred, full_end_pred)\n",
    "    zero_dt_pred = df_pred.loc[df_pred.Time == 0, \"datetime\"].iloc[0]\n",
    "    df_filled_pred = add_wall_clock(df_filled_pred, zero_dt_pred)\n",
    "    plot_timeline(df_filled_pred, \"Predicted Activity Timeline\")\n"
   ],
   "outputs": [
    {
     "data": {
      "application/vnd.plotly.v1+json": {
       "data": [
        {
         "alignmentgroup": "True",
         "base": [
          "2025-05-08T14:11:58",
          "2025-05-08T17:18:07.977000",
          "2025-05-08T17:22:15.726000",
          "2025-05-08T17:30:50.252000",
          "2025-05-08T17:32:17.613000",
          "2025-05-08T17:35:22.241000",
          "2025-05-08T17:38:22.897000",
          "2025-05-08T17:40:29.635000",
          "2025-05-08T17:44:17.919000",
          "2025-05-08T17:46:14.256000",
          "2025-05-08T17:47:22.653000",
          "2025-05-08T18:31:58.197000",
          "2025-05-08T18:35:16.143000",
          "2025-05-08T18:41:05.725000",
          "2025-05-08T18:42:16.700000",
          "2025-05-08T18:43:50.841000",
          "2025-05-08T19:13:58.765000",
          "2025-05-08T19:16:38.073000",
          "2025-05-08T19:22:39.721000",
          "2025-05-08T19:24:24.801000",
          "2025-05-08T20:27:35.056000",
          "2025-05-08T20:29:02.521000",
          "2025-05-08T20:32:12.715000",
          "2025-05-08T20:33:53.192000",
          "2025-05-08T21:15:00.899000",
          "2025-05-08T21:25:06.027000",
          "2025-05-08T21:33:00.611000",
          "2025-05-08T21:52:51.970000",
          "2025-05-08T22:03:59.173000",
          "2025-05-08T22:07:28.957000"
         ],
         "hovertemplate": "Activity: %{y}<br>Start: %{base|%Y-%m-%d %H:%M:%S}<br>End: %{x|%Y-%m-%d %H:%M:%S}<extra></extra>",
         "legendgroup": "Other",
         "marker": {
          "color": "#636efa",
          "pattern": {
           "shape": ""
          }
         },
         "name": "Other",
         "offsetgroup": "Other",
         "orientation": "h",
         "showlegend": true,
         "textposition": "auto",
         "x": [
          1.1098248E7,
          28030.0,
          444546.0,
          22257.0,
          60433.0,
          40406.0,
          48528.0,
          157775.0,
          17257.0,
          59866.0,
          2379794.0,
          159001.0,
          288532.0,
          13309.0,
          27264.0,
          1739727.0,
          93384.0,
          150426.0,
          41342.0,
          3590917.0,
          25524.0,
          56330.0,
          37941.0,
          2399311.0,
          69369.0,
          411154.0,
          1130255.0,
          604190.0,
          152969.0,
          1308973.0
         ],
         "xaxis": "x",
         "y": [
          "Other",
          "Other",
          "Other",
          "Other",
          "Other",
          "Other",
          "Other",
          "Other",
          "Other",
          "Other",
          "Other",
          "Other",
          "Other",
          "Other",
          "Other",
          "Other",
          "Other",
          "Other",
          "Other",
          "Other",
          "Other",
          "Other",
          "Other",
          "Other",
          "Other",
          "Other",
          "Other",
          "Other",
          "Other",
          "Other"
         ],
         "yaxis": "y",
         "type": "bar"
        },
        {
         "alignmentgroup": "True",
         "base": [
          "2025-05-08T20:29:58.851000",
          "2025-05-08T21:16:10.268000"
         ],
         "hovertemplate": "Activity: %{y}<br>Start: %{base|%Y-%m-%d %H:%M:%S}<br>End: %{x|%Y-%m-%d %H:%M:%S}<extra></extra>",
         "legendgroup": "Shower",
         "marker": {
          "color": "#EF553B",
          "pattern": {
           "shape": ""
          }
         },
         "name": "Shower",
         "offsetgroup": "Shower",
         "orientation": "h",
         "showlegend": true,
         "textposition": "auto",
         "x": [
          133864.0,
          535759.0
         ],
         "xaxis": "x",
         "y": [
          "Shower",
          "Shower"
         ],
         "yaxis": "y",
         "type": "bar"
        },
        {
         "alignmentgroup": "True",
         "base": [
          "2025-05-08T17:18:36.007000",
          "2025-05-08T19:19:08.499000",
          "2025-05-08T20:24:15.718000"
         ],
         "hovertemplate": "Activity: %{y}<br>Start: %{base|%Y-%m-%d %H:%M:%S}<br>End: %{x|%Y-%m-%d %H:%M:%S}<extra></extra>",
         "legendgroup": "Tooth_brushing",
         "marker": {
          "color": "#00cc96",
          "pattern": {
           "shape": ""
          }
         },
         "name": "Tooth_brushing",
         "offsetgroup": "Tooth_brushing",
         "orientation": "h",
         "showlegend": true,
         "textposition": "auto",
         "x": [
          219719.0,
          211222.0,
          199338.0
         ],
         "xaxis": "x",
         "y": [
          "Tooth_brushing",
          "Tooth_brushing",
          "Tooth_brushing"
         ],
         "yaxis": "y",
         "type": "bar"
        },
        {
         "alignmentgroup": "True",
         "base": [
          "2025-05-08T17:16:56.248000",
          "2025-05-08T18:42:43.964000",
          "2025-05-08T19:23:21.063000",
          "2025-05-08T20:28:00.580000",
          "2025-05-08T20:32:50.656000",
          "2025-05-08T21:13:52.503000",
          "2025-05-08T21:31:57.181000",
          "2025-05-08T21:51:50.866000",
          "2025-05-08T22:02:56.160000",
          "2025-05-08T22:06:32.142000"
         ],
         "hovertemplate": "Activity: %{y}<br>Start: %{base|%Y-%m-%d %H:%M:%S}<br>End: %{x|%Y-%m-%d %H:%M:%S}<extra></extra>",
         "legendgroup": "Washing_hands",
         "marker": {
          "color": "#ab63fa",
          "pattern": {
           "shape": ""
          }
         },
         "name": "Washing_hands",
         "offsetgroup": "Washing_hands",
         "orientation": "h",
         "showlegend": true,
         "textposition": "auto",
         "x": [
          71729.0,
          66877.0,
          63738.0,
          61941.0,
          62536.0,
          68396.0,
          63430.0,
          61104.0,
          63013.0,
          56815.0
         ],
         "xaxis": "x",
         "y": [
          "Washing_hands",
          "Washing_hands",
          "Washing_hands",
          "Washing_hands",
          "Washing_hands",
          "Washing_hands",
          "Washing_hands",
          "Washing_hands",
          "Washing_hands",
          "Washing_hands"
         ],
         "yaxis": "y",
         "type": "bar"
        },
        {
         "alignmentgroup": "True",
         "base": [
          "2025-05-08T17:29:40.272000",
          "2025-05-08T17:31:12.509000",
          "2025-05-08T17:39:11.425000",
          "2025-05-08T17:43:07.410000",
          "2025-05-08T17:44:35.176000",
          "2025-05-08T18:40:04.675000",
          "2025-05-08T18:41:19.034000",
          "2025-05-08T19:12:50.568000",
          "2025-05-08T19:15:32.149000"
         ],
         "hovertemplate": "Activity: %{y}<br>Start: %{base|%Y-%m-%d %H:%M:%S}<br>End: %{x|%Y-%m-%d %H:%M:%S}<extra></extra>",
         "legendgroup": "Wiping",
         "marker": {
          "color": "#FFA15A",
          "pattern": {
           "shape": ""
          }
         },
         "name": "Wiping",
         "offsetgroup": "Wiping",
         "orientation": "h",
         "showlegend": true,
         "textposition": "auto",
         "x": [
          69980.0,
          65104.0,
          78210.0,
          70509.0,
          99080.0,
          61050.0,
          57666.0,
          68197.0,
          65924.0
         ],
         "xaxis": "x",
         "y": [
          "Wiping",
          "Wiping",
          "Wiping",
          "Wiping",
          "Wiping",
          "Wiping",
          "Wiping",
          "Wiping",
          "Wiping"
         ],
         "yaxis": "y",
         "type": "bar"
        },
        {
         "alignmentgroup": "True",
         "base": [
          "2025-05-08T17:33:18.046000",
          "2025-05-08T17:36:02.647000",
          "2025-05-08T17:47:14.122000",
          "2025-05-08T18:27:02.447000",
          "2025-05-08T18:34:37.198000"
         ],
         "hovertemplate": "Activity: %{y}<br>Start: %{base|%Y-%m-%d %H:%M:%S}<br>End: %{x|%Y-%m-%d %H:%M:%S}<extra></extra>",
         "legendgroup": "Vacuum_Cleaner",
         "marker": {
          "color": "#19d3f3",
          "pattern": {
           "shape": ""
          }
         },
         "name": "Vacuum_Cleaner",
         "offsetgroup": "Vacuum_Cleaner",
         "orientation": "h",
         "showlegend": true,
         "textposition": "auto",
         "x": [
          124195.0,
          140250.0,
          8531.0,
          295750.0,
          38945.0
         ],
         "xaxis": "x",
         "y": [
          "Vacuum_Cleaner",
          "Vacuum_Cleaner",
          "Vacuum_Cleaner",
          "Vacuum_Cleaner",
          "Vacuum_Cleaner"
         ],
         "yaxis": "y",
         "type": "bar"
        }
       ],
       "layout": {
        "template": {
         "data": {
          "histogram2dcontour": [
           {
            "type": "histogram2dcontour",
            "colorbar": {
             "outlinewidth": 0,
             "ticks": ""
            },
            "colorscale": [
             [
              0.0,
              "#0d0887"
             ],
             [
              0.1111111111111111,
              "#46039f"
             ],
             [
              0.2222222222222222,
              "#7201a8"
             ],
             [
              0.3333333333333333,
              "#9c179e"
             ],
             [
              0.4444444444444444,
              "#bd3786"
             ],
             [
              0.5555555555555556,
              "#d8576b"
             ],
             [
              0.6666666666666666,
              "#ed7953"
             ],
             [
              0.7777777777777778,
              "#fb9f3a"
             ],
             [
              0.8888888888888888,
              "#fdca26"
             ],
             [
              1.0,
              "#f0f921"
             ]
            ]
           }
          ],
          "choropleth": [
           {
            "type": "choropleth",
            "colorbar": {
             "outlinewidth": 0,
             "ticks": ""
            }
           }
          ],
          "histogram2d": [
           {
            "type": "histogram2d",
            "colorbar": {
             "outlinewidth": 0,
             "ticks": ""
            },
            "colorscale": [
             [
              0.0,
              "#0d0887"
             ],
             [
              0.1111111111111111,
              "#46039f"
             ],
             [
              0.2222222222222222,
              "#7201a8"
             ],
             [
              0.3333333333333333,
              "#9c179e"
             ],
             [
              0.4444444444444444,
              "#bd3786"
             ],
             [
              0.5555555555555556,
              "#d8576b"
             ],
             [
              0.6666666666666666,
              "#ed7953"
             ],
             [
              0.7777777777777778,
              "#fb9f3a"
             ],
             [
              0.8888888888888888,
              "#fdca26"
             ],
             [
              1.0,
              "#f0f921"
             ]
            ]
           }
          ],
          "heatmap": [
           {
            "type": "heatmap",
            "colorbar": {
             "outlinewidth": 0,
             "ticks": ""
            },
            "colorscale": [
             [
              0.0,
              "#0d0887"
             ],
             [
              0.1111111111111111,
              "#46039f"
             ],
             [
              0.2222222222222222,
              "#7201a8"
             ],
             [
              0.3333333333333333,
              "#9c179e"
             ],
             [
              0.4444444444444444,
              "#bd3786"
             ],
             [
              0.5555555555555556,
              "#d8576b"
             ],
             [
              0.6666666666666666,
              "#ed7953"
             ],
             [
              0.7777777777777778,
              "#fb9f3a"
             ],
             [
              0.8888888888888888,
              "#fdca26"
             ],
             [
              1.0,
              "#f0f921"
             ]
            ]
           }
          ],
          "heatmapgl": [
           {
            "type": "heatmapgl",
            "colorbar": {
             "outlinewidth": 0,
             "ticks": ""
            },
            "colorscale": [
             [
              0.0,
              "#0d0887"
             ],
             [
              0.1111111111111111,
              "#46039f"
             ],
             [
              0.2222222222222222,
              "#7201a8"
             ],
             [
              0.3333333333333333,
              "#9c179e"
             ],
             [
              0.4444444444444444,
              "#bd3786"
             ],
             [
              0.5555555555555556,
              "#d8576b"
             ],
             [
              0.6666666666666666,
              "#ed7953"
             ],
             [
              0.7777777777777778,
              "#fb9f3a"
             ],
             [
              0.8888888888888888,
              "#fdca26"
             ],
             [
              1.0,
              "#f0f921"
             ]
            ]
           }
          ],
          "contourcarpet": [
           {
            "type": "contourcarpet",
            "colorbar": {
             "outlinewidth": 0,
             "ticks": ""
            }
           }
          ],
          "contour": [
           {
            "type": "contour",
            "colorbar": {
             "outlinewidth": 0,
             "ticks": ""
            },
            "colorscale": [
             [
              0.0,
              "#0d0887"
             ],
             [
              0.1111111111111111,
              "#46039f"
             ],
             [
              0.2222222222222222,
              "#7201a8"
             ],
             [
              0.3333333333333333,
              "#9c179e"
             ],
             [
              0.4444444444444444,
              "#bd3786"
             ],
             [
              0.5555555555555556,
              "#d8576b"
             ],
             [
              0.6666666666666666,
              "#ed7953"
             ],
             [
              0.7777777777777778,
              "#fb9f3a"
             ],
             [
              0.8888888888888888,
              "#fdca26"
             ],
             [
              1.0,
              "#f0f921"
             ]
            ]
           }
          ],
          "surface": [
           {
            "type": "surface",
            "colorbar": {
             "outlinewidth": 0,
             "ticks": ""
            },
            "colorscale": [
             [
              0.0,
              "#0d0887"
             ],
             [
              0.1111111111111111,
              "#46039f"
             ],
             [
              0.2222222222222222,
              "#7201a8"
             ],
             [
              0.3333333333333333,
              "#9c179e"
             ],
             [
              0.4444444444444444,
              "#bd3786"
             ],
             [
              0.5555555555555556,
              "#d8576b"
             ],
             [
              0.6666666666666666,
              "#ed7953"
             ],
             [
              0.7777777777777778,
              "#fb9f3a"
             ],
             [
              0.8888888888888888,
              "#fdca26"
             ],
             [
              1.0,
              "#f0f921"
             ]
            ]
           }
          ],
          "mesh3d": [
           {
            "type": "mesh3d",
            "colorbar": {
             "outlinewidth": 0,
             "ticks": ""
            }
           }
          ],
          "scatter": [
           {
            "marker": {
             "line": {
              "color": "#283442"
             }
            },
            "type": "scatter"
           }
          ],
          "parcoords": [
           {
            "type": "parcoords",
            "line": {
             "colorbar": {
              "outlinewidth": 0,
              "ticks": ""
             }
            }
           }
          ],
          "scatterpolargl": [
           {
            "type": "scatterpolargl",
            "marker": {
             "colorbar": {
              "outlinewidth": 0,
              "ticks": ""
             }
            }
           }
          ],
          "bar": [
           {
            "error_x": {
             "color": "#f2f5fa"
            },
            "error_y": {
             "color": "#f2f5fa"
            },
            "marker": {
             "line": {
              "color": "rgb(17,17,17)",
              "width": 0.5
             },
             "pattern": {
              "fillmode": "overlay",
              "size": 10,
              "solidity": 0.2
             }
            },
            "type": "bar"
           }
          ],
          "scattergeo": [
           {
            "type": "scattergeo",
            "marker": {
             "colorbar": {
              "outlinewidth": 0,
              "ticks": ""
             }
            }
           }
          ],
          "scatterpolar": [
           {
            "type": "scatterpolar",
            "marker": {
             "colorbar": {
              "outlinewidth": 0,
              "ticks": ""
             }
            }
           }
          ],
          "histogram": [
           {
            "marker": {
             "pattern": {
              "fillmode": "overlay",
              "size": 10,
              "solidity": 0.2
             }
            },
            "type": "histogram"
           }
          ],
          "scattergl": [
           {
            "marker": {
             "line": {
              "color": "#283442"
             }
            },
            "type": "scattergl"
           }
          ],
          "scatter3d": [
           {
            "type": "scatter3d",
            "line": {
             "colorbar": {
              "outlinewidth": 0,
              "ticks": ""
             }
            },
            "marker": {
             "colorbar": {
              "outlinewidth": 0,
              "ticks": ""
             }
            }
           }
          ],
          "scattermapbox": [
           {
            "type": "scattermapbox",
            "marker": {
             "colorbar": {
              "outlinewidth": 0,
              "ticks": ""
             }
            }
           }
          ],
          "scatterternary": [
           {
            "type": "scatterternary",
            "marker": {
             "colorbar": {
              "outlinewidth": 0,
              "ticks": ""
             }
            }
           }
          ],
          "scattercarpet": [
           {
            "type": "scattercarpet",
            "marker": {
             "colorbar": {
              "outlinewidth": 0,
              "ticks": ""
             }
            }
           }
          ],
          "carpet": [
           {
            "aaxis": {
             "endlinecolor": "#A2B1C6",
             "gridcolor": "#506784",
             "linecolor": "#506784",
             "minorgridcolor": "#506784",
             "startlinecolor": "#A2B1C6"
            },
            "baxis": {
             "endlinecolor": "#A2B1C6",
             "gridcolor": "#506784",
             "linecolor": "#506784",
             "minorgridcolor": "#506784",
             "startlinecolor": "#A2B1C6"
            },
            "type": "carpet"
           }
          ],
          "table": [
           {
            "cells": {
             "fill": {
              "color": "#506784"
             },
             "line": {
              "color": "rgb(17,17,17)"
             }
            },
            "header": {
             "fill": {
              "color": "#2a3f5f"
             },
             "line": {
              "color": "rgb(17,17,17)"
             }
            },
            "type": "table"
           }
          ],
          "barpolar": [
           {
            "marker": {
             "line": {
              "color": "rgb(17,17,17)",
              "width": 0.5
             },
             "pattern": {
              "fillmode": "overlay",
              "size": 10,
              "solidity": 0.2
             }
            },
            "type": "barpolar"
           }
          ],
          "pie": [
           {
            "automargin": true,
            "type": "pie"
           }
          ]
         },
         "layout": {
          "autotypenumbers": "strict",
          "colorway": [
           "#636efa",
           "#EF553B",
           "#00cc96",
           "#ab63fa",
           "#FFA15A",
           "#19d3f3",
           "#FF6692",
           "#B6E880",
           "#FF97FF",
           "#FECB52"
          ],
          "font": {
           "color": "#f2f5fa"
          },
          "hovermode": "closest",
          "hoverlabel": {
           "align": "left"
          },
          "paper_bgcolor": "rgb(17,17,17)",
          "plot_bgcolor": "rgb(17,17,17)",
          "polar": {
           "bgcolor": "rgb(17,17,17)",
           "angularaxis": {
            "gridcolor": "#506784",
            "linecolor": "#506784",
            "ticks": ""
           },
           "radialaxis": {
            "gridcolor": "#506784",
            "linecolor": "#506784",
            "ticks": ""
           }
          },
          "ternary": {
           "bgcolor": "rgb(17,17,17)",
           "aaxis": {
            "gridcolor": "#506784",
            "linecolor": "#506784",
            "ticks": ""
           },
           "baxis": {
            "gridcolor": "#506784",
            "linecolor": "#506784",
            "ticks": ""
           },
           "caxis": {
            "gridcolor": "#506784",
            "linecolor": "#506784",
            "ticks": ""
           }
          },
          "coloraxis": {
           "colorbar": {
            "outlinewidth": 0,
            "ticks": ""
           }
          },
          "colorscale": {
           "sequential": [
            [
             0.0,
             "#0d0887"
            ],
            [
             0.1111111111111111,
             "#46039f"
            ],
            [
             0.2222222222222222,
             "#7201a8"
            ],
            [
             0.3333333333333333,
             "#9c179e"
            ],
            [
             0.4444444444444444,
             "#bd3786"
            ],
            [
             0.5555555555555556,
             "#d8576b"
            ],
            [
             0.6666666666666666,
             "#ed7953"
            ],
            [
             0.7777777777777778,
             "#fb9f3a"
            ],
            [
             0.8888888888888888,
             "#fdca26"
            ],
            [
             1.0,
             "#f0f921"
            ]
           ],
           "sequentialminus": [
            [
             0.0,
             "#0d0887"
            ],
            [
             0.1111111111111111,
             "#46039f"
            ],
            [
             0.2222222222222222,
             "#7201a8"
            ],
            [
             0.3333333333333333,
             "#9c179e"
            ],
            [
             0.4444444444444444,
             "#bd3786"
            ],
            [
             0.5555555555555556,
             "#d8576b"
            ],
            [
             0.6666666666666666,
             "#ed7953"
            ],
            [
             0.7777777777777778,
             "#fb9f3a"
            ],
            [
             0.8888888888888888,
             "#fdca26"
            ],
            [
             1.0,
             "#f0f921"
            ]
           ],
           "diverging": [
            [
             0,
             "#8e0152"
            ],
            [
             0.1,
             "#c51b7d"
            ],
            [
             0.2,
             "#de77ae"
            ],
            [
             0.3,
             "#f1b6da"
            ],
            [
             0.4,
             "#fde0ef"
            ],
            [
             0.5,
             "#f7f7f7"
            ],
            [
             0.6,
             "#e6f5d0"
            ],
            [
             0.7,
             "#b8e186"
            ],
            [
             0.8,
             "#7fbc41"
            ],
            [
             0.9,
             "#4d9221"
            ],
            [
             1,
             "#276419"
            ]
           ]
          },
          "xaxis": {
           "gridcolor": "#283442",
           "linecolor": "#506784",
           "ticks": "",
           "title": {
            "standoff": 15
           },
           "zerolinecolor": "#283442",
           "automargin": true,
           "zerolinewidth": 2
          },
          "yaxis": {
           "gridcolor": "#283442",
           "linecolor": "#506784",
           "ticks": "",
           "title": {
            "standoff": 15
           },
           "zerolinecolor": "#283442",
           "automargin": true,
           "zerolinewidth": 2
          },
          "scene": {
           "xaxis": {
            "backgroundcolor": "rgb(17,17,17)",
            "gridcolor": "#506784",
            "linecolor": "#506784",
            "showbackground": true,
            "ticks": "",
            "zerolinecolor": "#C8D4E3",
            "gridwidth": 2
           },
           "yaxis": {
            "backgroundcolor": "rgb(17,17,17)",
            "gridcolor": "#506784",
            "linecolor": "#506784",
            "showbackground": true,
            "ticks": "",
            "zerolinecolor": "#C8D4E3",
            "gridwidth": 2
           },
           "zaxis": {
            "backgroundcolor": "rgb(17,17,17)",
            "gridcolor": "#506784",
            "linecolor": "#506784",
            "showbackground": true,
            "ticks": "",
            "zerolinecolor": "#C8D4E3",
            "gridwidth": 2
           }
          },
          "shapedefaults": {
           "line": {
            "color": "#f2f5fa"
           }
          },
          "annotationdefaults": {
           "arrowcolor": "#f2f5fa",
           "arrowhead": 0,
           "arrowwidth": 1
          },
          "geo": {
           "bgcolor": "rgb(17,17,17)",
           "landcolor": "rgb(17,17,17)",
           "subunitcolor": "#506784",
           "showland": true,
           "showlakes": true,
           "lakecolor": "rgb(17,17,17)"
          },
          "title": {
           "x": 0.05
          },
          "updatemenudefaults": {
           "bgcolor": "#506784",
           "borderwidth": 0
          },
          "sliderdefaults": {
           "bgcolor": "#C8D4E3",
           "borderwidth": 1,
           "bordercolor": "rgb(17,17,17)",
           "tickwidth": 0
          },
          "mapbox": {
           "style": "dark"
          }
         }
        },
        "xaxis": {
         "anchor": "y",
         "domain": [
          0.0,
          1.0
         ],
         "type": "date",
         "range": [
          "2025-05-08T14:11:58",
          "2025-05-08T22:29:17.930000"
         ],
         "dtick": 3600000,
         "tickformat": "%H:%M",
         "title": {
          "text": "Time of day (HH:MM)"
         },
         "tickmode": "array",
         "tickvals": [
          "2025-05-08T14:11:58",
          "2025-05-08T15:11:58",
          "2025-05-08T16:11:58",
          "2025-05-08T17:11:58",
          "2025-05-08T18:11:58",
          "2025-05-08T19:11:58",
          "2025-05-08T20:11:58",
          "2025-05-08T21:11:58",
          "2025-05-08T22:11:58",
          "2025-05-08T22:29:17.930000"
         ],
         "ticktext": [
          "14:11",
          "15:11",
          "16:11",
          "17:11",
          "18:11",
          "19:11",
          "20:11",
          "21:11",
          "22:11",
          "22:29"
         ]
        },
        "yaxis": {
         "anchor": "x",
         "domain": [
          0.0,
          1.0
         ],
         "title": {},
         "categoryorder": "array",
         "categoryarray": [
          "Vacuum_Cleaner",
          "Wiping",
          "Washing_hands",
          "Tooth_brushing",
          "Shower",
          "Other"
         ]
        },
        "legend": {
         "title": {
          "text": "Activity"
         },
         "tracegroupgap": 0
        },
        "margin": {
         "t": 60
        },
        "barmode": "overlay",
        "title": {
         "text": "Ground Truth Timeline"
        }
       },
       "config": {
        "plotlyServerURL": "https://plot.ly"
       }
      },
      "text/html": [
       "<div>                            <div id=\"f6cfd125-c74c-4158-87fd-75f5c6111a2e\" class=\"plotly-graph-div\" style=\"height:525px; width:100%;\"></div>            <script type=\"text/javascript\">                require([\"plotly\"], function(Plotly) {                    window.PLOTLYENV=window.PLOTLYENV || {};                                    if (document.getElementById(\"f6cfd125-c74c-4158-87fd-75f5c6111a2e\")) {                    Plotly.newPlot(                        \"f6cfd125-c74c-4158-87fd-75f5c6111a2e\",                        [{\"alignmentgroup\":\"True\",\"base\":[\"2025-05-08T14:11:58\",\"2025-05-08T17:18:07.977000\",\"2025-05-08T17:22:15.726000\",\"2025-05-08T17:30:50.252000\",\"2025-05-08T17:32:17.613000\",\"2025-05-08T17:35:22.241000\",\"2025-05-08T17:38:22.897000\",\"2025-05-08T17:40:29.635000\",\"2025-05-08T17:44:17.919000\",\"2025-05-08T17:46:14.256000\",\"2025-05-08T17:47:22.653000\",\"2025-05-08T18:31:58.197000\",\"2025-05-08T18:35:16.143000\",\"2025-05-08T18:41:05.725000\",\"2025-05-08T18:42:16.700000\",\"2025-05-08T18:43:50.841000\",\"2025-05-08T19:13:58.765000\",\"2025-05-08T19:16:38.073000\",\"2025-05-08T19:22:39.721000\",\"2025-05-08T19:24:24.801000\",\"2025-05-08T20:27:35.056000\",\"2025-05-08T20:29:02.521000\",\"2025-05-08T20:32:12.715000\",\"2025-05-08T20:33:53.192000\",\"2025-05-08T21:15:00.899000\",\"2025-05-08T21:25:06.027000\",\"2025-05-08T21:33:00.611000\",\"2025-05-08T21:52:51.970000\",\"2025-05-08T22:03:59.173000\",\"2025-05-08T22:07:28.957000\"],\"hovertemplate\":\"Activity: %{y}\\u003cbr\\u003eStart: %{base|%Y-%m-%d %H:%M:%S}\\u003cbr\\u003eEnd: %{x|%Y-%m-%d %H:%M:%S}\\u003cextra\\u003e\\u003c\\u002fextra\\u003e\",\"legendgroup\":\"Other\",\"marker\":{\"color\":\"#636efa\",\"pattern\":{\"shape\":\"\"}},\"name\":\"Other\",\"offsetgroup\":\"Other\",\"orientation\":\"h\",\"showlegend\":true,\"textposition\":\"auto\",\"x\":[11098248.0,28030.0,444546.0,22257.0,60433.0,40406.0,48528.0,157775.0,17257.0,59866.0,2379794.0,159001.0,288532.0,13309.0,27264.0,1739727.0,93384.0,150426.0,41342.0,3590917.0,25524.0,56330.0,37941.0,2399311.0,69369.0,411154.0,1130255.0,604190.0,152969.0,1308973.0],\"xaxis\":\"x\",\"y\":[\"Other\",\"Other\",\"Other\",\"Other\",\"Other\",\"Other\",\"Other\",\"Other\",\"Other\",\"Other\",\"Other\",\"Other\",\"Other\",\"Other\",\"Other\",\"Other\",\"Other\",\"Other\",\"Other\",\"Other\",\"Other\",\"Other\",\"Other\",\"Other\",\"Other\",\"Other\",\"Other\",\"Other\",\"Other\",\"Other\"],\"yaxis\":\"y\",\"type\":\"bar\"},{\"alignmentgroup\":\"True\",\"base\":[\"2025-05-08T20:29:58.851000\",\"2025-05-08T21:16:10.268000\"],\"hovertemplate\":\"Activity: %{y}\\u003cbr\\u003eStart: %{base|%Y-%m-%d %H:%M:%S}\\u003cbr\\u003eEnd: %{x|%Y-%m-%d %H:%M:%S}\\u003cextra\\u003e\\u003c\\u002fextra\\u003e\",\"legendgroup\":\"Shower\",\"marker\":{\"color\":\"#EF553B\",\"pattern\":{\"shape\":\"\"}},\"name\":\"Shower\",\"offsetgroup\":\"Shower\",\"orientation\":\"h\",\"showlegend\":true,\"textposition\":\"auto\",\"x\":[133864.0,535759.0],\"xaxis\":\"x\",\"y\":[\"Shower\",\"Shower\"],\"yaxis\":\"y\",\"type\":\"bar\"},{\"alignmentgroup\":\"True\",\"base\":[\"2025-05-08T17:18:36.007000\",\"2025-05-08T19:19:08.499000\",\"2025-05-08T20:24:15.718000\"],\"hovertemplate\":\"Activity: %{y}\\u003cbr\\u003eStart: %{base|%Y-%m-%d %H:%M:%S}\\u003cbr\\u003eEnd: %{x|%Y-%m-%d %H:%M:%S}\\u003cextra\\u003e\\u003c\\u002fextra\\u003e\",\"legendgroup\":\"Tooth_brushing\",\"marker\":{\"color\":\"#00cc96\",\"pattern\":{\"shape\":\"\"}},\"name\":\"Tooth_brushing\",\"offsetgroup\":\"Tooth_brushing\",\"orientation\":\"h\",\"showlegend\":true,\"textposition\":\"auto\",\"x\":[219719.0,211222.0,199338.0],\"xaxis\":\"x\",\"y\":[\"Tooth_brushing\",\"Tooth_brushing\",\"Tooth_brushing\"],\"yaxis\":\"y\",\"type\":\"bar\"},{\"alignmentgroup\":\"True\",\"base\":[\"2025-05-08T17:16:56.248000\",\"2025-05-08T18:42:43.964000\",\"2025-05-08T19:23:21.063000\",\"2025-05-08T20:28:00.580000\",\"2025-05-08T20:32:50.656000\",\"2025-05-08T21:13:52.503000\",\"2025-05-08T21:31:57.181000\",\"2025-05-08T21:51:50.866000\",\"2025-05-08T22:02:56.160000\",\"2025-05-08T22:06:32.142000\"],\"hovertemplate\":\"Activity: %{y}\\u003cbr\\u003eStart: %{base|%Y-%m-%d %H:%M:%S}\\u003cbr\\u003eEnd: %{x|%Y-%m-%d %H:%M:%S}\\u003cextra\\u003e\\u003c\\u002fextra\\u003e\",\"legendgroup\":\"Washing_hands\",\"marker\":{\"color\":\"#ab63fa\",\"pattern\":{\"shape\":\"\"}},\"name\":\"Washing_hands\",\"offsetgroup\":\"Washing_hands\",\"orientation\":\"h\",\"showlegend\":true,\"textposition\":\"auto\",\"x\":[71729.0,66877.0,63738.0,61941.0,62536.0,68396.0,63430.0,61104.0,63013.0,56815.0],\"xaxis\":\"x\",\"y\":[\"Washing_hands\",\"Washing_hands\",\"Washing_hands\",\"Washing_hands\",\"Washing_hands\",\"Washing_hands\",\"Washing_hands\",\"Washing_hands\",\"Washing_hands\",\"Washing_hands\"],\"yaxis\":\"y\",\"type\":\"bar\"},{\"alignmentgroup\":\"True\",\"base\":[\"2025-05-08T17:29:40.272000\",\"2025-05-08T17:31:12.509000\",\"2025-05-08T17:39:11.425000\",\"2025-05-08T17:43:07.410000\",\"2025-05-08T17:44:35.176000\",\"2025-05-08T18:40:04.675000\",\"2025-05-08T18:41:19.034000\",\"2025-05-08T19:12:50.568000\",\"2025-05-08T19:15:32.149000\"],\"hovertemplate\":\"Activity: %{y}\\u003cbr\\u003eStart: %{base|%Y-%m-%d %H:%M:%S}\\u003cbr\\u003eEnd: %{x|%Y-%m-%d %H:%M:%S}\\u003cextra\\u003e\\u003c\\u002fextra\\u003e\",\"legendgroup\":\"Wiping\",\"marker\":{\"color\":\"#FFA15A\",\"pattern\":{\"shape\":\"\"}},\"name\":\"Wiping\",\"offsetgroup\":\"Wiping\",\"orientation\":\"h\",\"showlegend\":true,\"textposition\":\"auto\",\"x\":[69980.0,65104.0,78210.0,70509.0,99080.0,61050.0,57666.0,68197.0,65924.0],\"xaxis\":\"x\",\"y\":[\"Wiping\",\"Wiping\",\"Wiping\",\"Wiping\",\"Wiping\",\"Wiping\",\"Wiping\",\"Wiping\",\"Wiping\"],\"yaxis\":\"y\",\"type\":\"bar\"},{\"alignmentgroup\":\"True\",\"base\":[\"2025-05-08T17:33:18.046000\",\"2025-05-08T17:36:02.647000\",\"2025-05-08T17:47:14.122000\",\"2025-05-08T18:27:02.447000\",\"2025-05-08T18:34:37.198000\"],\"hovertemplate\":\"Activity: %{y}\\u003cbr\\u003eStart: %{base|%Y-%m-%d %H:%M:%S}\\u003cbr\\u003eEnd: %{x|%Y-%m-%d %H:%M:%S}\\u003cextra\\u003e\\u003c\\u002fextra\\u003e\",\"legendgroup\":\"Vacuum_Cleaner\",\"marker\":{\"color\":\"#19d3f3\",\"pattern\":{\"shape\":\"\"}},\"name\":\"Vacuum_Cleaner\",\"offsetgroup\":\"Vacuum_Cleaner\",\"orientation\":\"h\",\"showlegend\":true,\"textposition\":\"auto\",\"x\":[124195.0,140250.0,8531.0,295750.0,38945.0],\"xaxis\":\"x\",\"y\":[\"Vacuum_Cleaner\",\"Vacuum_Cleaner\",\"Vacuum_Cleaner\",\"Vacuum_Cleaner\",\"Vacuum_Cleaner\"],\"yaxis\":\"y\",\"type\":\"bar\"}],                        {\"template\":{\"data\":{\"histogram2dcontour\":[{\"type\":\"histogram2dcontour\",\"colorbar\":{\"outlinewidth\":0,\"ticks\":\"\"},\"colorscale\":[[0.0,\"#0d0887\"],[0.1111111111111111,\"#46039f\"],[0.2222222222222222,\"#7201a8\"],[0.3333333333333333,\"#9c179e\"],[0.4444444444444444,\"#bd3786\"],[0.5555555555555556,\"#d8576b\"],[0.6666666666666666,\"#ed7953\"],[0.7777777777777778,\"#fb9f3a\"],[0.8888888888888888,\"#fdca26\"],[1.0,\"#f0f921\"]]}],\"choropleth\":[{\"type\":\"choropleth\",\"colorbar\":{\"outlinewidth\":0,\"ticks\":\"\"}}],\"histogram2d\":[{\"type\":\"histogram2d\",\"colorbar\":{\"outlinewidth\":0,\"ticks\":\"\"},\"colorscale\":[[0.0,\"#0d0887\"],[0.1111111111111111,\"#46039f\"],[0.2222222222222222,\"#7201a8\"],[0.3333333333333333,\"#9c179e\"],[0.4444444444444444,\"#bd3786\"],[0.5555555555555556,\"#d8576b\"],[0.6666666666666666,\"#ed7953\"],[0.7777777777777778,\"#fb9f3a\"],[0.8888888888888888,\"#fdca26\"],[1.0,\"#f0f921\"]]}],\"heatmap\":[{\"type\":\"heatmap\",\"colorbar\":{\"outlinewidth\":0,\"ticks\":\"\"},\"colorscale\":[[0.0,\"#0d0887\"],[0.1111111111111111,\"#46039f\"],[0.2222222222222222,\"#7201a8\"],[0.3333333333333333,\"#9c179e\"],[0.4444444444444444,\"#bd3786\"],[0.5555555555555556,\"#d8576b\"],[0.6666666666666666,\"#ed7953\"],[0.7777777777777778,\"#fb9f3a\"],[0.8888888888888888,\"#fdca26\"],[1.0,\"#f0f921\"]]}],\"heatmapgl\":[{\"type\":\"heatmapgl\",\"colorbar\":{\"outlinewidth\":0,\"ticks\":\"\"},\"colorscale\":[[0.0,\"#0d0887\"],[0.1111111111111111,\"#46039f\"],[0.2222222222222222,\"#7201a8\"],[0.3333333333333333,\"#9c179e\"],[0.4444444444444444,\"#bd3786\"],[0.5555555555555556,\"#d8576b\"],[0.6666666666666666,\"#ed7953\"],[0.7777777777777778,\"#fb9f3a\"],[0.8888888888888888,\"#fdca26\"],[1.0,\"#f0f921\"]]}],\"contourcarpet\":[{\"type\":\"contourcarpet\",\"colorbar\":{\"outlinewidth\":0,\"ticks\":\"\"}}],\"contour\":[{\"type\":\"contour\",\"colorbar\":{\"outlinewidth\":0,\"ticks\":\"\"},\"colorscale\":[[0.0,\"#0d0887\"],[0.1111111111111111,\"#46039f\"],[0.2222222222222222,\"#7201a8\"],[0.3333333333333333,\"#9c179e\"],[0.4444444444444444,\"#bd3786\"],[0.5555555555555556,\"#d8576b\"],[0.6666666666666666,\"#ed7953\"],[0.7777777777777778,\"#fb9f3a\"],[0.8888888888888888,\"#fdca26\"],[1.0,\"#f0f921\"]]}],\"surface\":[{\"type\":\"surface\",\"colorbar\":{\"outlinewidth\":0,\"ticks\":\"\"},\"colorscale\":[[0.0,\"#0d0887\"],[0.1111111111111111,\"#46039f\"],[0.2222222222222222,\"#7201a8\"],[0.3333333333333333,\"#9c179e\"],[0.4444444444444444,\"#bd3786\"],[0.5555555555555556,\"#d8576b\"],[0.6666666666666666,\"#ed7953\"],[0.7777777777777778,\"#fb9f3a\"],[0.8888888888888888,\"#fdca26\"],[1.0,\"#f0f921\"]]}],\"mesh3d\":[{\"type\":\"mesh3d\",\"colorbar\":{\"outlinewidth\":0,\"ticks\":\"\"}}],\"scatter\":[{\"marker\":{\"line\":{\"color\":\"#283442\"}},\"type\":\"scatter\"}],\"parcoords\":[{\"type\":\"parcoords\",\"line\":{\"colorbar\":{\"outlinewidth\":0,\"ticks\":\"\"}}}],\"scatterpolargl\":[{\"type\":\"scatterpolargl\",\"marker\":{\"colorbar\":{\"outlinewidth\":0,\"ticks\":\"\"}}}],\"bar\":[{\"error_x\":{\"color\":\"#f2f5fa\"},\"error_y\":{\"color\":\"#f2f5fa\"},\"marker\":{\"line\":{\"color\":\"rgb(17,17,17)\",\"width\":0.5},\"pattern\":{\"fillmode\":\"overlay\",\"size\":10,\"solidity\":0.2}},\"type\":\"bar\"}],\"scattergeo\":[{\"type\":\"scattergeo\",\"marker\":{\"colorbar\":{\"outlinewidth\":0,\"ticks\":\"\"}}}],\"scatterpolar\":[{\"type\":\"scatterpolar\",\"marker\":{\"colorbar\":{\"outlinewidth\":0,\"ticks\":\"\"}}}],\"histogram\":[{\"marker\":{\"pattern\":{\"fillmode\":\"overlay\",\"size\":10,\"solidity\":0.2}},\"type\":\"histogram\"}],\"scattergl\":[{\"marker\":{\"line\":{\"color\":\"#283442\"}},\"type\":\"scattergl\"}],\"scatter3d\":[{\"type\":\"scatter3d\",\"line\":{\"colorbar\":{\"outlinewidth\":0,\"ticks\":\"\"}},\"marker\":{\"colorbar\":{\"outlinewidth\":0,\"ticks\":\"\"}}}],\"scattermapbox\":[{\"type\":\"scattermapbox\",\"marker\":{\"colorbar\":{\"outlinewidth\":0,\"ticks\":\"\"}}}],\"scatterternary\":[{\"type\":\"scatterternary\",\"marker\":{\"colorbar\":{\"outlinewidth\":0,\"ticks\":\"\"}}}],\"scattercarpet\":[{\"type\":\"scattercarpet\",\"marker\":{\"colorbar\":{\"outlinewidth\":0,\"ticks\":\"\"}}}],\"carpet\":[{\"aaxis\":{\"endlinecolor\":\"#A2B1C6\",\"gridcolor\":\"#506784\",\"linecolor\":\"#506784\",\"minorgridcolor\":\"#506784\",\"startlinecolor\":\"#A2B1C6\"},\"baxis\":{\"endlinecolor\":\"#A2B1C6\",\"gridcolor\":\"#506784\",\"linecolor\":\"#506784\",\"minorgridcolor\":\"#506784\",\"startlinecolor\":\"#A2B1C6\"},\"type\":\"carpet\"}],\"table\":[{\"cells\":{\"fill\":{\"color\":\"#506784\"},\"line\":{\"color\":\"rgb(17,17,17)\"}},\"header\":{\"fill\":{\"color\":\"#2a3f5f\"},\"line\":{\"color\":\"rgb(17,17,17)\"}},\"type\":\"table\"}],\"barpolar\":[{\"marker\":{\"line\":{\"color\":\"rgb(17,17,17)\",\"width\":0.5},\"pattern\":{\"fillmode\":\"overlay\",\"size\":10,\"solidity\":0.2}},\"type\":\"barpolar\"}],\"pie\":[{\"automargin\":true,\"type\":\"pie\"}]},\"layout\":{\"autotypenumbers\":\"strict\",\"colorway\":[\"#636efa\",\"#EF553B\",\"#00cc96\",\"#ab63fa\",\"#FFA15A\",\"#19d3f3\",\"#FF6692\",\"#B6E880\",\"#FF97FF\",\"#FECB52\"],\"font\":{\"color\":\"#f2f5fa\"},\"hovermode\":\"closest\",\"hoverlabel\":{\"align\":\"left\"},\"paper_bgcolor\":\"rgb(17,17,17)\",\"plot_bgcolor\":\"rgb(17,17,17)\",\"polar\":{\"bgcolor\":\"rgb(17,17,17)\",\"angularaxis\":{\"gridcolor\":\"#506784\",\"linecolor\":\"#506784\",\"ticks\":\"\"},\"radialaxis\":{\"gridcolor\":\"#506784\",\"linecolor\":\"#506784\",\"ticks\":\"\"}},\"ternary\":{\"bgcolor\":\"rgb(17,17,17)\",\"aaxis\":{\"gridcolor\":\"#506784\",\"linecolor\":\"#506784\",\"ticks\":\"\"},\"baxis\":{\"gridcolor\":\"#506784\",\"linecolor\":\"#506784\",\"ticks\":\"\"},\"caxis\":{\"gridcolor\":\"#506784\",\"linecolor\":\"#506784\",\"ticks\":\"\"}},\"coloraxis\":{\"colorbar\":{\"outlinewidth\":0,\"ticks\":\"\"}},\"colorscale\":{\"sequential\":[[0.0,\"#0d0887\"],[0.1111111111111111,\"#46039f\"],[0.2222222222222222,\"#7201a8\"],[0.3333333333333333,\"#9c179e\"],[0.4444444444444444,\"#bd3786\"],[0.5555555555555556,\"#d8576b\"],[0.6666666666666666,\"#ed7953\"],[0.7777777777777778,\"#fb9f3a\"],[0.8888888888888888,\"#fdca26\"],[1.0,\"#f0f921\"]],\"sequentialminus\":[[0.0,\"#0d0887\"],[0.1111111111111111,\"#46039f\"],[0.2222222222222222,\"#7201a8\"],[0.3333333333333333,\"#9c179e\"],[0.4444444444444444,\"#bd3786\"],[0.5555555555555556,\"#d8576b\"],[0.6666666666666666,\"#ed7953\"],[0.7777777777777778,\"#fb9f3a\"],[0.8888888888888888,\"#fdca26\"],[1.0,\"#f0f921\"]],\"diverging\":[[0,\"#8e0152\"],[0.1,\"#c51b7d\"],[0.2,\"#de77ae\"],[0.3,\"#f1b6da\"],[0.4,\"#fde0ef\"],[0.5,\"#f7f7f7\"],[0.6,\"#e6f5d0\"],[0.7,\"#b8e186\"],[0.8,\"#7fbc41\"],[0.9,\"#4d9221\"],[1,\"#276419\"]]},\"xaxis\":{\"gridcolor\":\"#283442\",\"linecolor\":\"#506784\",\"ticks\":\"\",\"title\":{\"standoff\":15},\"zerolinecolor\":\"#283442\",\"automargin\":true,\"zerolinewidth\":2},\"yaxis\":{\"gridcolor\":\"#283442\",\"linecolor\":\"#506784\",\"ticks\":\"\",\"title\":{\"standoff\":15},\"zerolinecolor\":\"#283442\",\"automargin\":true,\"zerolinewidth\":2},\"scene\":{\"xaxis\":{\"backgroundcolor\":\"rgb(17,17,17)\",\"gridcolor\":\"#506784\",\"linecolor\":\"#506784\",\"showbackground\":true,\"ticks\":\"\",\"zerolinecolor\":\"#C8D4E3\",\"gridwidth\":2},\"yaxis\":{\"backgroundcolor\":\"rgb(17,17,17)\",\"gridcolor\":\"#506784\",\"linecolor\":\"#506784\",\"showbackground\":true,\"ticks\":\"\",\"zerolinecolor\":\"#C8D4E3\",\"gridwidth\":2},\"zaxis\":{\"backgroundcolor\":\"rgb(17,17,17)\",\"gridcolor\":\"#506784\",\"linecolor\":\"#506784\",\"showbackground\":true,\"ticks\":\"\",\"zerolinecolor\":\"#C8D4E3\",\"gridwidth\":2}},\"shapedefaults\":{\"line\":{\"color\":\"#f2f5fa\"}},\"annotationdefaults\":{\"arrowcolor\":\"#f2f5fa\",\"arrowhead\":0,\"arrowwidth\":1},\"geo\":{\"bgcolor\":\"rgb(17,17,17)\",\"landcolor\":\"rgb(17,17,17)\",\"subunitcolor\":\"#506784\",\"showland\":true,\"showlakes\":true,\"lakecolor\":\"rgb(17,17,17)\"},\"title\":{\"x\":0.05},\"updatemenudefaults\":{\"bgcolor\":\"#506784\",\"borderwidth\":0},\"sliderdefaults\":{\"bgcolor\":\"#C8D4E3\",\"borderwidth\":1,\"bordercolor\":\"rgb(17,17,17)\",\"tickwidth\":0},\"mapbox\":{\"style\":\"dark\"}}},\"xaxis\":{\"anchor\":\"y\",\"domain\":[0.0,1.0],\"type\":\"date\",\"range\":[\"2025-05-08T14:11:58\",\"2025-05-08T22:29:17.930000\"],\"dtick\":3600000,\"tickformat\":\"%H:%M\",\"title\":{\"text\":\"Time of day (HH:MM)\"},\"tickmode\":\"array\",\"tickvals\":[\"2025-05-08T14:11:58\",\"2025-05-08T15:11:58\",\"2025-05-08T16:11:58\",\"2025-05-08T17:11:58\",\"2025-05-08T18:11:58\",\"2025-05-08T19:11:58\",\"2025-05-08T20:11:58\",\"2025-05-08T21:11:58\",\"2025-05-08T22:11:58\",\"2025-05-08T22:29:17.930000\"],\"ticktext\":[\"14:11\",\"15:11\",\"16:11\",\"17:11\",\"18:11\",\"19:11\",\"20:11\",\"21:11\",\"22:11\",\"22:29\"]},\"yaxis\":{\"anchor\":\"x\",\"domain\":[0.0,1.0],\"title\":{},\"categoryorder\":\"array\",\"categoryarray\":[\"Vacuum_Cleaner\",\"Wiping\",\"Washing_hands\",\"Tooth_brushing\",\"Shower\",\"Other\"]},\"legend\":{\"title\":{\"text\":\"Activity\"},\"tracegroupgap\":0},\"margin\":{\"t\":60},\"barmode\":\"overlay\",\"title\":{\"text\":\"Ground Truth Timeline\"}},                        {\"responsive\": true}                    ).then(function(){\n",
       "                            \n",
       "var gd = document.getElementById('f6cfd125-c74c-4158-87fd-75f5c6111a2e');\n",
       "var x = new MutationObserver(function (mutations, observer) {{\n",
       "        var display = window.getComputedStyle(gd).display;\n",
       "        if (!display || display === 'none') {{\n",
       "            console.log([gd, 'removed!']);\n",
       "            Plotly.purge(gd);\n",
       "            observer.disconnect();\n",
       "        }}\n",
       "}});\n",
       "\n",
       "// Listen for the removal of the full notebook cells\n",
       "var notebookContainer = gd.closest('#notebook-container');\n",
       "if (notebookContainer) {{\n",
       "    x.observe(notebookContainer, {childList: true});\n",
       "}}\n",
       "\n",
       "// Listen for the clearing of the current output cell\n",
       "var outputEl = gd.closest('.output');\n",
       "if (outputEl) {{\n",
       "    x.observe(outputEl, {childList: true});\n",
       "}}\n",
       "\n",
       "                        })                };                });            </script>        </div>"
      ]
     },
     "metadata": {},
     "output_type": "display_data"
    },
    {
     "data": {
      "application/vnd.plotly.v1+json": {
       "data": [
        {
         "alignmentgroup": "True",
         "base": [
          "2025-05-08T14:12:05",
          "2025-05-08T14:24:01.949000",
          "2025-05-08T14:26:22.112000",
          "2025-05-08T14:26:25.321000",
          "2025-05-08T15:02:46.801000",
          "2025-05-08T15:16:17.686000",
          "2025-05-08T17:06:39.183000",
          "2025-05-08T17:12:24.529000",
          "2025-05-08T17:12:29.933000",
          "2025-05-08T17:12:48.166000",
          "2025-05-08T17:13:15.093000",
          "2025-05-08T17:13:27.073000",
          "2025-05-08T17:13:29.205000",
          "2025-05-08T17:13:34.618000",
          "2025-05-08T17:13:37.809000",
          "2025-05-08T17:15:34.981000",
          "2025-05-08T17:17:17.159000",
          "2025-05-08T17:17:23.618000",
          "2025-05-08T17:18:11.003000",
          "2025-05-08T17:18:30.912000",
          "2025-05-08T17:19:08.233000",
          "2025-05-08T17:19:33.033000",
          "2025-05-08T17:19:57.735000",
          "2025-05-08T17:20:04.160000",
          "2025-05-08T17:20:10.631000",
          "2025-05-08T17:20:20.353000",
          "2025-05-08T17:20:27.892000",
          "2025-05-08T17:20:46.202000",
          "2025-05-08T17:20:53.768000",
          "2025-05-08T17:21:02.363000",
          "2025-05-08T17:21:05.574000",
          "2025-05-08T17:21:10.968000",
          "2025-05-08T17:21:20.643000",
          "2025-05-08T17:21:26.065000",
          "2025-05-08T17:21:35.748000",
          "2025-05-08T17:21:42.200000",
          "2025-05-08T17:21:48.647000",
          "2025-05-08T17:22:18.803000",
          "2025-05-08T17:29:29.114000",
          "2025-05-08T17:29:51.317000",
          "2025-05-08T17:29:58.816000",
          "2025-05-08T17:30:28.801000",
          "2025-05-08T17:30:45.965000",
          "2025-05-08T17:30:51.336000",
          "2025-05-08T17:31:02.070000",
          "2025-05-08T17:31:04.220000",
          "2025-05-08T17:31:11.745000",
          "2025-05-08T17:31:27.336000",
          "2025-05-08T17:31:33.779000",
          "2025-05-08T17:31:58.452000",
          "2025-05-08T17:32:03.839000",
          "2025-05-08T17:32:13.502000",
          "2025-05-08T17:32:22.075000",
          "2025-05-08T17:34:56.300000",
          "2025-05-08T17:35:03.787000",
          "2025-05-08T17:35:27.456000",
          "2025-05-08T17:38:25.834000",
          "2025-05-08T17:38:27.950000",
          "2025-05-08T17:38:43.048000",
          "2025-05-08T17:39:32.397000",
          "2025-05-08T17:42:09.357000",
          "2025-05-08T17:42:37.317000",
          "2025-05-08T17:43:34.175000",
          "2025-05-08T17:43:50.313000",
          "2025-05-08T17:44:00.002000",
          "2025-05-08T17:44:19.369000",
          "2025-05-08T17:44:25.809000",
          "2025-05-08T17:44:51.585000",
          "2025-05-08T17:44:53.709000",
          "2025-05-08T17:44:57.997000",
          "2025-05-08T17:45:00.184000",
          "2025-05-08T17:45:06.665000",
          "2025-05-08T17:45:08.826000",
          "2025-05-08T17:45:24.977000",
          "2025-05-08T17:45:36.804000",
          "2025-05-08T17:45:50.736000",
          "2025-05-08T17:45:59.286000",
          "2025-05-08T17:46:02.510000",
          "2025-05-08T17:46:10.048000",
          "2025-05-08T17:46:16.489000",
          "2025-05-08T17:46:19.733000",
          "2025-05-08T17:47:12.048000",
          "2025-05-08T17:47:28.454000",
          "2025-05-08T17:48:29.854000",
          "2025-05-08T17:48:31.985000",
          "2025-05-08T17:48:37.373000",
          "2025-05-08T17:48:54.593000",
          "2025-05-08T17:48:59.977000",
          "2025-05-08T17:49:02.153000",
          "2025-05-08T17:49:08.622000",
          "2025-05-08T17:49:18.310000",
          "2025-05-08T17:49:29.025000",
          "2025-05-08T17:50:08.549000",
          "2025-05-08T17:50:18.211000",
          "2025-05-08T17:50:21.457000",
          "2025-05-08T17:57:07.699000",
          "2025-05-08T17:59:50.600000",
          "2025-05-08T18:00:02.448000",
          "2025-05-08T18:04:13.942000",
          "2025-05-08T18:04:35.335000",
          "2025-05-08T18:05:43.271000",
          "2025-05-08T18:07:25.527000",
          "2025-05-08T18:07:26.814000",
          "2025-05-08T18:07:32.202000",
          "2025-05-08T18:07:35.880000",
          "2025-05-08T18:07:41.935000",
          "2025-05-08T18:07:44.283000",
          "2025-05-08T18:08:05.216000",
          "2025-05-08T18:08:33.112000",
          "2025-05-08T18:08:34.386000",
          "2025-05-08T18:27:16.663000",
          "2025-05-08T18:27:36.105000",
          "2025-05-08T18:27:41.499000",
          "2025-05-08T18:27:51.213000",
          "2025-05-08T18:28:18.135000",
          "2025-05-08T18:28:35.379000",
          "2025-05-08T18:28:41.821000",
          "2025-05-08T18:29:51.765000",
          "2025-05-08T18:31:10.241000",
          "2025-05-08T18:31:56.433000",
          "2025-05-08T18:32:04.600000",
          "2025-05-08T18:35:20.971000",
          "2025-05-08T18:35:56.968000",
          "2025-05-08T18:36:13.794000",
          "2025-05-08T18:36:17.001000",
          "2025-05-08T18:36:30.967000",
          "2025-05-08T18:37:11.717000",
          "2025-05-08T18:37:25.638000",
          "2025-05-08T18:37:27.817000",
          "2025-05-08T18:37:35.358000",
          "2025-05-08T18:38:10.819000",
          "2025-05-08T18:38:18.339000",
          "2025-05-08T18:38:23.732000",
          "2025-05-08T18:38:44.167000",
          "2025-05-08T18:38:48.462000",
          "2025-05-08T18:39:31.385000",
          "2025-05-08T18:39:35.686000",
          "2025-05-08T18:40:17.530000",
          "2025-05-08T18:40:20.765000",
          "2025-05-08T18:40:22.934000",
          "2025-05-08T18:40:29.343000",
          "2025-05-08T18:40:34.663000",
          "2025-05-08T18:40:37.877000",
          "2025-05-08T18:40:41.093000",
          "2025-05-08T18:40:47.582000",
          "2025-05-08T18:41:05.873000",
          "2025-05-08T18:41:09.105000",
          "2025-05-08T18:41:29.940000",
          "2025-05-08T18:41:47.153000",
          "2025-05-08T18:42:14.485000",
          "2025-05-08T18:42:18.759000",
          "2025-05-08T18:42:45.758000",
          "2025-05-08T18:43:55.031000",
          "2025-05-08T18:50:16.804000",
          "2025-05-08T19:12:34.717000",
          "2025-05-08T19:13:11.323000",
          "2025-05-08T19:13:16.697000",
          "2025-05-08T19:13:19.889000",
          "2025-05-08T19:13:26.341000",
          "2025-05-08T19:13:38.123000",
          "2025-05-08T19:13:41.367000",
          "2025-05-08T19:13:56.431000",
          "2025-05-08T19:14:20.415000",
          "2025-05-08T19:14:36.581000",
          "2025-05-08T19:15:02.362000",
          "2025-05-08T19:15:04.497000",
          "2025-05-08T19:15:16.563000",
          "2025-05-08T19:15:50.391000",
          "2025-05-08T19:15:57.875000",
          "2025-05-08T19:16:08.657000",
          "2025-05-08T19:16:27.962000",
          "2025-05-08T19:16:32.272000",
          "2025-05-08T19:16:53.482000",
          "2025-05-08T19:18:02.643000",
          "2025-05-08T19:18:20.880000",
          "2025-05-08T19:18:29.476000",
          "2025-05-08T19:18:31.629000",
          "2025-05-08T19:19:27.071000",
          "2025-05-08T19:19:31.360000",
          "2025-05-08T19:19:49.641000",
          "2025-05-08T19:20:01.528000",
          "2025-05-08T19:20:18.726000",
          "2025-05-08T19:20:23.054000",
          "2025-05-08T19:20:28.405000",
          "2025-05-08T19:20:35.939000",
          "2025-05-08T19:20:40.248000",
          "2025-05-08T19:20:53.119000",
          "2025-05-08T19:21:03.865000",
          "2025-05-08T19:21:09.257000",
          "2025-05-08T19:21:18.977000",
          "2025-05-08T19:21:28.666000",
          "2025-05-08T19:21:34.050000",
          "2025-05-08T19:21:58.761000",
          "2025-05-08T19:22:00.917000",
          "2025-05-08T19:22:08.432000",
          "2025-05-08T19:22:17.052000",
          "2025-05-08T19:22:21.340000",
          "2025-05-08T19:22:41.756000",
          "2025-05-08T19:24:26.632000",
          "2025-05-08T19:24:52.830000",
          "2025-05-08T19:24:57.148000",
          "2025-05-08T19:27:00.274000",
          "2025-05-08T19:27:02.415000",
          "2025-05-08T19:27:41.358000",
          "2025-05-08T20:24:52.621000",
          "2025-05-08T20:25:25.911000",
          "2025-05-08T20:26:24.014000",
          "2025-05-08T20:26:30.407000",
          "2025-05-08T20:26:39.009000",
          "2025-05-08T20:26:46.547000",
          "2025-05-08T20:26:50.873000",
          "2025-05-08T20:26:58.421000",
          "2025-05-08T20:27:08.098000",
          "2025-05-08T20:27:16.696000",
          "2025-05-08T20:27:32.820000",
          "2025-05-08T20:27:37.122000",
          "2025-05-08T20:28:05.534000",
          "2025-05-08T20:29:04.969000",
          "2025-05-08T20:29:10.368000",
          "2025-05-08T20:29:48.376000",
          "2025-05-08T20:29:55.309000",
          "2025-05-08T20:30:20.971000",
          "2025-05-08T20:30:26.361000",
          "2025-05-08T20:30:40.320000",
          "2025-05-08T20:30:47.802000",
          "2025-05-08T20:30:56.391000",
          "2025-05-08T20:31:04.963000",
          "2025-05-08T20:31:08.154000",
          "2025-05-08T20:31:13.509000",
          "2025-05-08T20:31:15.672000",
          "2025-05-08T20:31:21.005000",
          "2025-05-08T20:31:27.452000",
          "2025-05-08T20:31:29.621000",
          "2025-05-08T20:31:32.805000",
          "2025-05-08T20:31:54.321000",
          "2025-05-08T20:32:11.512000",
          "2025-05-08T20:33:33.368000",
          "2025-05-08T20:33:55.725000",
          "2025-05-08T20:34:17.197000",
          "2025-05-08T20:35:22.408000",
          "2025-05-08T21:13:08.813000",
          "2025-05-08T21:13:17.376000",
          "2025-05-08T21:14:12.844000",
          "2025-05-08T21:14:25.795000",
          "2025-05-08T21:15:18.429000",
          "2025-05-08T21:15:33.462000",
          "2025-05-08T21:16:39.552000",
          "2025-05-08T21:16:42.991000",
          "2025-05-08T21:16:45.343000",
          "2025-05-08T21:17:13.489000",
          "2025-05-08T21:17:34.112000",
          "2025-05-08T21:17:35.419000",
          "2025-05-08T21:18:09.836000",
          "2025-05-08T21:18:14.110000",
          "2025-05-08T21:18:22.919000",
          "2025-05-08T21:18:35.914000",
          "2025-05-08T21:18:55.481000",
          "2025-05-08T21:19:09.724000",
          "2025-05-08T21:19:11.240000",
          "2025-05-08T21:19:15.774000",
          "2025-05-08T21:19:21.615000",
          "2025-05-08T21:19:35.246000",
          "2025-05-08T21:19:40.588000",
          "2025-05-08T21:19:44.939000",
          "2025-05-08T21:19:50.271000",
          "2025-05-08T21:19:56.740000",
          "2025-05-08T21:20:02.131000",
          "2025-05-08T21:20:08.577000",
          "2025-05-08T21:20:12.894000",
          "2025-05-08T21:20:17.227000",
          "2025-05-08T21:20:27.946000",
          "2025-05-08T21:20:30.123000",
          "2025-05-08T21:20:45.359000",
          "2025-05-08T21:20:58.928000",
          "2025-05-08T21:21:01.315000",
          "2025-05-08T21:21:36.356000",
          "2025-05-08T21:21:40.277000",
          "2025-05-08T21:21:57.049000",
          "2025-05-08T21:22:21.805000",
          "2025-05-08T21:22:39.024000",
          "2025-05-08T21:22:56.197000",
          "2025-05-08T21:23:00.499000",
          "2025-05-08T21:23:08.025000",
          "2025-05-08T21:23:11.266000",
          "2025-05-08T21:23:16.643000",
          "2025-05-08T21:23:20.929000",
          "2025-05-08T21:23:44.569000",
          "2025-05-08T21:23:47.789000",
          "2025-05-08T21:24:02.825000",
          "2025-05-08T21:24:11.437000",
          "2025-05-08T21:24:22.185000",
          "2025-05-08T21:24:46.011000",
          "2025-05-08T21:25:01.047000",
          "2025-05-08T21:25:12.041000",
          "2025-05-08T21:25:39.609000",
          "2025-05-08T21:25:54.845000",
          "2025-05-08T21:25:59.165000",
          "2025-05-08T21:26:02.606000",
          "2025-05-08T21:26:30.143000",
          "2025-05-08T21:26:35.530000",
          "2025-05-08T21:26:37.679000",
          "2025-05-08T21:26:51.825000",
          "2025-05-08T21:26:56.570000",
          "2025-05-08T21:26:58.933000",
          "2025-05-08T21:27:02.413000",
          "2025-05-08T21:27:12.084000",
          "2025-05-08T21:27:19.607000",
          "2025-05-08T21:27:28.201000",
          "2025-05-08T21:27:36.823000",
          "2025-05-08T21:27:54.014000",
          "2025-05-08T21:28:06.924000",
          "2025-05-08T21:28:27.390000",
          "2025-05-08T21:28:33.849000",
          "2025-05-08T21:28:35.985000",
          "2025-05-08T21:28:40.241000",
          "2025-05-08T21:29:29.626000",
          "2025-05-08T21:29:31.779000",
          "2025-05-08T21:29:49.018000",
          "2025-05-08T21:29:55.487000",
          "2025-05-08T21:30:00.830000",
          "2025-05-08T21:30:08.584000",
          "2025-05-08T21:30:19.275000",
          "2025-05-08T21:30:29.935000",
          "2025-05-08T21:30:33.179000",
          "2025-05-08T21:30:38.523000",
          "2025-05-08T21:31:06.117000",
          "2025-05-08T21:31:15.773000",
          "2025-05-08T21:31:27.610000",
          "2025-05-08T21:31:34.043000",
          "2025-05-08T21:31:38.325000",
          "2025-05-08T21:31:42.623000",
          "2025-05-08T21:33:04.695000",
          "2025-05-08T21:33:06.827000",
          "2025-05-08T21:34:14.268000",
          "2025-05-08T21:35:41.310000",
          "2025-05-08T21:36:33.047000",
          "2025-05-08T21:43:31.117000",
          "2025-05-08T21:43:38.675000",
          "2025-05-08T21:43:42.999000",
          "2025-05-08T21:43:46.215000",
          "2025-05-08T21:43:48.351000",
          "2025-05-08T21:43:51.591000",
          "2025-05-08T21:43:59.070000",
          "2025-05-08T21:51:32.422000",
          "2025-05-08T21:52:36.603000",
          "2025-05-08T21:52:43.041000",
          "2025-05-08T21:52:47.555000",
          "2025-05-08T21:52:50.997000",
          "2025-05-08T21:52:55.484000",
          "2025-05-08T21:54:08.576000",
          "2025-05-08T21:54:33.262000",
          "2025-05-08T21:55:04.656000",
          "2025-05-08T21:55:06.793000",
          "2025-05-08T21:55:11.083000",
          "2025-05-08T21:55:13.261000",
          "2025-05-08T21:55:31.453000",
          "2025-05-08T21:55:33.610000",
          "2025-05-08T21:57:48.738000",
          "2025-05-08T21:57:53.031000",
          "2025-05-08T21:57:58.377000",
          "2025-05-08T21:58:01.611000",
          "2025-05-08T21:58:20.971000",
          "2025-05-08T21:58:51.167000",
          "2025-05-08T21:58:57.647000",
          "2025-05-08T21:59:06.251000",
          "2025-05-08T22:00:47.390000",
          "2025-05-08T22:00:52.766000",
          "2025-05-08T22:01:11.216000",
          "2025-05-08T22:01:18.769000",
          "2025-05-08T22:01:23.053000",
          "2025-05-08T22:01:25.209000",
          "2025-05-08T22:01:30.553000",
          "2025-05-08T22:01:54.417000",
          "2025-05-08T22:03:31.999000",
          "2025-05-08T22:04:00.995000",
          "2025-05-08T22:04:05.257000",
          "2025-05-08T22:04:46.802000",
          "2025-05-08T22:05:38.304000",
          "2025-05-08T22:06:16.969000",
          "2025-05-08T22:06:37.457000",
          "2025-05-08T22:06:42.859000",
          "2025-05-08T22:07:25.921000",
          "2025-05-08T22:08:41.801000"
         ],
         "hovertemplate": "Activity: %{y}<br>Start: %{base|%Y-%m-%d %H:%M:%S}<br>End: %{x|%Y-%m-%d %H:%M:%S}<extra></extra>",
         "legendgroup": "Other",
         "marker": {
          "color": "#636efa",
          "pattern": {
           "shape": ""
          }
         },
         "name": "Other",
         "offsetgroup": "Other",
         "orientation": "h",
         "showlegend": true,
         "textposition": "auto",
         "x": [
          715887.0,
          139101.0,
          1094.0,
          2180409.0,
          809796.0,
          6620393.0,
          344276.0,
          4346.0,
          16089.0,
          25865.0,
          10918.0,
          1073.0,
          4321.0,
          1071.0,
          116110.0,
          94629.0,
          3227.0,
          2144.0,
          18842.0,
          35149.0,
          23693.0,
          19354.0,
          1082.0,
          5401.0,
          8660.0,
          6449.0,
          7530.0,
          6470.0,
          5369.0,
          2147.0,
          4334.0,
          6443.0,
          3236.0,
          8592.0,
          3213.0,
          4282.0,
          4298.0,
          427108.0,
          20076.0,
          1066.0,
          1073.0,
          2146.0,
          1076.0,
          9671.0,
          1088.0,
          6427.0,
          11281.0,
          1070.0,
          1076.0,
          3204.0,
          2124.0,
          4271.0,
          68110.0,
          5362.0,
          5389.0,
          47031.0,
          1059.0,
          14026.0,
          40734.0,
          154825.0,
          26885.0,
          39629.0,
          15069.0,
          8594.0,
          16142.0,
          3232.0,
          19300.0,
          1061.0,
          1102.0,
          1100.0,
          3242.0,
          1071.0,
          1068.0,
          6445.0,
          3200.0,
          2129.0,
          2169.0,
          1061.0,
          2165.0,
          2177.0,
          50145.0,
          15337.0,
          60337.0,
          1066.0,
          4312.0,
          16157.0,
          2158.0,
          1062.0,
          4297.0,
          8596.0,
          9653.0,
          38458.0,
          4294.0,
          2122.0,
          405181.0,
          161832.0,
          10751.0,
          250389.0,
          19261.0,
          66873.0,
          99024.0,
          1063.0,
          3248.0,
          2591.0,
          4998.0,
          1068.0,
          16630.0,
          26811.0,
          1060.0,
          1121217.0,
          1097.0,
          1095.0,
          2183.0,
          1064.0,
          1109.0,
          1057.0,
          2132.0,
          1095.0,
          1064.0,
          7104.0,
          163751.0,
          34939.0,
          15762.0,
          2141.0,
          12885.0,
          39682.0,
          12859.0,
          1106.0,
          4313.0,
          34396.0,
          6459.0,
          3228.0,
          19372.0,
          3220.0,
          41831.0,
          1070.0,
          39693.0,
          2166.0,
          1073.0,
          4283.0,
          4258.0,
          2158.0,
          2150.0,
          5419.0,
          15071.0,
          1069.0,
          19772.0,
          1105.0,
          17735.0,
          1055.0,
          23533.0,
          3667.0,
          380716.0,
          1336841.0,
          25861.0,
          3217.0,
          1060.0,
          1071.0,
          4306.0,
          1067.0,
          7555.0,
          20753.0,
          15106.0,
          24705.0,
          1073.0,
          10976.0,
          27411.0,
          2165.0,
          3243.0,
          8566.0,
          3196.0,
          20143.0,
          62690.0,
          1058.0,
          6472.0,
          1063.0,
          54377.0,
          3206.0,
          13971.0,
          10810.0,
          15068.0,
          3238.0,
          4280.0,
          5378.0,
          2142.0,
          8587.0,
          8613.0,
          4322.0,
          8647.0,
          6466.0,
          4297.0,
          23647.0,
          1093.0,
          5381.0,
          1111.0,
          3218.0,
          3226.0,
          51070.0,
          25100.0,
          3200.0,
          122032.0,
          1066.0,
          37875.0,
          3430195.0,
          32226.0,
          51668.0,
          3195.0,
          1063.0,
          6473.0,
          1095.0,
          6464.0,
          8615.0,
          7516.0,
          2126.0,
          1074.0,
          26287.0,
          5646.0,
          4288.0,
          37792.0,
          4568.0,
          13809.0,
          3221.0,
          1071.0,
          6424.0,
          7517.0,
          3212.0,
          2128.0,
          4292.0,
          1100.0,
          4262.0,
          3232.0,
          1062.0,
          2122.0,
          8623.0,
          1062.0,
          49355.0,
          3009.0,
          20404.0,
          64141.0,
          2265341.0,
          7503.0,
          46873.0,
          4306.0,
          6424.0,
          13933.0,
          51838.0,
          1071.0,
          1064.0,
          1086.0,
          1066.0,
          1093.0,
          1066.0,
          3216.0,
          2141.0,
          8475.0,
          4337.0,
          5438.0,
          1305.0,
          1084.0,
          4542.0,
          3938.0,
          4282.0,
          2186.0,
          1060.0,
          3237.0,
          2159.0,
          1058.0,
          1069.0,
          3228.0,
          3235.0,
          1075.0,
          3219.0,
          2603.0,
          1100.0,
          1516.0,
          2609.0,
          1498.0,
          4354.0,
          2157.0,
          1057.0,
          2145.0,
          1071.0,
          1096.0,
          1086.0,
          1060.0,
          2177.0,
          1066.0,
          3215.0,
          2147.0,
          1060.0,
          1086.0,
          1068.0,
          2155.0,
          27354.0,
          1068.0,
          2196.0,
          1093.0,
          3896.0,
          2148.0,
          1089.0,
          3220.0,
          1538.0,
          2146.0,
          2408.0,
          1087.0,
          1089.0,
          1063.0,
          5403.0,
          1057.0,
          1097.0,
          19391.0,
          1068.0,
          1061.0,
          3187.0,
          48324.0,
          1090.0,
          11851.0,
          3231.0,
          4279.0,
          6661.0,
          1063.0,
          9606.0,
          1114.0,
          4280.0,
          26521.0,
          8556.0,
          10768.0,
          5365.0,
          3204.0,
          1060.0,
          31505.0,
          1067.0,
          65529.0,
          85955.0,
          50671.0,
          414850.0,
          4312.0,
          2159.0,
          1065.0,
          1074.0,
          2169.0,
          6417.0,
          452288.0,
          35986.0,
          1060.0,
          1061.0,
          2158.0,
          1274.0,
          71979.0,
          22557.0,
          30331.0,
          1066.0,
          3222.0,
          1100.0,
          16062.0,
          1101.0,
          134045.0,
          3232.0,
          4284.0,
          2157.0,
          18294.0,
          28051.0,
          5373.0,
          7493.0,
          100038.0,
          4306.0,
          17392.0,
          5392.0,
          1064.0,
          1064.0,
          2120.0,
          22798.0,
          73635.0,
          1065.0,
          3203.0,
          40460.0,
          50403.0,
          37607.0,
          18356.0,
          4312.0,
          3214.0,
          73711.0,
          1243129.0
         ],
         "xaxis": "x",
         "y": [
          "Other",
          "Other",
          "Other",
          "Other",
          "Other",
          "Other",
          "Other",
          "Other",
          "Other",
          "Other",
          "Other",
          "Other",
          "Other",
          "Other",
          "Other",
          "Other",
          "Other",
          "Other",
          "Other",
          "Other",
          "Other",
          "Other",
          "Other",
          "Other",
          "Other",
          "Other",
          "Other",
          "Other",
          "Other",
          "Other",
          "Other",
          "Other",
          "Other",
          "Other",
          "Other",
          "Other",
          "Other",
          "Other",
          "Other",
          "Other",
          "Other",
          "Other",
          "Other",
          "Other",
          "Other",
          "Other",
          "Other",
          "Other",
          "Other",
          "Other",
          "Other",
          "Other",
          "Other",
          "Other",
          "Other",
          "Other",
          "Other",
          "Other",
          "Other",
          "Other",
          "Other",
          "Other",
          "Other",
          "Other",
          "Other",
          "Other",
          "Other",
          "Other",
          "Other",
          "Other",
          "Other",
          "Other",
          "Other",
          "Other",
          "Other",
          "Other",
          "Other",
          "Other",
          "Other",
          "Other",
          "Other",
          "Other",
          "Other",
          "Other",
          "Other",
          "Other",
          "Other",
          "Other",
          "Other",
          "Other",
          "Other",
          "Other",
          "Other",
          "Other",
          "Other",
          "Other",
          "Other",
          "Other",
          "Other",
          "Other",
          "Other",
          "Other",
          "Other",
          "Other",
          "Other",
          "Other",
          "Other",
          "Other",
          "Other",
          "Other",
          "Other",
          "Other",
          "Other",
          "Other",
          "Other",
          "Other",
          "Other",
          "Other",
          "Other",
          "Other",
          "Other",
          "Other",
          "Other",
          "Other",
          "Other",
          "Other",
          "Other",
          "Other",
          "Other",
          "Other",
          "Other",
          "Other",
          "Other",
          "Other",
          "Other",
          "Other",
          "Other",
          "Other",
          "Other",
          "Other",
          "Other",
          "Other",
          "Other",
          "Other",
          "Other",
          "Other",
          "Other",
          "Other",
          "Other",
          "Other",
          "Other",
          "Other",
          "Other",
          "Other",
          "Other",
          "Other",
          "Other",
          "Other",
          "Other",
          "Other",
          "Other",
          "Other",
          "Other",
          "Other",
          "Other",
          "Other",
          "Other",
          "Other",
          "Other",
          "Other",
          "Other",
          "Other",
          "Other",
          "Other",
          "Other",
          "Other",
          "Other",
          "Other",
          "Other",
          "Other",
          "Other",
          "Other",
          "Other",
          "Other",
          "Other",
          "Other",
          "Other",
          "Other",
          "Other",
          "Other",
          "Other",
          "Other",
          "Other",
          "Other",
          "Other",
          "Other",
          "Other",
          "Other",
          "Other",
          "Other",
          "Other",
          "Other",
          "Other",
          "Other",
          "Other",
          "Other",
          "Other",
          "Other",
          "Other",
          "Other",
          "Other",
          "Other",
          "Other",
          "Other",
          "Other",
          "Other",
          "Other",
          "Other",
          "Other",
          "Other",
          "Other",
          "Other",
          "Other",
          "Other",
          "Other",
          "Other",
          "Other",
          "Other",
          "Other",
          "Other",
          "Other",
          "Other",
          "Other",
          "Other",
          "Other",
          "Other",
          "Other",
          "Other",
          "Other",
          "Other",
          "Other",
          "Other",
          "Other",
          "Other",
          "Other",
          "Other",
          "Other",
          "Other",
          "Other",
          "Other",
          "Other",
          "Other",
          "Other",
          "Other",
          "Other",
          "Other",
          "Other",
          "Other",
          "Other",
          "Other",
          "Other",
          "Other",
          "Other",
          "Other",
          "Other",
          "Other",
          "Other",
          "Other",
          "Other",
          "Other",
          "Other",
          "Other",
          "Other",
          "Other",
          "Other",
          "Other",
          "Other",
          "Other",
          "Other",
          "Other",
          "Other",
          "Other",
          "Other",
          "Other",
          "Other",
          "Other",
          "Other",
          "Other",
          "Other",
          "Other",
          "Other",
          "Other",
          "Other",
          "Other",
          "Other",
          "Other",
          "Other",
          "Other",
          "Other",
          "Other",
          "Other",
          "Other",
          "Other",
          "Other",
          "Other",
          "Other",
          "Other",
          "Other",
          "Other",
          "Other",
          "Other",
          "Other",
          "Other",
          "Other",
          "Other",
          "Other",
          "Other",
          "Other",
          "Other",
          "Other",
          "Other",
          "Other",
          "Other",
          "Other",
          "Other",
          "Other",
          "Other",
          "Other",
          "Other",
          "Other",
          "Other",
          "Other",
          "Other",
          "Other",
          "Other",
          "Other",
          "Other",
          "Other",
          "Other",
          "Other",
          "Other",
          "Other",
          "Other",
          "Other",
          "Other",
          "Other",
          "Other",
          "Other",
          "Other",
          "Other",
          "Other",
          "Other",
          "Other",
          "Other",
          "Other",
          "Other",
          "Other",
          "Other",
          "Other",
          "Other",
          "Other",
          "Other",
          "Other",
          "Other",
          "Other",
          "Other",
          "Other",
          "Other",
          "Other",
          "Other",
          "Other",
          "Other",
          "Other",
          "Other",
          "Other",
          "Other",
          "Other",
          "Other",
          "Other",
          "Other",
          "Other",
          "Other",
          "Other"
         ],
         "yaxis": "y",
         "type": "bar"
        },
        {
         "alignmentgroup": "True",
         "base": [
          "2025-05-08T14:24:00.887000",
          "2025-05-08T14:26:21.050000",
          "2025-05-08T14:26:23.206000",
          "2025-05-08T15:02:45.730000",
          "2025-05-08T15:16:16.597000",
          "2025-05-08T17:06:38.079000",
          "2025-05-08T17:12:23.459000",
          "2025-05-08T17:12:28.875000",
          "2025-05-08T17:12:46.022000",
          "2025-05-08T17:13:26.011000",
          "2025-05-08T17:13:35.689000",
          "2025-05-08T17:15:33.919000",
          "2025-05-08T17:17:09.610000",
          "2025-05-08T17:17:25.762000",
          "2025-05-08T17:17:51.618000",
          "2025-05-08T17:19:52.387000",
          "2025-05-08T17:19:58.817000",
          "2025-05-08T17:20:03.097000",
          "2025-05-08T17:20:19.291000",
          "2025-05-08T17:20:36.495000",
          "2025-05-08T17:20:44.075000",
          "2025-05-08T17:20:59.137000",
          "2025-05-08T17:21:52.945000",
          "2025-05-08T17:29:25.911000",
          "2025-05-08T17:29:49.190000",
          "2025-05-08T17:29:52.383000",
          "2025-05-08T17:30:00.957000",
          "2025-05-08T17:30:07.376000",
          "2025-05-08T17:31:01.007000",
          "2025-05-08T17:31:03.158000",
          "2025-05-08T17:32:18.863000",
          "2025-05-08T17:33:30.185000",
          "2025-05-08T17:35:09.176000",
          "2025-05-08T17:36:14.487000",
          "2025-05-08T17:38:26.893000",
          "2025-05-08T17:38:41.976000",
          "2025-05-08T17:43:49.244000",
          "2025-05-08T17:44:16.144000",
          "2025-05-08T17:44:22.601000",
          "2025-05-08T17:45:42.128000",
          "2025-05-08T17:45:45.350000",
          "2025-05-08T17:48:53.530000",
          "2025-05-08T17:48:56.751000",
          "2025-05-08T17:49:01.039000",
          "2025-05-08T17:49:06.450000",
          "2025-05-08T18:04:12.837000",
          "2025-05-08T18:04:33.203000",
          "2025-05-08T18:05:42.208000",
          "2025-05-08T18:27:17.760000",
          "2025-05-08T18:27:37.200000",
          "2025-05-08T18:27:43.682000",
          "2025-05-08T18:27:52.277000",
          "2025-05-08T18:28:19.244000",
          "2025-05-08T18:28:36.436000",
          "2025-05-08T18:28:43.953000",
          "2025-05-08T18:29:52.860000",
          "2025-05-08T18:31:11.305000",
          "2025-05-08T18:34:48.351000",
          "2025-05-08T18:36:15.935000",
          "2025-05-08T18:40:15.379000",
          "2025-05-08T18:40:19.696000",
          "2025-05-08T18:40:27.217000",
          "2025-05-08T18:40:36.821000",
          "2025-05-08T18:41:02.653000",
          "2025-05-08T18:41:06.942000",
          "2025-05-08T18:41:28.877000",
          "2025-05-08T18:41:31.045000",
          "2025-05-08T18:41:33.182000",
          "2025-05-08T18:41:36.420000",
          "2025-05-08T18:42:12.354000",
          "2025-05-08T18:42:42.292000",
          "2025-05-08T18:42:49.425000",
          "2025-05-08T18:43:51.809000",
          "2025-05-08T19:12:33.645000",
          "2025-05-08T19:14:17.184000",
          "2025-05-08T19:16:02.210000",
          "2025-05-08T19:16:06.489000",
          "2025-05-08T19:18:30.539000",
          "2025-05-08T19:19:46.396000",
          "2025-05-08T19:20:48.835000",
          "2025-05-08T19:21:02.807000",
          "2025-05-08T19:22:06.298000",
          "2025-05-08T19:22:09.543000",
          "2025-05-08T19:22:24.566000",
          "2025-05-08T19:23:32.826000",
          "2025-05-08T19:26:59.180000",
          "2025-05-08T19:27:01.340000",
          "2025-05-08T20:26:18.667000",
          "2025-05-08T20:27:18.822000",
          "2025-05-08T20:27:33.894000",
          "2025-05-08T20:28:03.409000",
          "2025-05-08T20:28:11.180000",
          "2025-05-08T20:28:34.863000",
          "2025-05-08T20:28:53.154000",
          "2025-05-08T20:29:48.160000",
          "2025-05-08T20:29:52.944000",
          "2025-05-08T20:30:09.118000",
          "2025-05-08T20:30:24.192000",
          "2025-05-08T20:30:27.432000",
          "2025-05-08T20:31:00.665000",
          "2025-05-08T20:31:03.893000",
          "2025-05-08T20:31:12.446000",
          "2025-05-08T20:31:14.609000",
          "2025-05-08T20:31:24.237000",
          "2025-05-08T20:31:26.392000",
          "2025-05-08T20:31:41.428000",
          "2025-05-08T20:31:44.639000",
          "2025-05-08T20:31:55.383000",
          "2025-05-08T20:33:00.867000",
          "2025-05-08T20:33:36.377000",
          "2025-05-08T21:13:16.316000",
          "2025-05-08T21:14:04.249000",
          "2025-05-08T21:14:17.150000",
          "2025-05-08T21:14:32.219000",
          "2025-05-08T21:14:58.025000",
          "2025-05-08T21:15:03.386000",
          "2025-05-08T21:16:25.300000",
          "2025-05-08T21:16:40.623000",
          "2025-05-08T21:16:44.055000",
          "2025-05-08T21:16:46.429000",
          "2025-05-08T21:17:14.555000",
          "2025-05-08T21:17:35.205000",
          "2025-05-08T21:17:36.485000",
          "2025-05-08T21:18:16.251000",
          "2025-05-08T21:18:31.394000",
          "2025-05-08T21:18:40.251000",
          "2025-05-08T21:19:00.919000",
          "2025-05-08T21:19:11.029000",
          "2025-05-08T21:19:12.324000",
          "2025-05-08T21:19:20.316000",
          "2025-05-08T21:19:25.553000",
          "2025-05-08T21:19:42.774000",
          "2025-05-08T21:19:45.999000",
          "2025-05-08T21:19:53.508000",
          "2025-05-08T21:19:58.899000",
          "2025-05-08T21:20:03.189000",
          "2025-05-08T21:20:10.745000",
          "2025-05-08T21:20:16.122000",
          "2025-05-08T21:20:20.462000",
          "2025-05-08T21:20:29.021000",
          "2025-05-08T21:20:33.342000",
          "2025-05-08T21:20:47.962000",
          "2025-05-08T21:21:00.028000",
          "2025-05-08T21:21:02.831000",
          "2025-05-08T21:21:38.965000",
          "2025-05-08T21:21:41.775000",
          "2025-05-08T21:22:01.403000",
          "2025-05-08T21:22:23.962000",
          "2025-05-08T21:22:40.081000",
          "2025-05-08T21:22:58.342000",
          "2025-05-08T21:23:01.570000",
          "2025-05-08T21:23:09.121000",
          "2025-05-08T21:23:12.352000",
          "2025-05-08T21:23:17.703000",
          "2025-05-08T21:23:23.106000",
          "2025-05-08T21:23:33.846000",
          "2025-05-08T21:23:45.635000",
          "2025-05-08T21:23:51.004000",
          "2025-05-08T21:24:04.972000",
          "2025-05-08T21:24:12.497000",
          "2025-05-08T21:24:23.271000",
          "2025-05-08T21:24:47.079000",
          "2025-05-08T21:25:03.202000",
          "2025-05-08T21:25:39.395000",
          "2025-05-08T21:25:40.677000",
          "2025-05-08T21:25:57.041000",
          "2025-05-08T21:26:00.258000",
          "2025-05-08T21:26:06.502000",
          "2025-05-08T21:26:32.291000",
          "2025-05-08T21:26:36.619000",
          "2025-05-08T21:26:40.899000",
          "2025-05-08T21:26:53.363000",
          "2025-05-08T21:26:58.716000",
          "2025-05-08T21:27:01.341000",
          "2025-05-08T21:27:03.500000",
          "2025-05-08T21:27:13.173000",
          "2025-05-08T21:27:20.670000",
          "2025-05-08T21:27:33.604000",
          "2025-05-08T21:27:37.880000",
          "2025-05-08T21:27:55.111000",
          "2025-05-08T21:28:26.315000",
          "2025-05-08T21:28:28.458000",
          "2025-05-08T21:28:34.910000",
          "2025-05-08T21:28:39.172000",
          "2025-05-08T21:29:43.630000",
          "2025-05-08T21:29:53.310000",
          "2025-05-08T21:29:59.766000",
          "2025-05-08T21:30:07.491000",
          "2025-05-08T21:30:09.647000",
          "2025-05-08T21:31:14.673000",
          "2025-05-08T21:31:32.975000",
          "2025-05-08T21:31:37.247000",
          "2025-05-08T21:31:39.385000",
          "2025-05-08T21:32:14.128000",
          "2025-05-08T21:34:12.356000",
          "2025-05-08T21:35:40.223000",
          "2025-05-08T21:43:27.897000",
          "2025-05-08T21:43:35.429000",
          "2025-05-08T21:43:40.834000",
          "2025-05-08T21:43:44.064000",
          "2025-05-08T21:43:47.289000",
          "2025-05-08T21:43:50.520000",
          "2025-05-08T21:52:10.580000",
          "2025-05-08T21:52:17.036000",
          "2025-05-08T21:52:37.663000",
          "2025-05-08T21:52:44.102000",
          "2025-05-08T21:52:53.335000",
          "2025-05-08T21:57:57.315000",
          "2025-05-08T21:58:19.905000",
          "2025-05-08T22:01:10.158000",
          "2025-05-08T22:01:16.608000",
          "2025-05-08T22:01:19.833000",
          "2025-05-08T22:01:24.117000",
          "2025-05-08T22:01:27.329000",
          "2025-05-08T22:01:53.351000",
          "2025-05-08T22:03:08.052000",
          "2025-05-08T22:03:33.064000",
          "2025-05-08T22:03:57.774000",
          "2025-05-08T22:06:15.911000",
          "2025-05-08T22:06:35.325000",
          "2025-05-08T22:06:46.073000",
          "2025-05-08T22:06:59.006000",
          "2025-05-08T22:07:08.706000",
          "2025-05-08T22:08:39.632000"
         ],
         "hovertemplate": "Activity: %{y}<br>Start: %{base|%Y-%m-%d %H:%M:%S}<br>End: %{x|%Y-%m-%d %H:%M:%S}<extra></extra>",
         "legendgroup": "Shower",
         "marker": {
          "color": "#EF553B",
          "pattern": {
           "shape": ""
          }
         },
         "name": "Shower",
         "offsetgroup": "Shower",
         "orientation": "h",
         "showlegend": true,
         "textposition": "auto",
         "x": [
          1062.0,
          1062.0,
          2115.0,
          1071.0,
          1089.0,
          1104.0,
          1070.0,
          1058.0,
          2144.0,
          1062.0,
          2120.0,
          1062.0,
          7549.0,
          24790.0,
          19385.0,
          5348.0,
          1069.0,
          1063.0,
          1062.0,
          6474.0,
          2127.0,
          1100.0,
          25858.0,
          3203.0,
          2127.0,
          6433.0,
          2128.0,
          1073.0,
          1063.0,
          1062.0,
          1057.0,
          86115.0,
          18280.0,
          131347.0,
          1057.0,
          1072.0,
          1069.0,
          3225.0,
          3208.0,
          1066.0,
          1059.0,
          1063.0,
          3226.0,
          1114.0,
          2172.0,
          1105.0,
          2132.0,
          1063.0,
          18345.0,
          4299.0,
          7531.0,
          25858.0,
          16135.0,
          5385.0,
          67812.0,
          77381.0,
          45128.0,
          32620.0,
          1066.0,
          2151.0,
          1069.0,
          1061.0,
          1056.0,
          3220.0,
          2163.0,
          1063.0,
          1066.0,
          2168.0,
          6420.0,
          2131.0,
          3466.0,
          59161.0,
          3222.0,
          1072.0,
          3231.0,
          1065.0,
          1064.0,
          1090.0,
          1114.0,
          2131.0,
          1058.0,
          1073.0,
          5354.0,
          17190.0,
          53806.0,
          1094.0,
          1075.0,
          5347.0,
          13998.0,
          3228.0,
          2125.0,
          21528.0,
          17184.0,
          11815.0,
          216.0,
          2365.0,
          11853.0,
          2169.0,
          12888.0,
          1070.0,
          1070.0,
          1063.0,
          1063.0,
          1085.0,
          1060.0,
          2123.0,
          9682.0,
          16129.0,
          32501.0,
          19348.0,
          1060.0,
          7538.0,
          8645.0,
          21462.0,
          3232.0,
          15043.0,
          14252.0,
          2368.0,
          1288.0,
          27060.0,
          19557.0,
          214.0,
          33351.0,
          6668.0,
          4520.0,
          15230.0,
          8805.0,
          211.0,
          3450.0,
          1299.0,
          9693.0,
          2165.0,
          4272.0,
          3232.0,
          3232.0,
          5388.0,
          2149.0,
          1105.0,
          5329.0,
          1102.0,
          12017.0,
          10966.0,
          1287.0,
          33525.0,
          1312.0,
          15274.0,
          20402.0,
          15062.0,
          16116.0,
          2157.0,
          6455.0,
          2145.0,
          4291.0,
          3226.0,
          9680.0,
          10723.0,
          2154.0,
          11821.0,
          6465.0,
          9688.0,
          22740.0,
          13968.0,
          8839.0,
          214.0,
          14168.0,
          2124.0,
          2348.0,
          23641.0,
          3239.0,
          1060.0,
          10926.0,
          3207.0,
          217.0,
          1072.0,
          8584.0,
          6434.0,
          7531.0,
          3219.0,
          16134.0,
          11813.0,
          1075.0,
          5391.0,
          1075.0,
          1069.0,
          4289.0,
          1067.0,
          1064.0,
          1093.0,
          9628.0,
          1100.0,
          1068.0,
          1078.0,
          3238.0,
          50567.0,
          1912.0,
          1087.0,
          3220.0,
          3246.0,
          2165.0,
          2151.0,
          1062.0,
          1071.0,
          4302.0,
          19567.0,
          5378.0,
          2162.0,
          2149.0,
          1062.0,
          1066.0,
          1058.0,
          2161.0,
          3220.0,
          1092.0,
          3224.0,
          1066.0,
          23947.0,
          23617.0,
          3221.0,
          1058.0,
          2132.0,
          9678.0,
          7549.0,
          17215.0,
          2169.0
         ],
         "xaxis": "x",
         "y": [
          "Shower",
          "Shower",
          "Shower",
          "Shower",
          "Shower",
          "Shower",
          "Shower",
          "Shower",
          "Shower",
          "Shower",
          "Shower",
          "Shower",
          "Shower",
          "Shower",
          "Shower",
          "Shower",
          "Shower",
          "Shower",
          "Shower",
          "Shower",
          "Shower",
          "Shower",
          "Shower",
          "Shower",
          "Shower",
          "Shower",
          "Shower",
          "Shower",
          "Shower",
          "Shower",
          "Shower",
          "Shower",
          "Shower",
          "Shower",
          "Shower",
          "Shower",
          "Shower",
          "Shower",
          "Shower",
          "Shower",
          "Shower",
          "Shower",
          "Shower",
          "Shower",
          "Shower",
          "Shower",
          "Shower",
          "Shower",
          "Shower",
          "Shower",
          "Shower",
          "Shower",
          "Shower",
          "Shower",
          "Shower",
          "Shower",
          "Shower",
          "Shower",
          "Shower",
          "Shower",
          "Shower",
          "Shower",
          "Shower",
          "Shower",
          "Shower",
          "Shower",
          "Shower",
          "Shower",
          "Shower",
          "Shower",
          "Shower",
          "Shower",
          "Shower",
          "Shower",
          "Shower",
          "Shower",
          "Shower",
          "Shower",
          "Shower",
          "Shower",
          "Shower",
          "Shower",
          "Shower",
          "Shower",
          "Shower",
          "Shower",
          "Shower",
          "Shower",
          "Shower",
          "Shower",
          "Shower",
          "Shower",
          "Shower",
          "Shower",
          "Shower",
          "Shower",
          "Shower",
          "Shower",
          "Shower",
          "Shower",
          "Shower",
          "Shower",
          "Shower",
          "Shower",
          "Shower",
          "Shower",
          "Shower",
          "Shower",
          "Shower",
          "Shower",
          "Shower",
          "Shower",
          "Shower",
          "Shower",
          "Shower",
          "Shower",
          "Shower",
          "Shower",
          "Shower",
          "Shower",
          "Shower",
          "Shower",
          "Shower",
          "Shower",
          "Shower",
          "Shower",
          "Shower",
          "Shower",
          "Shower",
          "Shower",
          "Shower",
          "Shower",
          "Shower",
          "Shower",
          "Shower",
          "Shower",
          "Shower",
          "Shower",
          "Shower",
          "Shower",
          "Shower",
          "Shower",
          "Shower",
          "Shower",
          "Shower",
          "Shower",
          "Shower",
          "Shower",
          "Shower",
          "Shower",
          "Shower",
          "Shower",
          "Shower",
          "Shower",
          "Shower",
          "Shower",
          "Shower",
          "Shower",
          "Shower",
          "Shower",
          "Shower",
          "Shower",
          "Shower",
          "Shower",
          "Shower",
          "Shower",
          "Shower",
          "Shower",
          "Shower",
          "Shower",
          "Shower",
          "Shower",
          "Shower",
          "Shower",
          "Shower",
          "Shower",
          "Shower",
          "Shower",
          "Shower",
          "Shower",
          "Shower",
          "Shower",
          "Shower",
          "Shower",
          "Shower",
          "Shower",
          "Shower",
          "Shower",
          "Shower",
          "Shower",
          "Shower",
          "Shower",
          "Shower",
          "Shower",
          "Shower",
          "Shower",
          "Shower",
          "Shower",
          "Shower",
          "Shower",
          "Shower",
          "Shower",
          "Shower",
          "Shower",
          "Shower",
          "Shower",
          "Shower",
          "Shower",
          "Shower",
          "Shower",
          "Shower",
          "Shower",
          "Shower",
          "Shower",
          "Shower",
          "Shower",
          "Shower",
          "Shower",
          "Shower",
          "Shower",
          "Shower",
          "Shower",
          "Shower",
          "Shower"
         ],
         "yaxis": "y",
         "type": "bar"
        },
        {
         "alignmentgroup": "True",
         "base": [
          "2025-05-08T17:19:06.061000",
          "2025-05-08T17:19:59.886000",
          "2025-05-08T17:20:26.802000",
          "2025-05-08T17:20:52.672000",
          "2025-05-08T17:21:09.908000",
          "2025-05-08T17:21:17.411000",
          "2025-05-08T17:59:49.531000",
          "2025-05-08T18:07:22.295000",
          "2025-05-08T18:07:26.590000",
          "2025-05-08T18:07:30.062000",
          "2025-05-08T18:07:34.793000",
          "2025-05-08T18:07:40.878000",
          "2025-05-08T18:07:43.003000",
          "2025-05-08T18:08:00.913000",
          "2025-05-08T18:08:32.027000",
          "2025-05-08T18:08:34.172000",
          "2025-05-08T18:50:15.747000",
          "2025-05-08T19:19:30.277000",
          "2025-05-08T19:20:00.451000",
          "2025-05-08T19:21:08.187000",
          "2025-05-08T19:21:17.904000",
          "2025-05-08T19:21:25.443000",
          "2025-05-08T19:21:32.963000",
          "2025-05-08T19:21:59.854000",
          "2025-05-08T19:22:14.897000",
          "2025-05-08T20:26:31.470000",
          "2025-05-08T20:26:45.482000",
          "2025-05-08T20:26:47.642000",
          "2025-05-08T20:26:57.337000",
          "2025-05-08T20:27:07.036000",
          "2025-05-08T20:27:15.614000",
          "2025-05-08T20:31:43.551000",
          "2025-05-08T21:29:47.919000",
          "2025-05-08T21:29:52.249000",
          "2025-05-08T21:29:54.377000"
         ],
         "hovertemplate": "Activity: %{y}<br>Start: %{base|%Y-%m-%d %H:%M:%S}<br>End: %{x|%Y-%m-%d %H:%M:%S}<extra></extra>",
         "legendgroup": "Tooth_brushing",
         "marker": {
          "color": "#00cc96",
          "pattern": {
           "shape": ""
          }
         },
         "name": "Tooth_brushing",
         "offsetgroup": "Tooth_brushing",
         "orientation": "h",
         "showlegend": true,
         "textposition": "auto",
         "x": [
          2172.0,
          3211.0,
          1090.0,
          1096.0,
          1060.0,
          3232.0,
          1069.0,
          3232.0,
          224.0,
          2140.0,
          1087.0,
          1057.0,
          1280.0,
          4303.0,
          1085.0,
          214.0,
          1057.0,
          1083.0,
          1077.0,
          1070.0,
          1073.0,
          3223.0,
          1087.0,
          1063.0,
          2155.0,
          7539.0,
          1065.0,
          3231.0,
          1084.0,
          1062.0,
          1082.0,
          1088.0,
          1099.0,
          1061.0,
          1110.0
         ],
         "xaxis": "x",
         "y": [
          "Tooth_brushing",
          "Tooth_brushing",
          "Tooth_brushing",
          "Tooth_brushing",
          "Tooth_brushing",
          "Tooth_brushing",
          "Tooth_brushing",
          "Tooth_brushing",
          "Tooth_brushing",
          "Tooth_brushing",
          "Tooth_brushing",
          "Tooth_brushing",
          "Tooth_brushing",
          "Tooth_brushing",
          "Tooth_brushing",
          "Tooth_brushing",
          "Tooth_brushing",
          "Tooth_brushing",
          "Tooth_brushing",
          "Tooth_brushing",
          "Tooth_brushing",
          "Tooth_brushing",
          "Tooth_brushing",
          "Tooth_brushing",
          "Tooth_brushing",
          "Tooth_brushing",
          "Tooth_brushing",
          "Tooth_brushing",
          "Tooth_brushing",
          "Tooth_brushing",
          "Tooth_brushing",
          "Tooth_brushing",
          "Tooth_brushing",
          "Tooth_brushing",
          "Tooth_brushing"
         ],
         "yaxis": "y",
         "type": "bar"
        },
        {
         "alignmentgroup": "True",
         "base": [
          "2025-05-08T17:17:22.558000",
          "2025-05-08T17:17:50.552000",
          "2025-05-08T18:43:48.586000",
          "2025-05-08T20:28:32.708000",
          "2025-05-08T20:28:52.047000",
          "2025-05-08T21:14:53.681000",
          "2025-05-08T21:15:01.257000",
          "2025-05-08T21:23:32.786000",
          "2025-05-08T21:52:08.408000",
          "2025-05-08T21:52:14.882000",
          "2025-05-08T21:52:46.264000",
          "2025-05-08T21:52:49.713000",
          "2025-05-08T21:52:52.271000",
          "2025-05-08T22:03:56.681000",
          "2025-05-08T22:06:55.751000",
          "2025-05-08T22:07:06.555000"
         ],
         "hovertemplate": "Activity: %{y}<br>Start: %{base|%Y-%m-%d %H:%M:%S}<br>End: %{x|%Y-%m-%d %H:%M:%S}<extra></extra>",
         "legendgroup": "Washing_hands",
         "marker": {
          "color": "#ab63fa",
          "pattern": {
           "shape": ""
          }
         },
         "name": "Washing_hands",
         "offsetgroup": "Washing_hands",
         "orientation": "h",
         "showlegend": true,
         "textposition": "auto",
         "x": [
          1060.0,
          1066.0,
          3223.0,
          2155.0,
          1107.0,
          4344.0,
          2129.0,
          1060.0,
          2172.0,
          2154.0,
          1291.0,
          1284.0,
          1064.0,
          1093.0,
          3255.0,
          2151.0
         ],
         "xaxis": "x",
         "y": [
          "Washing_hands",
          "Washing_hands",
          "Washing_hands",
          "Washing_hands",
          "Washing_hands",
          "Washing_hands",
          "Washing_hands",
          "Washing_hands",
          "Washing_hands",
          "Washing_hands",
          "Washing_hands",
          "Washing_hands",
          "Washing_hands",
          "Washing_hands",
          "Washing_hands",
          "Washing_hands"
         ],
         "yaxis": "y",
         "type": "bar"
        },
        {
         "alignmentgroup": "True",
         "base": [
          "2025-05-08T17:13:14.031000",
          "2025-05-08T17:13:28.146000",
          "2025-05-08T17:13:33.526000",
          "2025-05-08T17:17:20.386000",
          "2025-05-08T17:18:29.845000",
          "2025-05-08T17:19:31.926000",
          "2025-05-08T17:20:09.561000",
          "2025-05-08T17:20:35.422000",
          "2025-05-08T17:20:42.969000",
          "2025-05-08T17:21:00.237000",
          "2025-05-08T17:21:04.510000",
          "2025-05-08T17:21:23.879000",
          "2025-05-08T17:21:34.657000",
          "2025-05-08T17:21:38.961000",
          "2025-05-08T17:21:46.482000",
          "2025-05-08T17:29:59.889000",
          "2025-05-08T17:30:03.085000",
          "2025-05-08T17:30:08.449000",
          "2025-05-08T17:30:30.947000",
          "2025-05-08T17:30:47.041000",
          "2025-05-08T17:31:10.647000",
          "2025-05-08T17:31:23.026000",
          "2025-05-08T17:31:28.406000",
          "2025-05-08T17:31:34.855000",
          "2025-05-08T17:32:01.656000",
          "2025-05-08T17:32:05.963000",
          "2025-05-08T17:32:17.773000",
          "2025-05-08T17:32:19.920000",
          "2025-05-08T17:35:01.662000",
          "2025-05-08T17:39:23.782000",
          "2025-05-08T17:42:07.222000",
          "2025-05-08T17:42:36.242000",
          "2025-05-08T17:43:16.946000",
          "2025-05-08T17:43:58.907000",
          "2025-05-08T17:44:45.109000",
          "2025-05-08T17:44:52.646000",
          "2025-05-08T17:44:54.811000",
          "2025-05-08T17:44:59.097000",
          "2025-05-08T17:45:03.426000",
          "2025-05-08T17:45:07.736000",
          "2025-05-08T17:45:09.894000",
          "2025-05-08T17:45:31.422000",
          "2025-05-08T17:45:40.004000",
          "2025-05-08T17:45:43.194000",
          "2025-05-08T17:45:46.409000",
          "2025-05-08T17:45:52.865000",
          "2025-05-08T17:46:01.455000",
          "2025-05-08T17:46:03.571000",
          "2025-05-08T17:46:12.213000",
          "2025-05-08T17:46:18.666000",
          "2025-05-08T17:47:09.878000",
          "2025-05-08T17:47:27.385000",
          "2025-05-08T17:48:28.791000",
          "2025-05-08T17:48:30.920000",
          "2025-05-08T17:48:36.297000",
          "2025-05-08T17:49:17.218000",
          "2025-05-08T17:49:27.963000",
          "2025-05-08T17:50:07.483000",
          "2025-05-08T17:50:12.843000",
          "2025-05-08T17:50:20.333000",
          "2025-05-08T17:57:06.638000",
          "2025-05-08T18:00:01.351000",
          "2025-05-08T18:27:15.603000",
          "2025-05-08T18:32:03.537000",
          "2025-05-08T18:35:55.910000",
          "2025-05-08T18:36:12.730000",
          "2025-05-08T18:36:29.886000",
          "2025-05-08T18:37:10.649000",
          "2025-05-08T18:37:24.576000",
          "2025-05-08T18:37:26.744000",
          "2025-05-08T18:37:32.130000",
          "2025-05-08T18:38:09.754000",
          "2025-05-08T18:38:17.278000",
          "2025-05-08T18:38:21.567000",
          "2025-05-08T18:38:43.104000",
          "2025-05-08T18:38:47.387000",
          "2025-05-08T18:39:30.293000",
          "2025-05-08T18:39:32.455000",
          "2025-05-08T18:40:21.838000",
          "2025-05-08T18:40:28.278000",
          "2025-05-08T18:40:33.601000",
          "2025-05-08T18:40:40.027000",
          "2025-05-08T18:40:46.512000",
          "2025-05-08T18:41:32.111000",
          "2025-05-08T18:41:35.350000",
          "2025-05-08T18:41:42.840000",
          "2025-05-08T18:42:04.888000",
          "2025-05-08T18:42:15.540000",
          "2025-05-08T19:13:00.578000",
          "2025-05-08T19:13:14.540000",
          "2025-05-08T19:13:17.757000",
          "2025-05-08T19:13:20.960000",
          "2025-05-08T19:13:30.647000",
          "2025-05-08T19:13:39.190000",
          "2025-05-08T19:13:48.922000",
          "2025-05-08T19:14:35.521000",
          "2025-05-08T19:15:01.286000",
          "2025-05-08T19:15:03.435000",
          "2025-05-08T19:15:15.473000",
          "2025-05-08T19:15:43.974000",
          "2025-05-08T19:15:52.556000",
          "2025-05-08T19:16:01.118000",
          "2025-05-08T19:16:03.275000",
          "2025-05-08T19:16:07.553000",
          "2025-05-08T19:16:17.223000",
          "2025-05-08T19:16:31.158000",
          "2025-05-08T19:16:52.415000",
          "2025-05-08T19:17:56.172000",
          "2025-05-08T19:18:03.701000",
          "2025-05-08T19:18:27.352000",
          "2025-05-08T19:19:26.006000",
          "2025-05-08T19:19:45.331000",
          "2025-05-08T19:19:47.510000",
          "2025-05-08T19:20:16.596000",
          "2025-05-08T19:20:21.964000",
          "2025-05-08T19:20:27.334000",
          "2025-05-08T19:20:33.783000",
          "2025-05-08T19:20:38.081000",
          "2025-05-08T19:20:50.966000",
          "2025-05-08T19:21:01.732000",
          "2025-05-08T19:21:57.697000",
          "2025-05-08T19:22:07.371000",
          "2025-05-08T19:22:20.270000",
          "2025-05-08T19:24:51.732000",
          "2025-05-08T19:24:56.030000",
          "2025-05-08T19:27:40.290000",
          "2025-05-08T20:24:51.553000",
          "2025-05-08T20:25:24.847000",
          "2025-05-08T20:26:17.579000",
          "2025-05-08T20:26:27.209000",
          "2025-05-08T20:29:09.257000",
          "2025-05-08T20:30:46.744000",
          "2025-05-08T20:30:55.319000",
          "2025-05-08T20:30:59.603000",
          "2025-05-08T20:31:01.735000",
          "2025-05-08T20:31:07.091000",
          "2025-05-08T20:31:19.934000",
          "2025-05-08T20:31:25.322000",
          "2025-05-08T20:31:28.514000",
          "2025-05-08T20:31:31.743000",
          "2025-05-08T20:34:16.129000",
          "2025-05-08T20:35:21.338000",
          "2025-05-08T21:13:07.749000",
          "2025-05-08T21:14:11.787000",
          "2025-05-08T21:15:32.362000",
          "2025-05-08T21:18:13.052000",
          "2025-05-08T21:19:39.528000",
          "2025-05-08T21:20:09.646000",
          "2025-05-08T21:20:25.791000",
          "2025-05-08T21:29:28.565000",
          "2025-05-08T21:29:30.716000",
          "2025-05-08T21:30:28.881000",
          "2025-05-08T21:30:31.049000",
          "2025-05-08T21:30:37.459000",
          "2025-05-08T21:31:05.044000",
          "2025-05-08T21:31:26.541000",
          "2025-05-08T21:33:05.762000",
          "2025-05-08T21:36:31.981000",
          "2025-05-08T21:43:58.008000",
          "2025-05-08T21:51:31.358000",
          "2025-05-08T21:54:07.463000",
          "2025-05-08T21:54:31.133000",
          "2025-05-08T21:55:03.593000",
          "2025-05-08T21:55:05.722000",
          "2025-05-08T21:55:10.015000",
          "2025-05-08T21:55:12.183000",
          "2025-05-08T21:55:29.323000",
          "2025-05-08T21:55:32.554000",
          "2025-05-08T21:57:47.655000",
          "2025-05-08T21:57:51.970000",
          "2025-05-08T21:58:00.534000",
          "2025-05-08T21:58:49.022000",
          "2025-05-08T21:58:56.540000",
          "2025-05-08T21:59:05.140000",
          "2025-05-08T22:00:46.289000",
          "2025-05-08T22:00:51.696000",
          "2025-05-08T22:04:04.198000",
          "2025-05-08T22:04:45.717000",
          "2025-05-08T22:05:37.205000",
          "2025-05-08T22:06:41.769000"
         ],
         "hovertemplate": "Activity: %{y}<br>Start: %{base|%Y-%m-%d %H:%M:%S}<br>End: %{x|%Y-%m-%d %H:%M:%S}<extra></extra>",
         "legendgroup": "Wiping",
         "marker": {
          "color": "#FFA15A",
          "pattern": {
           "shape": ""
          }
         },
         "name": "Wiping",
         "offsetgroup": "Wiping",
         "orientation": "h",
         "showlegend": true,
         "textposition": "auto",
         "x": [
          1062.0,
          1059.0,
          1092.0,
          2172.0,
          1067.0,
          1107.0,
          1070.0,
          1073.0,
          1106.0,
          2126.0,
          1064.0,
          2186.0,
          1091.0,
          3239.0,
          2165.0,
          1068.0,
          4291.0,
          20352.0,
          15018.0,
          4295.0,
          1098.0,
          4310.0,
          5373.0,
          23597.0,
          2183.0,
          7539.0,
          1090.0,
          2155.0,
          2125.0,
          8615.0,
          2135.0,
          1075.0,
          17229.0,
          1095.0,
          6476.0,
          1063.0,
          3186.0,
          1087.0,
          3239.0,
          1090.0,
          15083.0,
          5382.0,
          2124.0,
          2156.0,
          4327.0,
          6421.0,
          1055.0,
          6477.0,
          4276.0,
          1067.0,
          2170.0,
          1069.0,
          1063.0,
          1065.0,
          1076.0,
          1092.0,
          1062.0,
          1066.0,
          5368.0,
          1124.0,
          1061.0,
          1097.0,
          1060.0,
          1063.0,
          1058.0,
          1064.0,
          1081.0,
          1068.0,
          1062.0,
          1073.0,
          3228.0,
          1065.0,
          1061.0,
          2165.0,
          1063.0,
          1075.0,
          1092.0,
          3231.0,
          1096.0,
          1065.0,
          1062.0,
          1066.0,
          1070.0,
          1071.0,
          1070.0,
          4313.0,
          7466.0,
          3219.0,
          10745.0,
          2157.0,
          2132.0,
          5381.0,
          7476.0,
          2177.0,
          7509.0,
          1060.0,
          1076.0,
          1062.0,
          1090.0,
          6417.0,
          5319.0,
          1092.0,
          3214.0,
          1104.0,
          10739.0,
          1114.0,
          1067.0,
          6471.0,
          17179.0,
          2124.0,
          1065.0,
          1065.0,
          2131.0,
          2130.0,
          1090.0,
          1071.0,
          2156.0,
          2167.0,
          2153.0,
          1075.0,
          1064.0,
          1061.0,
          1070.0,
          1098.0,
          1118.0,
          1068.0,
          1068.0,
          1064.0,
          1088.0,
          3198.0,
          1111.0,
          1058.0,
          1072.0,
          1062.0,
          2158.0,
          1063.0,
          1071.0,
          1070.0,
          1107.0,
          1062.0,
          1068.0,
          1070.0,
          1064.0,
          1057.0,
          1100.0,
          1058.0,
          1060.0,
          1099.0,
          2155.0,
          1061.0,
          1063.0,
          1054.0,
          2130.0,
          1064.0,
          1073.0,
          1069.0,
          1065.0,
          1066.0,
          1062.0,
          1064.0,
          1113.0,
          2129.0,
          1063.0,
          1071.0,
          1068.0,
          1078.0,
          2130.0,
          1056.0,
          1083.0,
          1061.0,
          1077.0,
          2145.0,
          1107.0,
          1111.0,
          1101.0,
          1070.0,
          1059.0,
          1085.0,
          1099.0,
          1090.0
         ],
         "xaxis": "x",
         "y": [
          "Wiping",
          "Wiping",
          "Wiping",
          "Wiping",
          "Wiping",
          "Wiping",
          "Wiping",
          "Wiping",
          "Wiping",
          "Wiping",
          "Wiping",
          "Wiping",
          "Wiping",
          "Wiping",
          "Wiping",
          "Wiping",
          "Wiping",
          "Wiping",
          "Wiping",
          "Wiping",
          "Wiping",
          "Wiping",
          "Wiping",
          "Wiping",
          "Wiping",
          "Wiping",
          "Wiping",
          "Wiping",
          "Wiping",
          "Wiping",
          "Wiping",
          "Wiping",
          "Wiping",
          "Wiping",
          "Wiping",
          "Wiping",
          "Wiping",
          "Wiping",
          "Wiping",
          "Wiping",
          "Wiping",
          "Wiping",
          "Wiping",
          "Wiping",
          "Wiping",
          "Wiping",
          "Wiping",
          "Wiping",
          "Wiping",
          "Wiping",
          "Wiping",
          "Wiping",
          "Wiping",
          "Wiping",
          "Wiping",
          "Wiping",
          "Wiping",
          "Wiping",
          "Wiping",
          "Wiping",
          "Wiping",
          "Wiping",
          "Wiping",
          "Wiping",
          "Wiping",
          "Wiping",
          "Wiping",
          "Wiping",
          "Wiping",
          "Wiping",
          "Wiping",
          "Wiping",
          "Wiping",
          "Wiping",
          "Wiping",
          "Wiping",
          "Wiping",
          "Wiping",
          "Wiping",
          "Wiping",
          "Wiping",
          "Wiping",
          "Wiping",
          "Wiping",
          "Wiping",
          "Wiping",
          "Wiping",
          "Wiping",
          "Wiping",
          "Wiping",
          "Wiping",
          "Wiping",
          "Wiping",
          "Wiping",
          "Wiping",
          "Wiping",
          "Wiping",
          "Wiping",
          "Wiping",
          "Wiping",
          "Wiping",
          "Wiping",
          "Wiping",
          "Wiping",
          "Wiping",
          "Wiping",
          "Wiping",
          "Wiping",
          "Wiping",
          "Wiping",
          "Wiping",
          "Wiping",
          "Wiping",
          "Wiping",
          "Wiping",
          "Wiping",
          "Wiping",
          "Wiping",
          "Wiping",
          "Wiping",
          "Wiping",
          "Wiping",
          "Wiping",
          "Wiping",
          "Wiping",
          "Wiping",
          "Wiping",
          "Wiping",
          "Wiping",
          "Wiping",
          "Wiping",
          "Wiping",
          "Wiping",
          "Wiping",
          "Wiping",
          "Wiping",
          "Wiping",
          "Wiping",
          "Wiping",
          "Wiping",
          "Wiping",
          "Wiping",
          "Wiping",
          "Wiping",
          "Wiping",
          "Wiping",
          "Wiping",
          "Wiping",
          "Wiping",
          "Wiping",
          "Wiping",
          "Wiping",
          "Wiping",
          "Wiping",
          "Wiping",
          "Wiping",
          "Wiping",
          "Wiping",
          "Wiping",
          "Wiping",
          "Wiping",
          "Wiping",
          "Wiping",
          "Wiping",
          "Wiping",
          "Wiping",
          "Wiping",
          "Wiping",
          "Wiping",
          "Wiping",
          "Wiping",
          "Wiping",
          "Wiping",
          "Wiping",
          "Wiping",
          "Wiping",
          "Wiping",
          "Wiping",
          "Wiping",
          "Wiping"
         ],
         "yaxis": "y",
         "type": "bar"
        }
       ],
       "layout": {
        "template": {
         "data": {
          "histogram2dcontour": [
           {
            "type": "histogram2dcontour",
            "colorbar": {
             "outlinewidth": 0,
             "ticks": ""
            },
            "colorscale": [
             [
              0.0,
              "#0d0887"
             ],
             [
              0.1111111111111111,
              "#46039f"
             ],
             [
              0.2222222222222222,
              "#7201a8"
             ],
             [
              0.3333333333333333,
              "#9c179e"
             ],
             [
              0.4444444444444444,
              "#bd3786"
             ],
             [
              0.5555555555555556,
              "#d8576b"
             ],
             [
              0.6666666666666666,
              "#ed7953"
             ],
             [
              0.7777777777777778,
              "#fb9f3a"
             ],
             [
              0.8888888888888888,
              "#fdca26"
             ],
             [
              1.0,
              "#f0f921"
             ]
            ]
           }
          ],
          "choropleth": [
           {
            "type": "choropleth",
            "colorbar": {
             "outlinewidth": 0,
             "ticks": ""
            }
           }
          ],
          "histogram2d": [
           {
            "type": "histogram2d",
            "colorbar": {
             "outlinewidth": 0,
             "ticks": ""
            },
            "colorscale": [
             [
              0.0,
              "#0d0887"
             ],
             [
              0.1111111111111111,
              "#46039f"
             ],
             [
              0.2222222222222222,
              "#7201a8"
             ],
             [
              0.3333333333333333,
              "#9c179e"
             ],
             [
              0.4444444444444444,
              "#bd3786"
             ],
             [
              0.5555555555555556,
              "#d8576b"
             ],
             [
              0.6666666666666666,
              "#ed7953"
             ],
             [
              0.7777777777777778,
              "#fb9f3a"
             ],
             [
              0.8888888888888888,
              "#fdca26"
             ],
             [
              1.0,
              "#f0f921"
             ]
            ]
           }
          ],
          "heatmap": [
           {
            "type": "heatmap",
            "colorbar": {
             "outlinewidth": 0,
             "ticks": ""
            },
            "colorscale": [
             [
              0.0,
              "#0d0887"
             ],
             [
              0.1111111111111111,
              "#46039f"
             ],
             [
              0.2222222222222222,
              "#7201a8"
             ],
             [
              0.3333333333333333,
              "#9c179e"
             ],
             [
              0.4444444444444444,
              "#bd3786"
             ],
             [
              0.5555555555555556,
              "#d8576b"
             ],
             [
              0.6666666666666666,
              "#ed7953"
             ],
             [
              0.7777777777777778,
              "#fb9f3a"
             ],
             [
              0.8888888888888888,
              "#fdca26"
             ],
             [
              1.0,
              "#f0f921"
             ]
            ]
           }
          ],
          "heatmapgl": [
           {
            "type": "heatmapgl",
            "colorbar": {
             "outlinewidth": 0,
             "ticks": ""
            },
            "colorscale": [
             [
              0.0,
              "#0d0887"
             ],
             [
              0.1111111111111111,
              "#46039f"
             ],
             [
              0.2222222222222222,
              "#7201a8"
             ],
             [
              0.3333333333333333,
              "#9c179e"
             ],
             [
              0.4444444444444444,
              "#bd3786"
             ],
             [
              0.5555555555555556,
              "#d8576b"
             ],
             [
              0.6666666666666666,
              "#ed7953"
             ],
             [
              0.7777777777777778,
              "#fb9f3a"
             ],
             [
              0.8888888888888888,
              "#fdca26"
             ],
             [
              1.0,
              "#f0f921"
             ]
            ]
           }
          ],
          "contourcarpet": [
           {
            "type": "contourcarpet",
            "colorbar": {
             "outlinewidth": 0,
             "ticks": ""
            }
           }
          ],
          "contour": [
           {
            "type": "contour",
            "colorbar": {
             "outlinewidth": 0,
             "ticks": ""
            },
            "colorscale": [
             [
              0.0,
              "#0d0887"
             ],
             [
              0.1111111111111111,
              "#46039f"
             ],
             [
              0.2222222222222222,
              "#7201a8"
             ],
             [
              0.3333333333333333,
              "#9c179e"
             ],
             [
              0.4444444444444444,
              "#bd3786"
             ],
             [
              0.5555555555555556,
              "#d8576b"
             ],
             [
              0.6666666666666666,
              "#ed7953"
             ],
             [
              0.7777777777777778,
              "#fb9f3a"
             ],
             [
              0.8888888888888888,
              "#fdca26"
             ],
             [
              1.0,
              "#f0f921"
             ]
            ]
           }
          ],
          "surface": [
           {
            "type": "surface",
            "colorbar": {
             "outlinewidth": 0,
             "ticks": ""
            },
            "colorscale": [
             [
              0.0,
              "#0d0887"
             ],
             [
              0.1111111111111111,
              "#46039f"
             ],
             [
              0.2222222222222222,
              "#7201a8"
             ],
             [
              0.3333333333333333,
              "#9c179e"
             ],
             [
              0.4444444444444444,
              "#bd3786"
             ],
             [
              0.5555555555555556,
              "#d8576b"
             ],
             [
              0.6666666666666666,
              "#ed7953"
             ],
             [
              0.7777777777777778,
              "#fb9f3a"
             ],
             [
              0.8888888888888888,
              "#fdca26"
             ],
             [
              1.0,
              "#f0f921"
             ]
            ]
           }
          ],
          "mesh3d": [
           {
            "type": "mesh3d",
            "colorbar": {
             "outlinewidth": 0,
             "ticks": ""
            }
           }
          ],
          "scatter": [
           {
            "marker": {
             "line": {
              "color": "#283442"
             }
            },
            "type": "scatter"
           }
          ],
          "parcoords": [
           {
            "type": "parcoords",
            "line": {
             "colorbar": {
              "outlinewidth": 0,
              "ticks": ""
             }
            }
           }
          ],
          "scatterpolargl": [
           {
            "type": "scatterpolargl",
            "marker": {
             "colorbar": {
              "outlinewidth": 0,
              "ticks": ""
             }
            }
           }
          ],
          "bar": [
           {
            "error_x": {
             "color": "#f2f5fa"
            },
            "error_y": {
             "color": "#f2f5fa"
            },
            "marker": {
             "line": {
              "color": "rgb(17,17,17)",
              "width": 0.5
             },
             "pattern": {
              "fillmode": "overlay",
              "size": 10,
              "solidity": 0.2
             }
            },
            "type": "bar"
           }
          ],
          "scattergeo": [
           {
            "type": "scattergeo",
            "marker": {
             "colorbar": {
              "outlinewidth": 0,
              "ticks": ""
             }
            }
           }
          ],
          "scatterpolar": [
           {
            "type": "scatterpolar",
            "marker": {
             "colorbar": {
              "outlinewidth": 0,
              "ticks": ""
             }
            }
           }
          ],
          "histogram": [
           {
            "marker": {
             "pattern": {
              "fillmode": "overlay",
              "size": 10,
              "solidity": 0.2
             }
            },
            "type": "histogram"
           }
          ],
          "scattergl": [
           {
            "marker": {
             "line": {
              "color": "#283442"
             }
            },
            "type": "scattergl"
           }
          ],
          "scatter3d": [
           {
            "type": "scatter3d",
            "line": {
             "colorbar": {
              "outlinewidth": 0,
              "ticks": ""
             }
            },
            "marker": {
             "colorbar": {
              "outlinewidth": 0,
              "ticks": ""
             }
            }
           }
          ],
          "scattermapbox": [
           {
            "type": "scattermapbox",
            "marker": {
             "colorbar": {
              "outlinewidth": 0,
              "ticks": ""
             }
            }
           }
          ],
          "scatterternary": [
           {
            "type": "scatterternary",
            "marker": {
             "colorbar": {
              "outlinewidth": 0,
              "ticks": ""
             }
            }
           }
          ],
          "scattercarpet": [
           {
            "type": "scattercarpet",
            "marker": {
             "colorbar": {
              "outlinewidth": 0,
              "ticks": ""
             }
            }
           }
          ],
          "carpet": [
           {
            "aaxis": {
             "endlinecolor": "#A2B1C6",
             "gridcolor": "#506784",
             "linecolor": "#506784",
             "minorgridcolor": "#506784",
             "startlinecolor": "#A2B1C6"
            },
            "baxis": {
             "endlinecolor": "#A2B1C6",
             "gridcolor": "#506784",
             "linecolor": "#506784",
             "minorgridcolor": "#506784",
             "startlinecolor": "#A2B1C6"
            },
            "type": "carpet"
           }
          ],
          "table": [
           {
            "cells": {
             "fill": {
              "color": "#506784"
             },
             "line": {
              "color": "rgb(17,17,17)"
             }
            },
            "header": {
             "fill": {
              "color": "#2a3f5f"
             },
             "line": {
              "color": "rgb(17,17,17)"
             }
            },
            "type": "table"
           }
          ],
          "barpolar": [
           {
            "marker": {
             "line": {
              "color": "rgb(17,17,17)",
              "width": 0.5
             },
             "pattern": {
              "fillmode": "overlay",
              "size": 10,
              "solidity": 0.2
             }
            },
            "type": "barpolar"
           }
          ],
          "pie": [
           {
            "automargin": true,
            "type": "pie"
           }
          ]
         },
         "layout": {
          "autotypenumbers": "strict",
          "colorway": [
           "#636efa",
           "#EF553B",
           "#00cc96",
           "#ab63fa",
           "#FFA15A",
           "#19d3f3",
           "#FF6692",
           "#B6E880",
           "#FF97FF",
           "#FECB52"
          ],
          "font": {
           "color": "#f2f5fa"
          },
          "hovermode": "closest",
          "hoverlabel": {
           "align": "left"
          },
          "paper_bgcolor": "rgb(17,17,17)",
          "plot_bgcolor": "rgb(17,17,17)",
          "polar": {
           "bgcolor": "rgb(17,17,17)",
           "angularaxis": {
            "gridcolor": "#506784",
            "linecolor": "#506784",
            "ticks": ""
           },
           "radialaxis": {
            "gridcolor": "#506784",
            "linecolor": "#506784",
            "ticks": ""
           }
          },
          "ternary": {
           "bgcolor": "rgb(17,17,17)",
           "aaxis": {
            "gridcolor": "#506784",
            "linecolor": "#506784",
            "ticks": ""
           },
           "baxis": {
            "gridcolor": "#506784",
            "linecolor": "#506784",
            "ticks": ""
           },
           "caxis": {
            "gridcolor": "#506784",
            "linecolor": "#506784",
            "ticks": ""
           }
          },
          "coloraxis": {
           "colorbar": {
            "outlinewidth": 0,
            "ticks": ""
           }
          },
          "colorscale": {
           "sequential": [
            [
             0.0,
             "#0d0887"
            ],
            [
             0.1111111111111111,
             "#46039f"
            ],
            [
             0.2222222222222222,
             "#7201a8"
            ],
            [
             0.3333333333333333,
             "#9c179e"
            ],
            [
             0.4444444444444444,
             "#bd3786"
            ],
            [
             0.5555555555555556,
             "#d8576b"
            ],
            [
             0.6666666666666666,
             "#ed7953"
            ],
            [
             0.7777777777777778,
             "#fb9f3a"
            ],
            [
             0.8888888888888888,
             "#fdca26"
            ],
            [
             1.0,
             "#f0f921"
            ]
           ],
           "sequentialminus": [
            [
             0.0,
             "#0d0887"
            ],
            [
             0.1111111111111111,
             "#46039f"
            ],
            [
             0.2222222222222222,
             "#7201a8"
            ],
            [
             0.3333333333333333,
             "#9c179e"
            ],
            [
             0.4444444444444444,
             "#bd3786"
            ],
            [
             0.5555555555555556,
             "#d8576b"
            ],
            [
             0.6666666666666666,
             "#ed7953"
            ],
            [
             0.7777777777777778,
             "#fb9f3a"
            ],
            [
             0.8888888888888888,
             "#fdca26"
            ],
            [
             1.0,
             "#f0f921"
            ]
           ],
           "diverging": [
            [
             0,
             "#8e0152"
            ],
            [
             0.1,
             "#c51b7d"
            ],
            [
             0.2,
             "#de77ae"
            ],
            [
             0.3,
             "#f1b6da"
            ],
            [
             0.4,
             "#fde0ef"
            ],
            [
             0.5,
             "#f7f7f7"
            ],
            [
             0.6,
             "#e6f5d0"
            ],
            [
             0.7,
             "#b8e186"
            ],
            [
             0.8,
             "#7fbc41"
            ],
            [
             0.9,
             "#4d9221"
            ],
            [
             1,
             "#276419"
            ]
           ]
          },
          "xaxis": {
           "gridcolor": "#283442",
           "linecolor": "#506784",
           "ticks": "",
           "title": {
            "standoff": 15
           },
           "zerolinecolor": "#283442",
           "automargin": true,
           "zerolinewidth": 2
          },
          "yaxis": {
           "gridcolor": "#283442",
           "linecolor": "#506784",
           "ticks": "",
           "title": {
            "standoff": 15
           },
           "zerolinecolor": "#283442",
           "automargin": true,
           "zerolinewidth": 2
          },
          "scene": {
           "xaxis": {
            "backgroundcolor": "rgb(17,17,17)",
            "gridcolor": "#506784",
            "linecolor": "#506784",
            "showbackground": true,
            "ticks": "",
            "zerolinecolor": "#C8D4E3",
            "gridwidth": 2
           },
           "yaxis": {
            "backgroundcolor": "rgb(17,17,17)",
            "gridcolor": "#506784",
            "linecolor": "#506784",
            "showbackground": true,
            "ticks": "",
            "zerolinecolor": "#C8D4E3",
            "gridwidth": 2
           },
           "zaxis": {
            "backgroundcolor": "rgb(17,17,17)",
            "gridcolor": "#506784",
            "linecolor": "#506784",
            "showbackground": true,
            "ticks": "",
            "zerolinecolor": "#C8D4E3",
            "gridwidth": 2
           }
          },
          "shapedefaults": {
           "line": {
            "color": "#f2f5fa"
           }
          },
          "annotationdefaults": {
           "arrowcolor": "#f2f5fa",
           "arrowhead": 0,
           "arrowwidth": 1
          },
          "geo": {
           "bgcolor": "rgb(17,17,17)",
           "landcolor": "rgb(17,17,17)",
           "subunitcolor": "#506784",
           "showland": true,
           "showlakes": true,
           "lakecolor": "rgb(17,17,17)"
          },
          "title": {
           "x": 0.05
          },
          "updatemenudefaults": {
           "bgcolor": "#506784",
           "borderwidth": 0
          },
          "sliderdefaults": {
           "bgcolor": "#C8D4E3",
           "borderwidth": 1,
           "bordercolor": "rgb(17,17,17)",
           "tickwidth": 0
          },
          "mapbox": {
           "style": "dark"
          }
         }
        },
        "xaxis": {
         "anchor": "y",
         "domain": [
          0.0,
          1.0
         ],
         "type": "date",
         "range": [
          "2025-05-08T14:12:05",
          "2025-05-08T22:29:24.930000"
         ],
         "dtick": 3600000,
         "tickformat": "%H:%M",
         "title": {
          "text": "Time of day (HH:MM)"
         },
         "tickmode": "array",
         "tickvals": [
          "2025-05-08T14:12:05",
          "2025-05-08T15:12:05",
          "2025-05-08T16:12:05",
          "2025-05-08T17:12:05",
          "2025-05-08T18:12:05",
          "2025-05-08T19:12:05",
          "2025-05-08T20:12:05",
          "2025-05-08T21:12:05",
          "2025-05-08T22:12:05",
          "2025-05-08T22:29:24.930000"
         ],
         "ticktext": [
          "14:12",
          "15:12",
          "16:12",
          "17:12",
          "18:12",
          "19:12",
          "20:12",
          "21:12",
          "22:12",
          "22:29"
         ]
        },
        "yaxis": {
         "anchor": "x",
         "domain": [
          0.0,
          1.0
         ],
         "title": {},
         "categoryorder": "array",
         "categoryarray": [
          "Vacuum_Cleaner",
          "Wiping",
          "Washing_hands",
          "Tooth_brushing",
          "Shower",
          "Other"
         ]
        },
        "legend": {
         "title": {
          "text": "Activity"
         },
         "tracegroupgap": 0
        },
        "margin": {
         "t": 60
        },
        "barmode": "overlay",
        "title": {
         "text": "Predicted Activity Timeline"
        }
       },
       "config": {
        "plotlyServerURL": "https://plot.ly"
       }
      },
      "text/html": [
       "<div>                            <div id=\"ce59a8c8-6a99-42c3-8d1d-508702ca8929\" class=\"plotly-graph-div\" style=\"height:525px; width:100%;\"></div>            <script type=\"text/javascript\">                require([\"plotly\"], function(Plotly) {                    window.PLOTLYENV=window.PLOTLYENV || {};                                    if (document.getElementById(\"ce59a8c8-6a99-42c3-8d1d-508702ca8929\")) {                    Plotly.newPlot(                        \"ce59a8c8-6a99-42c3-8d1d-508702ca8929\",                        [{\"alignmentgroup\":\"True\",\"base\":[\"2025-05-08T14:12:05\",\"2025-05-08T14:24:01.949000\",\"2025-05-08T14:26:22.112000\",\"2025-05-08T14:26:25.321000\",\"2025-05-08T15:02:46.801000\",\"2025-05-08T15:16:17.686000\",\"2025-05-08T17:06:39.183000\",\"2025-05-08T17:12:24.529000\",\"2025-05-08T17:12:29.933000\",\"2025-05-08T17:12:48.166000\",\"2025-05-08T17:13:15.093000\",\"2025-05-08T17:13:27.073000\",\"2025-05-08T17:13:29.205000\",\"2025-05-08T17:13:34.618000\",\"2025-05-08T17:13:37.809000\",\"2025-05-08T17:15:34.981000\",\"2025-05-08T17:17:17.159000\",\"2025-05-08T17:17:23.618000\",\"2025-05-08T17:18:11.003000\",\"2025-05-08T17:18:30.912000\",\"2025-05-08T17:19:08.233000\",\"2025-05-08T17:19:33.033000\",\"2025-05-08T17:19:57.735000\",\"2025-05-08T17:20:04.160000\",\"2025-05-08T17:20:10.631000\",\"2025-05-08T17:20:20.353000\",\"2025-05-08T17:20:27.892000\",\"2025-05-08T17:20:46.202000\",\"2025-05-08T17:20:53.768000\",\"2025-05-08T17:21:02.363000\",\"2025-05-08T17:21:05.574000\",\"2025-05-08T17:21:10.968000\",\"2025-05-08T17:21:20.643000\",\"2025-05-08T17:21:26.065000\",\"2025-05-08T17:21:35.748000\",\"2025-05-08T17:21:42.200000\",\"2025-05-08T17:21:48.647000\",\"2025-05-08T17:22:18.803000\",\"2025-05-08T17:29:29.114000\",\"2025-05-08T17:29:51.317000\",\"2025-05-08T17:29:58.816000\",\"2025-05-08T17:30:28.801000\",\"2025-05-08T17:30:45.965000\",\"2025-05-08T17:30:51.336000\",\"2025-05-08T17:31:02.070000\",\"2025-05-08T17:31:04.220000\",\"2025-05-08T17:31:11.745000\",\"2025-05-08T17:31:27.336000\",\"2025-05-08T17:31:33.779000\",\"2025-05-08T17:31:58.452000\",\"2025-05-08T17:32:03.839000\",\"2025-05-08T17:32:13.502000\",\"2025-05-08T17:32:22.075000\",\"2025-05-08T17:34:56.300000\",\"2025-05-08T17:35:03.787000\",\"2025-05-08T17:35:27.456000\",\"2025-05-08T17:38:25.834000\",\"2025-05-08T17:38:27.950000\",\"2025-05-08T17:38:43.048000\",\"2025-05-08T17:39:32.397000\",\"2025-05-08T17:42:09.357000\",\"2025-05-08T17:42:37.317000\",\"2025-05-08T17:43:34.175000\",\"2025-05-08T17:43:50.313000\",\"2025-05-08T17:44:00.002000\",\"2025-05-08T17:44:19.369000\",\"2025-05-08T17:44:25.809000\",\"2025-05-08T17:44:51.585000\",\"2025-05-08T17:44:53.709000\",\"2025-05-08T17:44:57.997000\",\"2025-05-08T17:45:00.184000\",\"2025-05-08T17:45:06.665000\",\"2025-05-08T17:45:08.826000\",\"2025-05-08T17:45:24.977000\",\"2025-05-08T17:45:36.804000\",\"2025-05-08T17:45:50.736000\",\"2025-05-08T17:45:59.286000\",\"2025-05-08T17:46:02.510000\",\"2025-05-08T17:46:10.048000\",\"2025-05-08T17:46:16.489000\",\"2025-05-08T17:46:19.733000\",\"2025-05-08T17:47:12.048000\",\"2025-05-08T17:47:28.454000\",\"2025-05-08T17:48:29.854000\",\"2025-05-08T17:48:31.985000\",\"2025-05-08T17:48:37.373000\",\"2025-05-08T17:48:54.593000\",\"2025-05-08T17:48:59.977000\",\"2025-05-08T17:49:02.153000\",\"2025-05-08T17:49:08.622000\",\"2025-05-08T17:49:18.310000\",\"2025-05-08T17:49:29.025000\",\"2025-05-08T17:50:08.549000\",\"2025-05-08T17:50:18.211000\",\"2025-05-08T17:50:21.457000\",\"2025-05-08T17:57:07.699000\",\"2025-05-08T17:59:50.600000\",\"2025-05-08T18:00:02.448000\",\"2025-05-08T18:04:13.942000\",\"2025-05-08T18:04:35.335000\",\"2025-05-08T18:05:43.271000\",\"2025-05-08T18:07:25.527000\",\"2025-05-08T18:07:26.814000\",\"2025-05-08T18:07:32.202000\",\"2025-05-08T18:07:35.880000\",\"2025-05-08T18:07:41.935000\",\"2025-05-08T18:07:44.283000\",\"2025-05-08T18:08:05.216000\",\"2025-05-08T18:08:33.112000\",\"2025-05-08T18:08:34.386000\",\"2025-05-08T18:27:16.663000\",\"2025-05-08T18:27:36.105000\",\"2025-05-08T18:27:41.499000\",\"2025-05-08T18:27:51.213000\",\"2025-05-08T18:28:18.135000\",\"2025-05-08T18:28:35.379000\",\"2025-05-08T18:28:41.821000\",\"2025-05-08T18:29:51.765000\",\"2025-05-08T18:31:10.241000\",\"2025-05-08T18:31:56.433000\",\"2025-05-08T18:32:04.600000\",\"2025-05-08T18:35:20.971000\",\"2025-05-08T18:35:56.968000\",\"2025-05-08T18:36:13.794000\",\"2025-05-08T18:36:17.001000\",\"2025-05-08T18:36:30.967000\",\"2025-05-08T18:37:11.717000\",\"2025-05-08T18:37:25.638000\",\"2025-05-08T18:37:27.817000\",\"2025-05-08T18:37:35.358000\",\"2025-05-08T18:38:10.819000\",\"2025-05-08T18:38:18.339000\",\"2025-05-08T18:38:23.732000\",\"2025-05-08T18:38:44.167000\",\"2025-05-08T18:38:48.462000\",\"2025-05-08T18:39:31.385000\",\"2025-05-08T18:39:35.686000\",\"2025-05-08T18:40:17.530000\",\"2025-05-08T18:40:20.765000\",\"2025-05-08T18:40:22.934000\",\"2025-05-08T18:40:29.343000\",\"2025-05-08T18:40:34.663000\",\"2025-05-08T18:40:37.877000\",\"2025-05-08T18:40:41.093000\",\"2025-05-08T18:40:47.582000\",\"2025-05-08T18:41:05.873000\",\"2025-05-08T18:41:09.105000\",\"2025-05-08T18:41:29.940000\",\"2025-05-08T18:41:47.153000\",\"2025-05-08T18:42:14.485000\",\"2025-05-08T18:42:18.759000\",\"2025-05-08T18:42:45.758000\",\"2025-05-08T18:43:55.031000\",\"2025-05-08T18:50:16.804000\",\"2025-05-08T19:12:34.717000\",\"2025-05-08T19:13:11.323000\",\"2025-05-08T19:13:16.697000\",\"2025-05-08T19:13:19.889000\",\"2025-05-08T19:13:26.341000\",\"2025-05-08T19:13:38.123000\",\"2025-05-08T19:13:41.367000\",\"2025-05-08T19:13:56.431000\",\"2025-05-08T19:14:20.415000\",\"2025-05-08T19:14:36.581000\",\"2025-05-08T19:15:02.362000\",\"2025-05-08T19:15:04.497000\",\"2025-05-08T19:15:16.563000\",\"2025-05-08T19:15:50.391000\",\"2025-05-08T19:15:57.875000\",\"2025-05-08T19:16:08.657000\",\"2025-05-08T19:16:27.962000\",\"2025-05-08T19:16:32.272000\",\"2025-05-08T19:16:53.482000\",\"2025-05-08T19:18:02.643000\",\"2025-05-08T19:18:20.880000\",\"2025-05-08T19:18:29.476000\",\"2025-05-08T19:18:31.629000\",\"2025-05-08T19:19:27.071000\",\"2025-05-08T19:19:31.360000\",\"2025-05-08T19:19:49.641000\",\"2025-05-08T19:20:01.528000\",\"2025-05-08T19:20:18.726000\",\"2025-05-08T19:20:23.054000\",\"2025-05-08T19:20:28.405000\",\"2025-05-08T19:20:35.939000\",\"2025-05-08T19:20:40.248000\",\"2025-05-08T19:20:53.119000\",\"2025-05-08T19:21:03.865000\",\"2025-05-08T19:21:09.257000\",\"2025-05-08T19:21:18.977000\",\"2025-05-08T19:21:28.666000\",\"2025-05-08T19:21:34.050000\",\"2025-05-08T19:21:58.761000\",\"2025-05-08T19:22:00.917000\",\"2025-05-08T19:22:08.432000\",\"2025-05-08T19:22:17.052000\",\"2025-05-08T19:22:21.340000\",\"2025-05-08T19:22:41.756000\",\"2025-05-08T19:24:26.632000\",\"2025-05-08T19:24:52.830000\",\"2025-05-08T19:24:57.148000\",\"2025-05-08T19:27:00.274000\",\"2025-05-08T19:27:02.415000\",\"2025-05-08T19:27:41.358000\",\"2025-05-08T20:24:52.621000\",\"2025-05-08T20:25:25.911000\",\"2025-05-08T20:26:24.014000\",\"2025-05-08T20:26:30.407000\",\"2025-05-08T20:26:39.009000\",\"2025-05-08T20:26:46.547000\",\"2025-05-08T20:26:50.873000\",\"2025-05-08T20:26:58.421000\",\"2025-05-08T20:27:08.098000\",\"2025-05-08T20:27:16.696000\",\"2025-05-08T20:27:32.820000\",\"2025-05-08T20:27:37.122000\",\"2025-05-08T20:28:05.534000\",\"2025-05-08T20:29:04.969000\",\"2025-05-08T20:29:10.368000\",\"2025-05-08T20:29:48.376000\",\"2025-05-08T20:29:55.309000\",\"2025-05-08T20:30:20.971000\",\"2025-05-08T20:30:26.361000\",\"2025-05-08T20:30:40.320000\",\"2025-05-08T20:30:47.802000\",\"2025-05-08T20:30:56.391000\",\"2025-05-08T20:31:04.963000\",\"2025-05-08T20:31:08.154000\",\"2025-05-08T20:31:13.509000\",\"2025-05-08T20:31:15.672000\",\"2025-05-08T20:31:21.005000\",\"2025-05-08T20:31:27.452000\",\"2025-05-08T20:31:29.621000\",\"2025-05-08T20:31:32.805000\",\"2025-05-08T20:31:54.321000\",\"2025-05-08T20:32:11.512000\",\"2025-05-08T20:33:33.368000\",\"2025-05-08T20:33:55.725000\",\"2025-05-08T20:34:17.197000\",\"2025-05-08T20:35:22.408000\",\"2025-05-08T21:13:08.813000\",\"2025-05-08T21:13:17.376000\",\"2025-05-08T21:14:12.844000\",\"2025-05-08T21:14:25.795000\",\"2025-05-08T21:15:18.429000\",\"2025-05-08T21:15:33.462000\",\"2025-05-08T21:16:39.552000\",\"2025-05-08T21:16:42.991000\",\"2025-05-08T21:16:45.343000\",\"2025-05-08T21:17:13.489000\",\"2025-05-08T21:17:34.112000\",\"2025-05-08T21:17:35.419000\",\"2025-05-08T21:18:09.836000\",\"2025-05-08T21:18:14.110000\",\"2025-05-08T21:18:22.919000\",\"2025-05-08T21:18:35.914000\",\"2025-05-08T21:18:55.481000\",\"2025-05-08T21:19:09.724000\",\"2025-05-08T21:19:11.240000\",\"2025-05-08T21:19:15.774000\",\"2025-05-08T21:19:21.615000\",\"2025-05-08T21:19:35.246000\",\"2025-05-08T21:19:40.588000\",\"2025-05-08T21:19:44.939000\",\"2025-05-08T21:19:50.271000\",\"2025-05-08T21:19:56.740000\",\"2025-05-08T21:20:02.131000\",\"2025-05-08T21:20:08.577000\",\"2025-05-08T21:20:12.894000\",\"2025-05-08T21:20:17.227000\",\"2025-05-08T21:20:27.946000\",\"2025-05-08T21:20:30.123000\",\"2025-05-08T21:20:45.359000\",\"2025-05-08T21:20:58.928000\",\"2025-05-08T21:21:01.315000\",\"2025-05-08T21:21:36.356000\",\"2025-05-08T21:21:40.277000\",\"2025-05-08T21:21:57.049000\",\"2025-05-08T21:22:21.805000\",\"2025-05-08T21:22:39.024000\",\"2025-05-08T21:22:56.197000\",\"2025-05-08T21:23:00.499000\",\"2025-05-08T21:23:08.025000\",\"2025-05-08T21:23:11.266000\",\"2025-05-08T21:23:16.643000\",\"2025-05-08T21:23:20.929000\",\"2025-05-08T21:23:44.569000\",\"2025-05-08T21:23:47.789000\",\"2025-05-08T21:24:02.825000\",\"2025-05-08T21:24:11.437000\",\"2025-05-08T21:24:22.185000\",\"2025-05-08T21:24:46.011000\",\"2025-05-08T21:25:01.047000\",\"2025-05-08T21:25:12.041000\",\"2025-05-08T21:25:39.609000\",\"2025-05-08T21:25:54.845000\",\"2025-05-08T21:25:59.165000\",\"2025-05-08T21:26:02.606000\",\"2025-05-08T21:26:30.143000\",\"2025-05-08T21:26:35.530000\",\"2025-05-08T21:26:37.679000\",\"2025-05-08T21:26:51.825000\",\"2025-05-08T21:26:56.570000\",\"2025-05-08T21:26:58.933000\",\"2025-05-08T21:27:02.413000\",\"2025-05-08T21:27:12.084000\",\"2025-05-08T21:27:19.607000\",\"2025-05-08T21:27:28.201000\",\"2025-05-08T21:27:36.823000\",\"2025-05-08T21:27:54.014000\",\"2025-05-08T21:28:06.924000\",\"2025-05-08T21:28:27.390000\",\"2025-05-08T21:28:33.849000\",\"2025-05-08T21:28:35.985000\",\"2025-05-08T21:28:40.241000\",\"2025-05-08T21:29:29.626000\",\"2025-05-08T21:29:31.779000\",\"2025-05-08T21:29:49.018000\",\"2025-05-08T21:29:55.487000\",\"2025-05-08T21:30:00.830000\",\"2025-05-08T21:30:08.584000\",\"2025-05-08T21:30:19.275000\",\"2025-05-08T21:30:29.935000\",\"2025-05-08T21:30:33.179000\",\"2025-05-08T21:30:38.523000\",\"2025-05-08T21:31:06.117000\",\"2025-05-08T21:31:15.773000\",\"2025-05-08T21:31:27.610000\",\"2025-05-08T21:31:34.043000\",\"2025-05-08T21:31:38.325000\",\"2025-05-08T21:31:42.623000\",\"2025-05-08T21:33:04.695000\",\"2025-05-08T21:33:06.827000\",\"2025-05-08T21:34:14.268000\",\"2025-05-08T21:35:41.310000\",\"2025-05-08T21:36:33.047000\",\"2025-05-08T21:43:31.117000\",\"2025-05-08T21:43:38.675000\",\"2025-05-08T21:43:42.999000\",\"2025-05-08T21:43:46.215000\",\"2025-05-08T21:43:48.351000\",\"2025-05-08T21:43:51.591000\",\"2025-05-08T21:43:59.070000\",\"2025-05-08T21:51:32.422000\",\"2025-05-08T21:52:36.603000\",\"2025-05-08T21:52:43.041000\",\"2025-05-08T21:52:47.555000\",\"2025-05-08T21:52:50.997000\",\"2025-05-08T21:52:55.484000\",\"2025-05-08T21:54:08.576000\",\"2025-05-08T21:54:33.262000\",\"2025-05-08T21:55:04.656000\",\"2025-05-08T21:55:06.793000\",\"2025-05-08T21:55:11.083000\",\"2025-05-08T21:55:13.261000\",\"2025-05-08T21:55:31.453000\",\"2025-05-08T21:55:33.610000\",\"2025-05-08T21:57:48.738000\",\"2025-05-08T21:57:53.031000\",\"2025-05-08T21:57:58.377000\",\"2025-05-08T21:58:01.611000\",\"2025-05-08T21:58:20.971000\",\"2025-05-08T21:58:51.167000\",\"2025-05-08T21:58:57.647000\",\"2025-05-08T21:59:06.251000\",\"2025-05-08T22:00:47.390000\",\"2025-05-08T22:00:52.766000\",\"2025-05-08T22:01:11.216000\",\"2025-05-08T22:01:18.769000\",\"2025-05-08T22:01:23.053000\",\"2025-05-08T22:01:25.209000\",\"2025-05-08T22:01:30.553000\",\"2025-05-08T22:01:54.417000\",\"2025-05-08T22:03:31.999000\",\"2025-05-08T22:04:00.995000\",\"2025-05-08T22:04:05.257000\",\"2025-05-08T22:04:46.802000\",\"2025-05-08T22:05:38.304000\",\"2025-05-08T22:06:16.969000\",\"2025-05-08T22:06:37.457000\",\"2025-05-08T22:06:42.859000\",\"2025-05-08T22:07:25.921000\",\"2025-05-08T22:08:41.801000\"],\"hovertemplate\":\"Activity: %{y}\\u003cbr\\u003eStart: %{base|%Y-%m-%d %H:%M:%S}\\u003cbr\\u003eEnd: %{x|%Y-%m-%d %H:%M:%S}\\u003cextra\\u003e\\u003c\\u002fextra\\u003e\",\"legendgroup\":\"Other\",\"marker\":{\"color\":\"#636efa\",\"pattern\":{\"shape\":\"\"}},\"name\":\"Other\",\"offsetgroup\":\"Other\",\"orientation\":\"h\",\"showlegend\":true,\"textposition\":\"auto\",\"x\":[715887.0,139101.0,1094.0,2180409.0,809796.0,6620393.0,344276.0,4346.0,16089.0,25865.0,10918.0,1073.0,4321.0,1071.0,116110.0,94629.0,3227.0,2144.0,18842.0,35149.0,23693.0,19354.0,1082.0,5401.0,8660.0,6449.0,7530.0,6470.0,5369.0,2147.0,4334.0,6443.0,3236.0,8592.0,3213.0,4282.0,4298.0,427108.0,20076.0,1066.0,1073.0,2146.0,1076.0,9671.0,1088.0,6427.0,11281.0,1070.0,1076.0,3204.0,2124.0,4271.0,68110.0,5362.0,5389.0,47031.0,1059.0,14026.0,40734.0,154825.0,26885.0,39629.0,15069.0,8594.0,16142.0,3232.0,19300.0,1061.0,1102.0,1100.0,3242.0,1071.0,1068.0,6445.0,3200.0,2129.0,2169.0,1061.0,2165.0,2177.0,50145.0,15337.0,60337.0,1066.0,4312.0,16157.0,2158.0,1062.0,4297.0,8596.0,9653.0,38458.0,4294.0,2122.0,405181.0,161832.0,10751.0,250389.0,19261.0,66873.0,99024.0,1063.0,3248.0,2591.0,4998.0,1068.0,16630.0,26811.0,1060.0,1121217.0,1097.0,1095.0,2183.0,1064.0,1109.0,1057.0,2132.0,1095.0,1064.0,7104.0,163751.0,34939.0,15762.0,2141.0,12885.0,39682.0,12859.0,1106.0,4313.0,34396.0,6459.0,3228.0,19372.0,3220.0,41831.0,1070.0,39693.0,2166.0,1073.0,4283.0,4258.0,2158.0,2150.0,5419.0,15071.0,1069.0,19772.0,1105.0,17735.0,1055.0,23533.0,3667.0,380716.0,1336841.0,25861.0,3217.0,1060.0,1071.0,4306.0,1067.0,7555.0,20753.0,15106.0,24705.0,1073.0,10976.0,27411.0,2165.0,3243.0,8566.0,3196.0,20143.0,62690.0,1058.0,6472.0,1063.0,54377.0,3206.0,13971.0,10810.0,15068.0,3238.0,4280.0,5378.0,2142.0,8587.0,8613.0,4322.0,8647.0,6466.0,4297.0,23647.0,1093.0,5381.0,1111.0,3218.0,3226.0,51070.0,25100.0,3200.0,122032.0,1066.0,37875.0,3430195.0,32226.0,51668.0,3195.0,1063.0,6473.0,1095.0,6464.0,8615.0,7516.0,2126.0,1074.0,26287.0,5646.0,4288.0,37792.0,4568.0,13809.0,3221.0,1071.0,6424.0,7517.0,3212.0,2128.0,4292.0,1100.0,4262.0,3232.0,1062.0,2122.0,8623.0,1062.0,49355.0,3009.0,20404.0,64141.0,2265341.0,7503.0,46873.0,4306.0,6424.0,13933.0,51838.0,1071.0,1064.0,1086.0,1066.0,1093.0,1066.0,3216.0,2141.0,8475.0,4337.0,5438.0,1305.0,1084.0,4542.0,3938.0,4282.0,2186.0,1060.0,3237.0,2159.0,1058.0,1069.0,3228.0,3235.0,1075.0,3219.0,2603.0,1100.0,1516.0,2609.0,1498.0,4354.0,2157.0,1057.0,2145.0,1071.0,1096.0,1086.0,1060.0,2177.0,1066.0,3215.0,2147.0,1060.0,1086.0,1068.0,2155.0,27354.0,1068.0,2196.0,1093.0,3896.0,2148.0,1089.0,3220.0,1538.0,2146.0,2408.0,1087.0,1089.0,1063.0,5403.0,1057.0,1097.0,19391.0,1068.0,1061.0,3187.0,48324.0,1090.0,11851.0,3231.0,4279.0,6661.0,1063.0,9606.0,1114.0,4280.0,26521.0,8556.0,10768.0,5365.0,3204.0,1060.0,31505.0,1067.0,65529.0,85955.0,50671.0,414850.0,4312.0,2159.0,1065.0,1074.0,2169.0,6417.0,452288.0,35986.0,1060.0,1061.0,2158.0,1274.0,71979.0,22557.0,30331.0,1066.0,3222.0,1100.0,16062.0,1101.0,134045.0,3232.0,4284.0,2157.0,18294.0,28051.0,5373.0,7493.0,100038.0,4306.0,17392.0,5392.0,1064.0,1064.0,2120.0,22798.0,73635.0,1065.0,3203.0,40460.0,50403.0,37607.0,18356.0,4312.0,3214.0,73711.0,1243129.0],\"xaxis\":\"x\",\"y\":[\"Other\",\"Other\",\"Other\",\"Other\",\"Other\",\"Other\",\"Other\",\"Other\",\"Other\",\"Other\",\"Other\",\"Other\",\"Other\",\"Other\",\"Other\",\"Other\",\"Other\",\"Other\",\"Other\",\"Other\",\"Other\",\"Other\",\"Other\",\"Other\",\"Other\",\"Other\",\"Other\",\"Other\",\"Other\",\"Other\",\"Other\",\"Other\",\"Other\",\"Other\",\"Other\",\"Other\",\"Other\",\"Other\",\"Other\",\"Other\",\"Other\",\"Other\",\"Other\",\"Other\",\"Other\",\"Other\",\"Other\",\"Other\",\"Other\",\"Other\",\"Other\",\"Other\",\"Other\",\"Other\",\"Other\",\"Other\",\"Other\",\"Other\",\"Other\",\"Other\",\"Other\",\"Other\",\"Other\",\"Other\",\"Other\",\"Other\",\"Other\",\"Other\",\"Other\",\"Other\",\"Other\",\"Other\",\"Other\",\"Other\",\"Other\",\"Other\",\"Other\",\"Other\",\"Other\",\"Other\",\"Other\",\"Other\",\"Other\",\"Other\",\"Other\",\"Other\",\"Other\",\"Other\",\"Other\",\"Other\",\"Other\",\"Other\",\"Other\",\"Other\",\"Other\",\"Other\",\"Other\",\"Other\",\"Other\",\"Other\",\"Other\",\"Other\",\"Other\",\"Other\",\"Other\",\"Other\",\"Other\",\"Other\",\"Other\",\"Other\",\"Other\",\"Other\",\"Other\",\"Other\",\"Other\",\"Other\",\"Other\",\"Other\",\"Other\",\"Other\",\"Other\",\"Other\",\"Other\",\"Other\",\"Other\",\"Other\",\"Other\",\"Other\",\"Other\",\"Other\",\"Other\",\"Other\",\"Other\",\"Other\",\"Other\",\"Other\",\"Other\",\"Other\",\"Other\",\"Other\",\"Other\",\"Other\",\"Other\",\"Other\",\"Other\",\"Other\",\"Other\",\"Other\",\"Other\",\"Other\",\"Other\",\"Other\",\"Other\",\"Other\",\"Other\",\"Other\",\"Other\",\"Other\",\"Other\",\"Other\",\"Other\",\"Other\",\"Other\",\"Other\",\"Other\",\"Other\",\"Other\",\"Other\",\"Other\",\"Other\",\"Other\",\"Other\",\"Other\",\"Other\",\"Other\",\"Other\",\"Other\",\"Other\",\"Other\",\"Other\",\"Other\",\"Other\",\"Other\",\"Other\",\"Other\",\"Other\",\"Other\",\"Other\",\"Other\",\"Other\",\"Other\",\"Other\",\"Other\",\"Other\",\"Other\",\"Other\",\"Other\",\"Other\",\"Other\",\"Other\",\"Other\",\"Other\",\"Other\",\"Other\",\"Other\",\"Other\",\"Other\",\"Other\",\"Other\",\"Other\",\"Other\",\"Other\",\"Other\",\"Other\",\"Other\",\"Other\",\"Other\",\"Other\",\"Other\",\"Other\",\"Other\",\"Other\",\"Other\",\"Other\",\"Other\",\"Other\",\"Other\",\"Other\",\"Other\",\"Other\",\"Other\",\"Other\",\"Other\",\"Other\",\"Other\",\"Other\",\"Other\",\"Other\",\"Other\",\"Other\",\"Other\",\"Other\",\"Other\",\"Other\",\"Other\",\"Other\",\"Other\",\"Other\",\"Other\",\"Other\",\"Other\",\"Other\",\"Other\",\"Other\",\"Other\",\"Other\",\"Other\",\"Other\",\"Other\",\"Other\",\"Other\",\"Other\",\"Other\",\"Other\",\"Other\",\"Other\",\"Other\",\"Other\",\"Other\",\"Other\",\"Other\",\"Other\",\"Other\",\"Other\",\"Other\",\"Other\",\"Other\",\"Other\",\"Other\",\"Other\",\"Other\",\"Other\",\"Other\",\"Other\",\"Other\",\"Other\",\"Other\",\"Other\",\"Other\",\"Other\",\"Other\",\"Other\",\"Other\",\"Other\",\"Other\",\"Other\",\"Other\",\"Other\",\"Other\",\"Other\",\"Other\",\"Other\",\"Other\",\"Other\",\"Other\",\"Other\",\"Other\",\"Other\",\"Other\",\"Other\",\"Other\",\"Other\",\"Other\",\"Other\",\"Other\",\"Other\",\"Other\",\"Other\",\"Other\",\"Other\",\"Other\",\"Other\",\"Other\",\"Other\",\"Other\",\"Other\",\"Other\",\"Other\",\"Other\",\"Other\",\"Other\",\"Other\",\"Other\",\"Other\",\"Other\",\"Other\",\"Other\",\"Other\",\"Other\",\"Other\",\"Other\",\"Other\",\"Other\",\"Other\",\"Other\",\"Other\",\"Other\",\"Other\",\"Other\",\"Other\",\"Other\",\"Other\",\"Other\",\"Other\",\"Other\",\"Other\",\"Other\",\"Other\",\"Other\",\"Other\",\"Other\",\"Other\",\"Other\",\"Other\",\"Other\",\"Other\",\"Other\",\"Other\",\"Other\",\"Other\",\"Other\",\"Other\",\"Other\",\"Other\",\"Other\",\"Other\",\"Other\",\"Other\",\"Other\",\"Other\",\"Other\",\"Other\",\"Other\"],\"yaxis\":\"y\",\"type\":\"bar\"},{\"alignmentgroup\":\"True\",\"base\":[\"2025-05-08T14:24:00.887000\",\"2025-05-08T14:26:21.050000\",\"2025-05-08T14:26:23.206000\",\"2025-05-08T15:02:45.730000\",\"2025-05-08T15:16:16.597000\",\"2025-05-08T17:06:38.079000\",\"2025-05-08T17:12:23.459000\",\"2025-05-08T17:12:28.875000\",\"2025-05-08T17:12:46.022000\",\"2025-05-08T17:13:26.011000\",\"2025-05-08T17:13:35.689000\",\"2025-05-08T17:15:33.919000\",\"2025-05-08T17:17:09.610000\",\"2025-05-08T17:17:25.762000\",\"2025-05-08T17:17:51.618000\",\"2025-05-08T17:19:52.387000\",\"2025-05-08T17:19:58.817000\",\"2025-05-08T17:20:03.097000\",\"2025-05-08T17:20:19.291000\",\"2025-05-08T17:20:36.495000\",\"2025-05-08T17:20:44.075000\",\"2025-05-08T17:20:59.137000\",\"2025-05-08T17:21:52.945000\",\"2025-05-08T17:29:25.911000\",\"2025-05-08T17:29:49.190000\",\"2025-05-08T17:29:52.383000\",\"2025-05-08T17:30:00.957000\",\"2025-05-08T17:30:07.376000\",\"2025-05-08T17:31:01.007000\",\"2025-05-08T17:31:03.158000\",\"2025-05-08T17:32:18.863000\",\"2025-05-08T17:33:30.185000\",\"2025-05-08T17:35:09.176000\",\"2025-05-08T17:36:14.487000\",\"2025-05-08T17:38:26.893000\",\"2025-05-08T17:38:41.976000\",\"2025-05-08T17:43:49.244000\",\"2025-05-08T17:44:16.144000\",\"2025-05-08T17:44:22.601000\",\"2025-05-08T17:45:42.128000\",\"2025-05-08T17:45:45.350000\",\"2025-05-08T17:48:53.530000\",\"2025-05-08T17:48:56.751000\",\"2025-05-08T17:49:01.039000\",\"2025-05-08T17:49:06.450000\",\"2025-05-08T18:04:12.837000\",\"2025-05-08T18:04:33.203000\",\"2025-05-08T18:05:42.208000\",\"2025-05-08T18:27:17.760000\",\"2025-05-08T18:27:37.200000\",\"2025-05-08T18:27:43.682000\",\"2025-05-08T18:27:52.277000\",\"2025-05-08T18:28:19.244000\",\"2025-05-08T18:28:36.436000\",\"2025-05-08T18:28:43.953000\",\"2025-05-08T18:29:52.860000\",\"2025-05-08T18:31:11.305000\",\"2025-05-08T18:34:48.351000\",\"2025-05-08T18:36:15.935000\",\"2025-05-08T18:40:15.379000\",\"2025-05-08T18:40:19.696000\",\"2025-05-08T18:40:27.217000\",\"2025-05-08T18:40:36.821000\",\"2025-05-08T18:41:02.653000\",\"2025-05-08T18:41:06.942000\",\"2025-05-08T18:41:28.877000\",\"2025-05-08T18:41:31.045000\",\"2025-05-08T18:41:33.182000\",\"2025-05-08T18:41:36.420000\",\"2025-05-08T18:42:12.354000\",\"2025-05-08T18:42:42.292000\",\"2025-05-08T18:42:49.425000\",\"2025-05-08T18:43:51.809000\",\"2025-05-08T19:12:33.645000\",\"2025-05-08T19:14:17.184000\",\"2025-05-08T19:16:02.210000\",\"2025-05-08T19:16:06.489000\",\"2025-05-08T19:18:30.539000\",\"2025-05-08T19:19:46.396000\",\"2025-05-08T19:20:48.835000\",\"2025-05-08T19:21:02.807000\",\"2025-05-08T19:22:06.298000\",\"2025-05-08T19:22:09.543000\",\"2025-05-08T19:22:24.566000\",\"2025-05-08T19:23:32.826000\",\"2025-05-08T19:26:59.180000\",\"2025-05-08T19:27:01.340000\",\"2025-05-08T20:26:18.667000\",\"2025-05-08T20:27:18.822000\",\"2025-05-08T20:27:33.894000\",\"2025-05-08T20:28:03.409000\",\"2025-05-08T20:28:11.180000\",\"2025-05-08T20:28:34.863000\",\"2025-05-08T20:28:53.154000\",\"2025-05-08T20:29:48.160000\",\"2025-05-08T20:29:52.944000\",\"2025-05-08T20:30:09.118000\",\"2025-05-08T20:30:24.192000\",\"2025-05-08T20:30:27.432000\",\"2025-05-08T20:31:00.665000\",\"2025-05-08T20:31:03.893000\",\"2025-05-08T20:31:12.446000\",\"2025-05-08T20:31:14.609000\",\"2025-05-08T20:31:24.237000\",\"2025-05-08T20:31:26.392000\",\"2025-05-08T20:31:41.428000\",\"2025-05-08T20:31:44.639000\",\"2025-05-08T20:31:55.383000\",\"2025-05-08T20:33:00.867000\",\"2025-05-08T20:33:36.377000\",\"2025-05-08T21:13:16.316000\",\"2025-05-08T21:14:04.249000\",\"2025-05-08T21:14:17.150000\",\"2025-05-08T21:14:32.219000\",\"2025-05-08T21:14:58.025000\",\"2025-05-08T21:15:03.386000\",\"2025-05-08T21:16:25.300000\",\"2025-05-08T21:16:40.623000\",\"2025-05-08T21:16:44.055000\",\"2025-05-08T21:16:46.429000\",\"2025-05-08T21:17:14.555000\",\"2025-05-08T21:17:35.205000\",\"2025-05-08T21:17:36.485000\",\"2025-05-08T21:18:16.251000\",\"2025-05-08T21:18:31.394000\",\"2025-05-08T21:18:40.251000\",\"2025-05-08T21:19:00.919000\",\"2025-05-08T21:19:11.029000\",\"2025-05-08T21:19:12.324000\",\"2025-05-08T21:19:20.316000\",\"2025-05-08T21:19:25.553000\",\"2025-05-08T21:19:42.774000\",\"2025-05-08T21:19:45.999000\",\"2025-05-08T21:19:53.508000\",\"2025-05-08T21:19:58.899000\",\"2025-05-08T21:20:03.189000\",\"2025-05-08T21:20:10.745000\",\"2025-05-08T21:20:16.122000\",\"2025-05-08T21:20:20.462000\",\"2025-05-08T21:20:29.021000\",\"2025-05-08T21:20:33.342000\",\"2025-05-08T21:20:47.962000\",\"2025-05-08T21:21:00.028000\",\"2025-05-08T21:21:02.831000\",\"2025-05-08T21:21:38.965000\",\"2025-05-08T21:21:41.775000\",\"2025-05-08T21:22:01.403000\",\"2025-05-08T21:22:23.962000\",\"2025-05-08T21:22:40.081000\",\"2025-05-08T21:22:58.342000\",\"2025-05-08T21:23:01.570000\",\"2025-05-08T21:23:09.121000\",\"2025-05-08T21:23:12.352000\",\"2025-05-08T21:23:17.703000\",\"2025-05-08T21:23:23.106000\",\"2025-05-08T21:23:33.846000\",\"2025-05-08T21:23:45.635000\",\"2025-05-08T21:23:51.004000\",\"2025-05-08T21:24:04.972000\",\"2025-05-08T21:24:12.497000\",\"2025-05-08T21:24:23.271000\",\"2025-05-08T21:24:47.079000\",\"2025-05-08T21:25:03.202000\",\"2025-05-08T21:25:39.395000\",\"2025-05-08T21:25:40.677000\",\"2025-05-08T21:25:57.041000\",\"2025-05-08T21:26:00.258000\",\"2025-05-08T21:26:06.502000\",\"2025-05-08T21:26:32.291000\",\"2025-05-08T21:26:36.619000\",\"2025-05-08T21:26:40.899000\",\"2025-05-08T21:26:53.363000\",\"2025-05-08T21:26:58.716000\",\"2025-05-08T21:27:01.341000\",\"2025-05-08T21:27:03.500000\",\"2025-05-08T21:27:13.173000\",\"2025-05-08T21:27:20.670000\",\"2025-05-08T21:27:33.604000\",\"2025-05-08T21:27:37.880000\",\"2025-05-08T21:27:55.111000\",\"2025-05-08T21:28:26.315000\",\"2025-05-08T21:28:28.458000\",\"2025-05-08T21:28:34.910000\",\"2025-05-08T21:28:39.172000\",\"2025-05-08T21:29:43.630000\",\"2025-05-08T21:29:53.310000\",\"2025-05-08T21:29:59.766000\",\"2025-05-08T21:30:07.491000\",\"2025-05-08T21:30:09.647000\",\"2025-05-08T21:31:14.673000\",\"2025-05-08T21:31:32.975000\",\"2025-05-08T21:31:37.247000\",\"2025-05-08T21:31:39.385000\",\"2025-05-08T21:32:14.128000\",\"2025-05-08T21:34:12.356000\",\"2025-05-08T21:35:40.223000\",\"2025-05-08T21:43:27.897000\",\"2025-05-08T21:43:35.429000\",\"2025-05-08T21:43:40.834000\",\"2025-05-08T21:43:44.064000\",\"2025-05-08T21:43:47.289000\",\"2025-05-08T21:43:50.520000\",\"2025-05-08T21:52:10.580000\",\"2025-05-08T21:52:17.036000\",\"2025-05-08T21:52:37.663000\",\"2025-05-08T21:52:44.102000\",\"2025-05-08T21:52:53.335000\",\"2025-05-08T21:57:57.315000\",\"2025-05-08T21:58:19.905000\",\"2025-05-08T22:01:10.158000\",\"2025-05-08T22:01:16.608000\",\"2025-05-08T22:01:19.833000\",\"2025-05-08T22:01:24.117000\",\"2025-05-08T22:01:27.329000\",\"2025-05-08T22:01:53.351000\",\"2025-05-08T22:03:08.052000\",\"2025-05-08T22:03:33.064000\",\"2025-05-08T22:03:57.774000\",\"2025-05-08T22:06:15.911000\",\"2025-05-08T22:06:35.325000\",\"2025-05-08T22:06:46.073000\",\"2025-05-08T22:06:59.006000\",\"2025-05-08T22:07:08.706000\",\"2025-05-08T22:08:39.632000\"],\"hovertemplate\":\"Activity: %{y}\\u003cbr\\u003eStart: %{base|%Y-%m-%d %H:%M:%S}\\u003cbr\\u003eEnd: %{x|%Y-%m-%d %H:%M:%S}\\u003cextra\\u003e\\u003c\\u002fextra\\u003e\",\"legendgroup\":\"Shower\",\"marker\":{\"color\":\"#EF553B\",\"pattern\":{\"shape\":\"\"}},\"name\":\"Shower\",\"offsetgroup\":\"Shower\",\"orientation\":\"h\",\"showlegend\":true,\"textposition\":\"auto\",\"x\":[1062.0,1062.0,2115.0,1071.0,1089.0,1104.0,1070.0,1058.0,2144.0,1062.0,2120.0,1062.0,7549.0,24790.0,19385.0,5348.0,1069.0,1063.0,1062.0,6474.0,2127.0,1100.0,25858.0,3203.0,2127.0,6433.0,2128.0,1073.0,1063.0,1062.0,1057.0,86115.0,18280.0,131347.0,1057.0,1072.0,1069.0,3225.0,3208.0,1066.0,1059.0,1063.0,3226.0,1114.0,2172.0,1105.0,2132.0,1063.0,18345.0,4299.0,7531.0,25858.0,16135.0,5385.0,67812.0,77381.0,45128.0,32620.0,1066.0,2151.0,1069.0,1061.0,1056.0,3220.0,2163.0,1063.0,1066.0,2168.0,6420.0,2131.0,3466.0,59161.0,3222.0,1072.0,3231.0,1065.0,1064.0,1090.0,1114.0,2131.0,1058.0,1073.0,5354.0,17190.0,53806.0,1094.0,1075.0,5347.0,13998.0,3228.0,2125.0,21528.0,17184.0,11815.0,216.0,2365.0,11853.0,2169.0,12888.0,1070.0,1070.0,1063.0,1063.0,1085.0,1060.0,2123.0,9682.0,16129.0,32501.0,19348.0,1060.0,7538.0,8645.0,21462.0,3232.0,15043.0,14252.0,2368.0,1288.0,27060.0,19557.0,214.0,33351.0,6668.0,4520.0,15230.0,8805.0,211.0,3450.0,1299.0,9693.0,2165.0,4272.0,3232.0,3232.0,5388.0,2149.0,1105.0,5329.0,1102.0,12017.0,10966.0,1287.0,33525.0,1312.0,15274.0,20402.0,15062.0,16116.0,2157.0,6455.0,2145.0,4291.0,3226.0,9680.0,10723.0,2154.0,11821.0,6465.0,9688.0,22740.0,13968.0,8839.0,214.0,14168.0,2124.0,2348.0,23641.0,3239.0,1060.0,10926.0,3207.0,217.0,1072.0,8584.0,6434.0,7531.0,3219.0,16134.0,11813.0,1075.0,5391.0,1075.0,1069.0,4289.0,1067.0,1064.0,1093.0,9628.0,1100.0,1068.0,1078.0,3238.0,50567.0,1912.0,1087.0,3220.0,3246.0,2165.0,2151.0,1062.0,1071.0,4302.0,19567.0,5378.0,2162.0,2149.0,1062.0,1066.0,1058.0,2161.0,3220.0,1092.0,3224.0,1066.0,23947.0,23617.0,3221.0,1058.0,2132.0,9678.0,7549.0,17215.0,2169.0],\"xaxis\":\"x\",\"y\":[\"Shower\",\"Shower\",\"Shower\",\"Shower\",\"Shower\",\"Shower\",\"Shower\",\"Shower\",\"Shower\",\"Shower\",\"Shower\",\"Shower\",\"Shower\",\"Shower\",\"Shower\",\"Shower\",\"Shower\",\"Shower\",\"Shower\",\"Shower\",\"Shower\",\"Shower\",\"Shower\",\"Shower\",\"Shower\",\"Shower\",\"Shower\",\"Shower\",\"Shower\",\"Shower\",\"Shower\",\"Shower\",\"Shower\",\"Shower\",\"Shower\",\"Shower\",\"Shower\",\"Shower\",\"Shower\",\"Shower\",\"Shower\",\"Shower\",\"Shower\",\"Shower\",\"Shower\",\"Shower\",\"Shower\",\"Shower\",\"Shower\",\"Shower\",\"Shower\",\"Shower\",\"Shower\",\"Shower\",\"Shower\",\"Shower\",\"Shower\",\"Shower\",\"Shower\",\"Shower\",\"Shower\",\"Shower\",\"Shower\",\"Shower\",\"Shower\",\"Shower\",\"Shower\",\"Shower\",\"Shower\",\"Shower\",\"Shower\",\"Shower\",\"Shower\",\"Shower\",\"Shower\",\"Shower\",\"Shower\",\"Shower\",\"Shower\",\"Shower\",\"Shower\",\"Shower\",\"Shower\",\"Shower\",\"Shower\",\"Shower\",\"Shower\",\"Shower\",\"Shower\",\"Shower\",\"Shower\",\"Shower\",\"Shower\",\"Shower\",\"Shower\",\"Shower\",\"Shower\",\"Shower\",\"Shower\",\"Shower\",\"Shower\",\"Shower\",\"Shower\",\"Shower\",\"Shower\",\"Shower\",\"Shower\",\"Shower\",\"Shower\",\"Shower\",\"Shower\",\"Shower\",\"Shower\",\"Shower\",\"Shower\",\"Shower\",\"Shower\",\"Shower\",\"Shower\",\"Shower\",\"Shower\",\"Shower\",\"Shower\",\"Shower\",\"Shower\",\"Shower\",\"Shower\",\"Shower\",\"Shower\",\"Shower\",\"Shower\",\"Shower\",\"Shower\",\"Shower\",\"Shower\",\"Shower\",\"Shower\",\"Shower\",\"Shower\",\"Shower\",\"Shower\",\"Shower\",\"Shower\",\"Shower\",\"Shower\",\"Shower\",\"Shower\",\"Shower\",\"Shower\",\"Shower\",\"Shower\",\"Shower\",\"Shower\",\"Shower\",\"Shower\",\"Shower\",\"Shower\",\"Shower\",\"Shower\",\"Shower\",\"Shower\",\"Shower\",\"Shower\",\"Shower\",\"Shower\",\"Shower\",\"Shower\",\"Shower\",\"Shower\",\"Shower\",\"Shower\",\"Shower\",\"Shower\",\"Shower\",\"Shower\",\"Shower\",\"Shower\",\"Shower\",\"Shower\",\"Shower\",\"Shower\",\"Shower\",\"Shower\",\"Shower\",\"Shower\",\"Shower\",\"Shower\",\"Shower\",\"Shower\",\"Shower\",\"Shower\",\"Shower\",\"Shower\",\"Shower\",\"Shower\",\"Shower\",\"Shower\",\"Shower\",\"Shower\",\"Shower\",\"Shower\",\"Shower\",\"Shower\",\"Shower\",\"Shower\",\"Shower\",\"Shower\",\"Shower\",\"Shower\",\"Shower\",\"Shower\",\"Shower\",\"Shower\",\"Shower\",\"Shower\",\"Shower\",\"Shower\",\"Shower\",\"Shower\",\"Shower\",\"Shower\",\"Shower\",\"Shower\",\"Shower\"],\"yaxis\":\"y\",\"type\":\"bar\"},{\"alignmentgroup\":\"True\",\"base\":[\"2025-05-08T17:19:06.061000\",\"2025-05-08T17:19:59.886000\",\"2025-05-08T17:20:26.802000\",\"2025-05-08T17:20:52.672000\",\"2025-05-08T17:21:09.908000\",\"2025-05-08T17:21:17.411000\",\"2025-05-08T17:59:49.531000\",\"2025-05-08T18:07:22.295000\",\"2025-05-08T18:07:26.590000\",\"2025-05-08T18:07:30.062000\",\"2025-05-08T18:07:34.793000\",\"2025-05-08T18:07:40.878000\",\"2025-05-08T18:07:43.003000\",\"2025-05-08T18:08:00.913000\",\"2025-05-08T18:08:32.027000\",\"2025-05-08T18:08:34.172000\",\"2025-05-08T18:50:15.747000\",\"2025-05-08T19:19:30.277000\",\"2025-05-08T19:20:00.451000\",\"2025-05-08T19:21:08.187000\",\"2025-05-08T19:21:17.904000\",\"2025-05-08T19:21:25.443000\",\"2025-05-08T19:21:32.963000\",\"2025-05-08T19:21:59.854000\",\"2025-05-08T19:22:14.897000\",\"2025-05-08T20:26:31.470000\",\"2025-05-08T20:26:45.482000\",\"2025-05-08T20:26:47.642000\",\"2025-05-08T20:26:57.337000\",\"2025-05-08T20:27:07.036000\",\"2025-05-08T20:27:15.614000\",\"2025-05-08T20:31:43.551000\",\"2025-05-08T21:29:47.919000\",\"2025-05-08T21:29:52.249000\",\"2025-05-08T21:29:54.377000\"],\"hovertemplate\":\"Activity: %{y}\\u003cbr\\u003eStart: %{base|%Y-%m-%d %H:%M:%S}\\u003cbr\\u003eEnd: %{x|%Y-%m-%d %H:%M:%S}\\u003cextra\\u003e\\u003c\\u002fextra\\u003e\",\"legendgroup\":\"Tooth_brushing\",\"marker\":{\"color\":\"#00cc96\",\"pattern\":{\"shape\":\"\"}},\"name\":\"Tooth_brushing\",\"offsetgroup\":\"Tooth_brushing\",\"orientation\":\"h\",\"showlegend\":true,\"textposition\":\"auto\",\"x\":[2172.0,3211.0,1090.0,1096.0,1060.0,3232.0,1069.0,3232.0,224.0,2140.0,1087.0,1057.0,1280.0,4303.0,1085.0,214.0,1057.0,1083.0,1077.0,1070.0,1073.0,3223.0,1087.0,1063.0,2155.0,7539.0,1065.0,3231.0,1084.0,1062.0,1082.0,1088.0,1099.0,1061.0,1110.0],\"xaxis\":\"x\",\"y\":[\"Tooth_brushing\",\"Tooth_brushing\",\"Tooth_brushing\",\"Tooth_brushing\",\"Tooth_brushing\",\"Tooth_brushing\",\"Tooth_brushing\",\"Tooth_brushing\",\"Tooth_brushing\",\"Tooth_brushing\",\"Tooth_brushing\",\"Tooth_brushing\",\"Tooth_brushing\",\"Tooth_brushing\",\"Tooth_brushing\",\"Tooth_brushing\",\"Tooth_brushing\",\"Tooth_brushing\",\"Tooth_brushing\",\"Tooth_brushing\",\"Tooth_brushing\",\"Tooth_brushing\",\"Tooth_brushing\",\"Tooth_brushing\",\"Tooth_brushing\",\"Tooth_brushing\",\"Tooth_brushing\",\"Tooth_brushing\",\"Tooth_brushing\",\"Tooth_brushing\",\"Tooth_brushing\",\"Tooth_brushing\",\"Tooth_brushing\",\"Tooth_brushing\",\"Tooth_brushing\"],\"yaxis\":\"y\",\"type\":\"bar\"},{\"alignmentgroup\":\"True\",\"base\":[\"2025-05-08T17:17:22.558000\",\"2025-05-08T17:17:50.552000\",\"2025-05-08T18:43:48.586000\",\"2025-05-08T20:28:32.708000\",\"2025-05-08T20:28:52.047000\",\"2025-05-08T21:14:53.681000\",\"2025-05-08T21:15:01.257000\",\"2025-05-08T21:23:32.786000\",\"2025-05-08T21:52:08.408000\",\"2025-05-08T21:52:14.882000\",\"2025-05-08T21:52:46.264000\",\"2025-05-08T21:52:49.713000\",\"2025-05-08T21:52:52.271000\",\"2025-05-08T22:03:56.681000\",\"2025-05-08T22:06:55.751000\",\"2025-05-08T22:07:06.555000\"],\"hovertemplate\":\"Activity: %{y}\\u003cbr\\u003eStart: %{base|%Y-%m-%d %H:%M:%S}\\u003cbr\\u003eEnd: %{x|%Y-%m-%d %H:%M:%S}\\u003cextra\\u003e\\u003c\\u002fextra\\u003e\",\"legendgroup\":\"Washing_hands\",\"marker\":{\"color\":\"#ab63fa\",\"pattern\":{\"shape\":\"\"}},\"name\":\"Washing_hands\",\"offsetgroup\":\"Washing_hands\",\"orientation\":\"h\",\"showlegend\":true,\"textposition\":\"auto\",\"x\":[1060.0,1066.0,3223.0,2155.0,1107.0,4344.0,2129.0,1060.0,2172.0,2154.0,1291.0,1284.0,1064.0,1093.0,3255.0,2151.0],\"xaxis\":\"x\",\"y\":[\"Washing_hands\",\"Washing_hands\",\"Washing_hands\",\"Washing_hands\",\"Washing_hands\",\"Washing_hands\",\"Washing_hands\",\"Washing_hands\",\"Washing_hands\",\"Washing_hands\",\"Washing_hands\",\"Washing_hands\",\"Washing_hands\",\"Washing_hands\",\"Washing_hands\",\"Washing_hands\"],\"yaxis\":\"y\",\"type\":\"bar\"},{\"alignmentgroup\":\"True\",\"base\":[\"2025-05-08T17:13:14.031000\",\"2025-05-08T17:13:28.146000\",\"2025-05-08T17:13:33.526000\",\"2025-05-08T17:17:20.386000\",\"2025-05-08T17:18:29.845000\",\"2025-05-08T17:19:31.926000\",\"2025-05-08T17:20:09.561000\",\"2025-05-08T17:20:35.422000\",\"2025-05-08T17:20:42.969000\",\"2025-05-08T17:21:00.237000\",\"2025-05-08T17:21:04.510000\",\"2025-05-08T17:21:23.879000\",\"2025-05-08T17:21:34.657000\",\"2025-05-08T17:21:38.961000\",\"2025-05-08T17:21:46.482000\",\"2025-05-08T17:29:59.889000\",\"2025-05-08T17:30:03.085000\",\"2025-05-08T17:30:08.449000\",\"2025-05-08T17:30:30.947000\",\"2025-05-08T17:30:47.041000\",\"2025-05-08T17:31:10.647000\",\"2025-05-08T17:31:23.026000\",\"2025-05-08T17:31:28.406000\",\"2025-05-08T17:31:34.855000\",\"2025-05-08T17:32:01.656000\",\"2025-05-08T17:32:05.963000\",\"2025-05-08T17:32:17.773000\",\"2025-05-08T17:32:19.920000\",\"2025-05-08T17:35:01.662000\",\"2025-05-08T17:39:23.782000\",\"2025-05-08T17:42:07.222000\",\"2025-05-08T17:42:36.242000\",\"2025-05-08T17:43:16.946000\",\"2025-05-08T17:43:58.907000\",\"2025-05-08T17:44:45.109000\",\"2025-05-08T17:44:52.646000\",\"2025-05-08T17:44:54.811000\",\"2025-05-08T17:44:59.097000\",\"2025-05-08T17:45:03.426000\",\"2025-05-08T17:45:07.736000\",\"2025-05-08T17:45:09.894000\",\"2025-05-08T17:45:31.422000\",\"2025-05-08T17:45:40.004000\",\"2025-05-08T17:45:43.194000\",\"2025-05-08T17:45:46.409000\",\"2025-05-08T17:45:52.865000\",\"2025-05-08T17:46:01.455000\",\"2025-05-08T17:46:03.571000\",\"2025-05-08T17:46:12.213000\",\"2025-05-08T17:46:18.666000\",\"2025-05-08T17:47:09.878000\",\"2025-05-08T17:47:27.385000\",\"2025-05-08T17:48:28.791000\",\"2025-05-08T17:48:30.920000\",\"2025-05-08T17:48:36.297000\",\"2025-05-08T17:49:17.218000\",\"2025-05-08T17:49:27.963000\",\"2025-05-08T17:50:07.483000\",\"2025-05-08T17:50:12.843000\",\"2025-05-08T17:50:20.333000\",\"2025-05-08T17:57:06.638000\",\"2025-05-08T18:00:01.351000\",\"2025-05-08T18:27:15.603000\",\"2025-05-08T18:32:03.537000\",\"2025-05-08T18:35:55.910000\",\"2025-05-08T18:36:12.730000\",\"2025-05-08T18:36:29.886000\",\"2025-05-08T18:37:10.649000\",\"2025-05-08T18:37:24.576000\",\"2025-05-08T18:37:26.744000\",\"2025-05-08T18:37:32.130000\",\"2025-05-08T18:38:09.754000\",\"2025-05-08T18:38:17.278000\",\"2025-05-08T18:38:21.567000\",\"2025-05-08T18:38:43.104000\",\"2025-05-08T18:38:47.387000\",\"2025-05-08T18:39:30.293000\",\"2025-05-08T18:39:32.455000\",\"2025-05-08T18:40:21.838000\",\"2025-05-08T18:40:28.278000\",\"2025-05-08T18:40:33.601000\",\"2025-05-08T18:40:40.027000\",\"2025-05-08T18:40:46.512000\",\"2025-05-08T18:41:32.111000\",\"2025-05-08T18:41:35.350000\",\"2025-05-08T18:41:42.840000\",\"2025-05-08T18:42:04.888000\",\"2025-05-08T18:42:15.540000\",\"2025-05-08T19:13:00.578000\",\"2025-05-08T19:13:14.540000\",\"2025-05-08T19:13:17.757000\",\"2025-05-08T19:13:20.960000\",\"2025-05-08T19:13:30.647000\",\"2025-05-08T19:13:39.190000\",\"2025-05-08T19:13:48.922000\",\"2025-05-08T19:14:35.521000\",\"2025-05-08T19:15:01.286000\",\"2025-05-08T19:15:03.435000\",\"2025-05-08T19:15:15.473000\",\"2025-05-08T19:15:43.974000\",\"2025-05-08T19:15:52.556000\",\"2025-05-08T19:16:01.118000\",\"2025-05-08T19:16:03.275000\",\"2025-05-08T19:16:07.553000\",\"2025-05-08T19:16:17.223000\",\"2025-05-08T19:16:31.158000\",\"2025-05-08T19:16:52.415000\",\"2025-05-08T19:17:56.172000\",\"2025-05-08T19:18:03.701000\",\"2025-05-08T19:18:27.352000\",\"2025-05-08T19:19:26.006000\",\"2025-05-08T19:19:45.331000\",\"2025-05-08T19:19:47.510000\",\"2025-05-08T19:20:16.596000\",\"2025-05-08T19:20:21.964000\",\"2025-05-08T19:20:27.334000\",\"2025-05-08T19:20:33.783000\",\"2025-05-08T19:20:38.081000\",\"2025-05-08T19:20:50.966000\",\"2025-05-08T19:21:01.732000\",\"2025-05-08T19:21:57.697000\",\"2025-05-08T19:22:07.371000\",\"2025-05-08T19:22:20.270000\",\"2025-05-08T19:24:51.732000\",\"2025-05-08T19:24:56.030000\",\"2025-05-08T19:27:40.290000\",\"2025-05-08T20:24:51.553000\",\"2025-05-08T20:25:24.847000\",\"2025-05-08T20:26:17.579000\",\"2025-05-08T20:26:27.209000\",\"2025-05-08T20:29:09.257000\",\"2025-05-08T20:30:46.744000\",\"2025-05-08T20:30:55.319000\",\"2025-05-08T20:30:59.603000\",\"2025-05-08T20:31:01.735000\",\"2025-05-08T20:31:07.091000\",\"2025-05-08T20:31:19.934000\",\"2025-05-08T20:31:25.322000\",\"2025-05-08T20:31:28.514000\",\"2025-05-08T20:31:31.743000\",\"2025-05-08T20:34:16.129000\",\"2025-05-08T20:35:21.338000\",\"2025-05-08T21:13:07.749000\",\"2025-05-08T21:14:11.787000\",\"2025-05-08T21:15:32.362000\",\"2025-05-08T21:18:13.052000\",\"2025-05-08T21:19:39.528000\",\"2025-05-08T21:20:09.646000\",\"2025-05-08T21:20:25.791000\",\"2025-05-08T21:29:28.565000\",\"2025-05-08T21:29:30.716000\",\"2025-05-08T21:30:28.881000\",\"2025-05-08T21:30:31.049000\",\"2025-05-08T21:30:37.459000\",\"2025-05-08T21:31:05.044000\",\"2025-05-08T21:31:26.541000\",\"2025-05-08T21:33:05.762000\",\"2025-05-08T21:36:31.981000\",\"2025-05-08T21:43:58.008000\",\"2025-05-08T21:51:31.358000\",\"2025-05-08T21:54:07.463000\",\"2025-05-08T21:54:31.133000\",\"2025-05-08T21:55:03.593000\",\"2025-05-08T21:55:05.722000\",\"2025-05-08T21:55:10.015000\",\"2025-05-08T21:55:12.183000\",\"2025-05-08T21:55:29.323000\",\"2025-05-08T21:55:32.554000\",\"2025-05-08T21:57:47.655000\",\"2025-05-08T21:57:51.970000\",\"2025-05-08T21:58:00.534000\",\"2025-05-08T21:58:49.022000\",\"2025-05-08T21:58:56.540000\",\"2025-05-08T21:59:05.140000\",\"2025-05-08T22:00:46.289000\",\"2025-05-08T22:00:51.696000\",\"2025-05-08T22:04:04.198000\",\"2025-05-08T22:04:45.717000\",\"2025-05-08T22:05:37.205000\",\"2025-05-08T22:06:41.769000\"],\"hovertemplate\":\"Activity: %{y}\\u003cbr\\u003eStart: %{base|%Y-%m-%d %H:%M:%S}\\u003cbr\\u003eEnd: %{x|%Y-%m-%d %H:%M:%S}\\u003cextra\\u003e\\u003c\\u002fextra\\u003e\",\"legendgroup\":\"Wiping\",\"marker\":{\"color\":\"#FFA15A\",\"pattern\":{\"shape\":\"\"}},\"name\":\"Wiping\",\"offsetgroup\":\"Wiping\",\"orientation\":\"h\",\"showlegend\":true,\"textposition\":\"auto\",\"x\":[1062.0,1059.0,1092.0,2172.0,1067.0,1107.0,1070.0,1073.0,1106.0,2126.0,1064.0,2186.0,1091.0,3239.0,2165.0,1068.0,4291.0,20352.0,15018.0,4295.0,1098.0,4310.0,5373.0,23597.0,2183.0,7539.0,1090.0,2155.0,2125.0,8615.0,2135.0,1075.0,17229.0,1095.0,6476.0,1063.0,3186.0,1087.0,3239.0,1090.0,15083.0,5382.0,2124.0,2156.0,4327.0,6421.0,1055.0,6477.0,4276.0,1067.0,2170.0,1069.0,1063.0,1065.0,1076.0,1092.0,1062.0,1066.0,5368.0,1124.0,1061.0,1097.0,1060.0,1063.0,1058.0,1064.0,1081.0,1068.0,1062.0,1073.0,3228.0,1065.0,1061.0,2165.0,1063.0,1075.0,1092.0,3231.0,1096.0,1065.0,1062.0,1066.0,1070.0,1071.0,1070.0,4313.0,7466.0,3219.0,10745.0,2157.0,2132.0,5381.0,7476.0,2177.0,7509.0,1060.0,1076.0,1062.0,1090.0,6417.0,5319.0,1092.0,3214.0,1104.0,10739.0,1114.0,1067.0,6471.0,17179.0,2124.0,1065.0,1065.0,2131.0,2130.0,1090.0,1071.0,2156.0,2167.0,2153.0,1075.0,1064.0,1061.0,1070.0,1098.0,1118.0,1068.0,1068.0,1064.0,1088.0,3198.0,1111.0,1058.0,1072.0,1062.0,2158.0,1063.0,1071.0,1070.0,1107.0,1062.0,1068.0,1070.0,1064.0,1057.0,1100.0,1058.0,1060.0,1099.0,2155.0,1061.0,1063.0,1054.0,2130.0,1064.0,1073.0,1069.0,1065.0,1066.0,1062.0,1064.0,1113.0,2129.0,1063.0,1071.0,1068.0,1078.0,2130.0,1056.0,1083.0,1061.0,1077.0,2145.0,1107.0,1111.0,1101.0,1070.0,1059.0,1085.0,1099.0,1090.0],\"xaxis\":\"x\",\"y\":[\"Wiping\",\"Wiping\",\"Wiping\",\"Wiping\",\"Wiping\",\"Wiping\",\"Wiping\",\"Wiping\",\"Wiping\",\"Wiping\",\"Wiping\",\"Wiping\",\"Wiping\",\"Wiping\",\"Wiping\",\"Wiping\",\"Wiping\",\"Wiping\",\"Wiping\",\"Wiping\",\"Wiping\",\"Wiping\",\"Wiping\",\"Wiping\",\"Wiping\",\"Wiping\",\"Wiping\",\"Wiping\",\"Wiping\",\"Wiping\",\"Wiping\",\"Wiping\",\"Wiping\",\"Wiping\",\"Wiping\",\"Wiping\",\"Wiping\",\"Wiping\",\"Wiping\",\"Wiping\",\"Wiping\",\"Wiping\",\"Wiping\",\"Wiping\",\"Wiping\",\"Wiping\",\"Wiping\",\"Wiping\",\"Wiping\",\"Wiping\",\"Wiping\",\"Wiping\",\"Wiping\",\"Wiping\",\"Wiping\",\"Wiping\",\"Wiping\",\"Wiping\",\"Wiping\",\"Wiping\",\"Wiping\",\"Wiping\",\"Wiping\",\"Wiping\",\"Wiping\",\"Wiping\",\"Wiping\",\"Wiping\",\"Wiping\",\"Wiping\",\"Wiping\",\"Wiping\",\"Wiping\",\"Wiping\",\"Wiping\",\"Wiping\",\"Wiping\",\"Wiping\",\"Wiping\",\"Wiping\",\"Wiping\",\"Wiping\",\"Wiping\",\"Wiping\",\"Wiping\",\"Wiping\",\"Wiping\",\"Wiping\",\"Wiping\",\"Wiping\",\"Wiping\",\"Wiping\",\"Wiping\",\"Wiping\",\"Wiping\",\"Wiping\",\"Wiping\",\"Wiping\",\"Wiping\",\"Wiping\",\"Wiping\",\"Wiping\",\"Wiping\",\"Wiping\",\"Wiping\",\"Wiping\",\"Wiping\",\"Wiping\",\"Wiping\",\"Wiping\",\"Wiping\",\"Wiping\",\"Wiping\",\"Wiping\",\"Wiping\",\"Wiping\",\"Wiping\",\"Wiping\",\"Wiping\",\"Wiping\",\"Wiping\",\"Wiping\",\"Wiping\",\"Wiping\",\"Wiping\",\"Wiping\",\"Wiping\",\"Wiping\",\"Wiping\",\"Wiping\",\"Wiping\",\"Wiping\",\"Wiping\",\"Wiping\",\"Wiping\",\"Wiping\",\"Wiping\",\"Wiping\",\"Wiping\",\"Wiping\",\"Wiping\",\"Wiping\",\"Wiping\",\"Wiping\",\"Wiping\",\"Wiping\",\"Wiping\",\"Wiping\",\"Wiping\",\"Wiping\",\"Wiping\",\"Wiping\",\"Wiping\",\"Wiping\",\"Wiping\",\"Wiping\",\"Wiping\",\"Wiping\",\"Wiping\",\"Wiping\",\"Wiping\",\"Wiping\",\"Wiping\",\"Wiping\",\"Wiping\",\"Wiping\",\"Wiping\",\"Wiping\",\"Wiping\",\"Wiping\",\"Wiping\",\"Wiping\",\"Wiping\",\"Wiping\",\"Wiping\",\"Wiping\",\"Wiping\",\"Wiping\",\"Wiping\",\"Wiping\"],\"yaxis\":\"y\",\"type\":\"bar\"}],                        {\"template\":{\"data\":{\"histogram2dcontour\":[{\"type\":\"histogram2dcontour\",\"colorbar\":{\"outlinewidth\":0,\"ticks\":\"\"},\"colorscale\":[[0.0,\"#0d0887\"],[0.1111111111111111,\"#46039f\"],[0.2222222222222222,\"#7201a8\"],[0.3333333333333333,\"#9c179e\"],[0.4444444444444444,\"#bd3786\"],[0.5555555555555556,\"#d8576b\"],[0.6666666666666666,\"#ed7953\"],[0.7777777777777778,\"#fb9f3a\"],[0.8888888888888888,\"#fdca26\"],[1.0,\"#f0f921\"]]}],\"choropleth\":[{\"type\":\"choropleth\",\"colorbar\":{\"outlinewidth\":0,\"ticks\":\"\"}}],\"histogram2d\":[{\"type\":\"histogram2d\",\"colorbar\":{\"outlinewidth\":0,\"ticks\":\"\"},\"colorscale\":[[0.0,\"#0d0887\"],[0.1111111111111111,\"#46039f\"],[0.2222222222222222,\"#7201a8\"],[0.3333333333333333,\"#9c179e\"],[0.4444444444444444,\"#bd3786\"],[0.5555555555555556,\"#d8576b\"],[0.6666666666666666,\"#ed7953\"],[0.7777777777777778,\"#fb9f3a\"],[0.8888888888888888,\"#fdca26\"],[1.0,\"#f0f921\"]]}],\"heatmap\":[{\"type\":\"heatmap\",\"colorbar\":{\"outlinewidth\":0,\"ticks\":\"\"},\"colorscale\":[[0.0,\"#0d0887\"],[0.1111111111111111,\"#46039f\"],[0.2222222222222222,\"#7201a8\"],[0.3333333333333333,\"#9c179e\"],[0.4444444444444444,\"#bd3786\"],[0.5555555555555556,\"#d8576b\"],[0.6666666666666666,\"#ed7953\"],[0.7777777777777778,\"#fb9f3a\"],[0.8888888888888888,\"#fdca26\"],[1.0,\"#f0f921\"]]}],\"heatmapgl\":[{\"type\":\"heatmapgl\",\"colorbar\":{\"outlinewidth\":0,\"ticks\":\"\"},\"colorscale\":[[0.0,\"#0d0887\"],[0.1111111111111111,\"#46039f\"],[0.2222222222222222,\"#7201a8\"],[0.3333333333333333,\"#9c179e\"],[0.4444444444444444,\"#bd3786\"],[0.5555555555555556,\"#d8576b\"],[0.6666666666666666,\"#ed7953\"],[0.7777777777777778,\"#fb9f3a\"],[0.8888888888888888,\"#fdca26\"],[1.0,\"#f0f921\"]]}],\"contourcarpet\":[{\"type\":\"contourcarpet\",\"colorbar\":{\"outlinewidth\":0,\"ticks\":\"\"}}],\"contour\":[{\"type\":\"contour\",\"colorbar\":{\"outlinewidth\":0,\"ticks\":\"\"},\"colorscale\":[[0.0,\"#0d0887\"],[0.1111111111111111,\"#46039f\"],[0.2222222222222222,\"#7201a8\"],[0.3333333333333333,\"#9c179e\"],[0.4444444444444444,\"#bd3786\"],[0.5555555555555556,\"#d8576b\"],[0.6666666666666666,\"#ed7953\"],[0.7777777777777778,\"#fb9f3a\"],[0.8888888888888888,\"#fdca26\"],[1.0,\"#f0f921\"]]}],\"surface\":[{\"type\":\"surface\",\"colorbar\":{\"outlinewidth\":0,\"ticks\":\"\"},\"colorscale\":[[0.0,\"#0d0887\"],[0.1111111111111111,\"#46039f\"],[0.2222222222222222,\"#7201a8\"],[0.3333333333333333,\"#9c179e\"],[0.4444444444444444,\"#bd3786\"],[0.5555555555555556,\"#d8576b\"],[0.6666666666666666,\"#ed7953\"],[0.7777777777777778,\"#fb9f3a\"],[0.8888888888888888,\"#fdca26\"],[1.0,\"#f0f921\"]]}],\"mesh3d\":[{\"type\":\"mesh3d\",\"colorbar\":{\"outlinewidth\":0,\"ticks\":\"\"}}],\"scatter\":[{\"marker\":{\"line\":{\"color\":\"#283442\"}},\"type\":\"scatter\"}],\"parcoords\":[{\"type\":\"parcoords\",\"line\":{\"colorbar\":{\"outlinewidth\":0,\"ticks\":\"\"}}}],\"scatterpolargl\":[{\"type\":\"scatterpolargl\",\"marker\":{\"colorbar\":{\"outlinewidth\":0,\"ticks\":\"\"}}}],\"bar\":[{\"error_x\":{\"color\":\"#f2f5fa\"},\"error_y\":{\"color\":\"#f2f5fa\"},\"marker\":{\"line\":{\"color\":\"rgb(17,17,17)\",\"width\":0.5},\"pattern\":{\"fillmode\":\"overlay\",\"size\":10,\"solidity\":0.2}},\"type\":\"bar\"}],\"scattergeo\":[{\"type\":\"scattergeo\",\"marker\":{\"colorbar\":{\"outlinewidth\":0,\"ticks\":\"\"}}}],\"scatterpolar\":[{\"type\":\"scatterpolar\",\"marker\":{\"colorbar\":{\"outlinewidth\":0,\"ticks\":\"\"}}}],\"histogram\":[{\"marker\":{\"pattern\":{\"fillmode\":\"overlay\",\"size\":10,\"solidity\":0.2}},\"type\":\"histogram\"}],\"scattergl\":[{\"marker\":{\"line\":{\"color\":\"#283442\"}},\"type\":\"scattergl\"}],\"scatter3d\":[{\"type\":\"scatter3d\",\"line\":{\"colorbar\":{\"outlinewidth\":0,\"ticks\":\"\"}},\"marker\":{\"colorbar\":{\"outlinewidth\":0,\"ticks\":\"\"}}}],\"scattermapbox\":[{\"type\":\"scattermapbox\",\"marker\":{\"colorbar\":{\"outlinewidth\":0,\"ticks\":\"\"}}}],\"scatterternary\":[{\"type\":\"scatterternary\",\"marker\":{\"colorbar\":{\"outlinewidth\":0,\"ticks\":\"\"}}}],\"scattercarpet\":[{\"type\":\"scattercarpet\",\"marker\":{\"colorbar\":{\"outlinewidth\":0,\"ticks\":\"\"}}}],\"carpet\":[{\"aaxis\":{\"endlinecolor\":\"#A2B1C6\",\"gridcolor\":\"#506784\",\"linecolor\":\"#506784\",\"minorgridcolor\":\"#506784\",\"startlinecolor\":\"#A2B1C6\"},\"baxis\":{\"endlinecolor\":\"#A2B1C6\",\"gridcolor\":\"#506784\",\"linecolor\":\"#506784\",\"minorgridcolor\":\"#506784\",\"startlinecolor\":\"#A2B1C6\"},\"type\":\"carpet\"}],\"table\":[{\"cells\":{\"fill\":{\"color\":\"#506784\"},\"line\":{\"color\":\"rgb(17,17,17)\"}},\"header\":{\"fill\":{\"color\":\"#2a3f5f\"},\"line\":{\"color\":\"rgb(17,17,17)\"}},\"type\":\"table\"}],\"barpolar\":[{\"marker\":{\"line\":{\"color\":\"rgb(17,17,17)\",\"width\":0.5},\"pattern\":{\"fillmode\":\"overlay\",\"size\":10,\"solidity\":0.2}},\"type\":\"barpolar\"}],\"pie\":[{\"automargin\":true,\"type\":\"pie\"}]},\"layout\":{\"autotypenumbers\":\"strict\",\"colorway\":[\"#636efa\",\"#EF553B\",\"#00cc96\",\"#ab63fa\",\"#FFA15A\",\"#19d3f3\",\"#FF6692\",\"#B6E880\",\"#FF97FF\",\"#FECB52\"],\"font\":{\"color\":\"#f2f5fa\"},\"hovermode\":\"closest\",\"hoverlabel\":{\"align\":\"left\"},\"paper_bgcolor\":\"rgb(17,17,17)\",\"plot_bgcolor\":\"rgb(17,17,17)\",\"polar\":{\"bgcolor\":\"rgb(17,17,17)\",\"angularaxis\":{\"gridcolor\":\"#506784\",\"linecolor\":\"#506784\",\"ticks\":\"\"},\"radialaxis\":{\"gridcolor\":\"#506784\",\"linecolor\":\"#506784\",\"ticks\":\"\"}},\"ternary\":{\"bgcolor\":\"rgb(17,17,17)\",\"aaxis\":{\"gridcolor\":\"#506784\",\"linecolor\":\"#506784\",\"ticks\":\"\"},\"baxis\":{\"gridcolor\":\"#506784\",\"linecolor\":\"#506784\",\"ticks\":\"\"},\"caxis\":{\"gridcolor\":\"#506784\",\"linecolor\":\"#506784\",\"ticks\":\"\"}},\"coloraxis\":{\"colorbar\":{\"outlinewidth\":0,\"ticks\":\"\"}},\"colorscale\":{\"sequential\":[[0.0,\"#0d0887\"],[0.1111111111111111,\"#46039f\"],[0.2222222222222222,\"#7201a8\"],[0.3333333333333333,\"#9c179e\"],[0.4444444444444444,\"#bd3786\"],[0.5555555555555556,\"#d8576b\"],[0.6666666666666666,\"#ed7953\"],[0.7777777777777778,\"#fb9f3a\"],[0.8888888888888888,\"#fdca26\"],[1.0,\"#f0f921\"]],\"sequentialminus\":[[0.0,\"#0d0887\"],[0.1111111111111111,\"#46039f\"],[0.2222222222222222,\"#7201a8\"],[0.3333333333333333,\"#9c179e\"],[0.4444444444444444,\"#bd3786\"],[0.5555555555555556,\"#d8576b\"],[0.6666666666666666,\"#ed7953\"],[0.7777777777777778,\"#fb9f3a\"],[0.8888888888888888,\"#fdca26\"],[1.0,\"#f0f921\"]],\"diverging\":[[0,\"#8e0152\"],[0.1,\"#c51b7d\"],[0.2,\"#de77ae\"],[0.3,\"#f1b6da\"],[0.4,\"#fde0ef\"],[0.5,\"#f7f7f7\"],[0.6,\"#e6f5d0\"],[0.7,\"#b8e186\"],[0.8,\"#7fbc41\"],[0.9,\"#4d9221\"],[1,\"#276419\"]]},\"xaxis\":{\"gridcolor\":\"#283442\",\"linecolor\":\"#506784\",\"ticks\":\"\",\"title\":{\"standoff\":15},\"zerolinecolor\":\"#283442\",\"automargin\":true,\"zerolinewidth\":2},\"yaxis\":{\"gridcolor\":\"#283442\",\"linecolor\":\"#506784\",\"ticks\":\"\",\"title\":{\"standoff\":15},\"zerolinecolor\":\"#283442\",\"automargin\":true,\"zerolinewidth\":2},\"scene\":{\"xaxis\":{\"backgroundcolor\":\"rgb(17,17,17)\",\"gridcolor\":\"#506784\",\"linecolor\":\"#506784\",\"showbackground\":true,\"ticks\":\"\",\"zerolinecolor\":\"#C8D4E3\",\"gridwidth\":2},\"yaxis\":{\"backgroundcolor\":\"rgb(17,17,17)\",\"gridcolor\":\"#506784\",\"linecolor\":\"#506784\",\"showbackground\":true,\"ticks\":\"\",\"zerolinecolor\":\"#C8D4E3\",\"gridwidth\":2},\"zaxis\":{\"backgroundcolor\":\"rgb(17,17,17)\",\"gridcolor\":\"#506784\",\"linecolor\":\"#506784\",\"showbackground\":true,\"ticks\":\"\",\"zerolinecolor\":\"#C8D4E3\",\"gridwidth\":2}},\"shapedefaults\":{\"line\":{\"color\":\"#f2f5fa\"}},\"annotationdefaults\":{\"arrowcolor\":\"#f2f5fa\",\"arrowhead\":0,\"arrowwidth\":1},\"geo\":{\"bgcolor\":\"rgb(17,17,17)\",\"landcolor\":\"rgb(17,17,17)\",\"subunitcolor\":\"#506784\",\"showland\":true,\"showlakes\":true,\"lakecolor\":\"rgb(17,17,17)\"},\"title\":{\"x\":0.05},\"updatemenudefaults\":{\"bgcolor\":\"#506784\",\"borderwidth\":0},\"sliderdefaults\":{\"bgcolor\":\"#C8D4E3\",\"borderwidth\":1,\"bordercolor\":\"rgb(17,17,17)\",\"tickwidth\":0},\"mapbox\":{\"style\":\"dark\"}}},\"xaxis\":{\"anchor\":\"y\",\"domain\":[0.0,1.0],\"type\":\"date\",\"range\":[\"2025-05-08T14:12:05\",\"2025-05-08T22:29:24.930000\"],\"dtick\":3600000,\"tickformat\":\"%H:%M\",\"title\":{\"text\":\"Time of day (HH:MM)\"},\"tickmode\":\"array\",\"tickvals\":[\"2025-05-08T14:12:05\",\"2025-05-08T15:12:05\",\"2025-05-08T16:12:05\",\"2025-05-08T17:12:05\",\"2025-05-08T18:12:05\",\"2025-05-08T19:12:05\",\"2025-05-08T20:12:05\",\"2025-05-08T21:12:05\",\"2025-05-08T22:12:05\",\"2025-05-08T22:29:24.930000\"],\"ticktext\":[\"14:12\",\"15:12\",\"16:12\",\"17:12\",\"18:12\",\"19:12\",\"20:12\",\"21:12\",\"22:12\",\"22:29\"]},\"yaxis\":{\"anchor\":\"x\",\"domain\":[0.0,1.0],\"title\":{},\"categoryorder\":\"array\",\"categoryarray\":[\"Vacuum_Cleaner\",\"Wiping\",\"Washing_hands\",\"Tooth_brushing\",\"Shower\",\"Other\"]},\"legend\":{\"title\":{\"text\":\"Activity\"},\"tracegroupgap\":0},\"margin\":{\"t\":60},\"barmode\":\"overlay\",\"title\":{\"text\":\"Predicted Activity Timeline\"}},                        {\"responsive\": true}                    ).then(function(){\n",
       "                            \n",
       "var gd = document.getElementById('ce59a8c8-6a99-42c3-8d1d-508702ca8929');\n",
       "var x = new MutationObserver(function (mutations, observer) {{\n",
       "        var display = window.getComputedStyle(gd).display;\n",
       "        if (!display || display === 'none') {{\n",
       "            console.log([gd, 'removed!']);\n",
       "            Plotly.purge(gd);\n",
       "            observer.disconnect();\n",
       "        }}\n",
       "}});\n",
       "\n",
       "// Listen for the removal of the full notebook cells\n",
       "var notebookContainer = gd.closest('#notebook-container');\n",
       "if (notebookContainer) {{\n",
       "    x.observe(notebookContainer, {childList: true});\n",
       "}}\n",
       "\n",
       "// Listen for the clearing of the current output cell\n",
       "var outputEl = gd.closest('.output');\n",
       "if (outputEl) {{\n",
       "    x.observe(outputEl, {childList: true});\n",
       "}}\n",
       "\n",
       "                        })                };                });            </script>        </div>"
      ]
     },
     "metadata": {},
     "output_type": "display_data"
    }
   ],
   "execution_count": 8
  },
  {
   "metadata": {},
   "cell_type": "code",
   "outputs": [],
   "execution_count": null,
   "source": ""
  }
 ],
 "metadata": {
  "kernelspec": {
   "display_name": "tf_gpu_ver3",
   "language": "python",
   "name": "python3"
  },
  "language_info": {
   "codemirror_mode": {
    "name": "ipython",
    "version": 3
   },
   "file_extension": ".py",
   "mimetype": "text/x-python",
   "name": "python",
   "nbconvert_exporter": "python",
   "pygments_lexer": "ipython3",
   "version": "3.7.16"
  }
 },
 "nbformat": 4,
 "nbformat_minor": 2
}
