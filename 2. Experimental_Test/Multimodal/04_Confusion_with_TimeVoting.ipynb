{
 "cells": [
  {
   "cell_type": "markdown",
   "metadata": {},
   "source": [
    "## Motion+Sound Confusion Matrix"
   ]
  },
  {
   "cell_type": "code",
   "metadata": {
    "ExecuteTime": {
     "end_time": "2025-07-28T07:15:04.544773Z",
     "start_time": "2025-07-28T07:14:36.944352Z"
    }
   },
   "source": [
    "# Motion+Sound Time-Voting & Confusion Matrix Analysis\n",
    "import numpy as np\n",
    "import pandas as pd\n",
    "import matplotlib.pyplot as plt\n",
    "from sklearn.metrics import confusion_matrix, balanced_accuracy_score\n",
    "from pathlib import Path\n",
    "\n",
    "def load_probabilities(pid: int, model_version: int, base_dir: Path) -> (np.ndarray, np.ndarray):\n",
    "    \"\"\"\n",
    "    Load y_true and probability matrix for a participant.\n",
    "    \"\"\"\n",
    "    file_path = base_dir / f\"{pid}/{pid}_quan_ver{model_version}.csv\"\n",
    "    df = pd.read_csv(file_path)\n",
    "    class_names = [col for col in df.columns if col not in ['y_true','y_pred']]\n",
    "    y_true = df['y_true'].values\n",
    "    probs = df[class_names].values\n",
    "    return y_true, probs, class_names\n",
    "\n",
    "def time_voting(probs: np.ndarray, window_size: int) -> list:\n",
    "    \"\"\"\n",
    "    Apply moving-window averaging on probability vectors.\n",
    "    \"\"\"\n",
    "    queue = []\n",
    "    preds = []\n",
    "    for p in probs:\n",
    "        queue.append(p)\n",
    "        if len(queue) > window_size:\n",
    "            queue.pop(0)\n",
    "        avg = np.mean(queue, axis=0)\n",
    "        preds.append(int(np.argmax(avg)))\n",
    "    return preds\n",
    "\n",
    "def plot_confusion(y_true, y_pred, class_names, window_sec: float, out_dir: Path, pid: int):\n",
    "    \"\"\"\n",
    "    Plot and save confusion matrix percentages.\n",
    "    \"\"\"\n",
    "    cm = confusion_matrix(y_true, y_pred, labels=class_names)\n",
    "    cm_pct = (cm.astype(float) / cm.sum(axis=1, keepdims=True)) * 100\n",
    "    cm_pct = np.nan_to_num(cm_pct)\n",
    "    fig, ax = plt.subplots(figsize=(10,8))\n",
    "    im = ax.imshow(cm_pct, cmap='Greens', vmin=0, vmax=100)\n",
    "    ticks = np.arange(len(class_names))\n",
    "    ax.set_xticks(ticks); ax.set_yticks(ticks)\n",
    "    ax.set_xticklabels(class_names, rotation=45, ha='right')\n",
    "    ax.set_yticklabels(class_names)\n",
    "    thresh = cm_pct.max() / 2\n",
    "    for i in range(len(class_names)):\n",
    "        for j in range(len(class_names)):\n",
    "            color = 'white' if cm_pct[i,j] > thresh else 'black'\n",
    "            ax.text(j, i, f\"{cm_pct[i,j]:.1f}\", ha='center', va='center', color=color)\n",
    "    ax.set_title(f\"Confusion Matrix (w={window_sec:.1f}s)\")\n",
    "    fig.colorbar(im, ax=ax)\n",
    "    out_dir.mkdir(parents=True, exist_ok=True)\n",
    "    fig.savefig(out_dir / f\"{pid}_w{window_sec:.1f}s_cm.png\")\n",
    "    plt.close(fig)\n",
    "\n",
    "if __name__ == '__main__':\n",
    "    BASE_DIR = Path(\"../../Results/Experiment_Result/Model_Preds/Multimodal\")\n",
    "    CM_DIR   = Path(\"../../Results/Experiment_Result/Confusion_Matrix/Multimodal\")\n",
    "    model_version = 36\n",
    "    pid = 201\n",
    "\n",
    "    y_true, probs, class_names = load_probabilities(pid, model_version, BASE_DIR)\n",
    "\n",
    "    best_bacc = -np.inf\n",
    "    best_w = None\n",
    "\n",
    "    for w in range(1, 20):\n",
    "        window_sec = w * 0.2\n",
    "        pred_idx = time_voting(probs, window_size=w)\n",
    "        y_pred = np.array([class_names[i] for i in pred_idx])\n",
    "        bacc = balanced_accuracy_score(y_true, y_pred)\n",
    "        print(f\"w={window_sec:.1f}s  BA={bacc:.4f}\")\n",
    "        if bacc > best_bacc:\n",
    "            best_bacc, best_w = bacc, window_sec\n",
    "        plot_confusion(y_true, y_pred, class_names, window_sec, CM_DIR / str(pid), pid)\n",
    "\n",
    "    print(f\"Best Balanced Accuracy: {best_bacc:.4f} at w={best_w:.1f}s\")"
   ],
   "outputs": [
    {
     "name": "stdout",
     "output_type": "stream",
     "text": [
      "w=0.2s  BA=0.5937\n",
      "w=0.4s  BA=0.5952\n",
      "w=0.6s  BA=0.5961\n",
      "w=0.8s  BA=0.5971\n",
      "w=1.0s  BA=0.5987\n",
      "w=1.2s  BA=0.6001\n",
      "w=1.4s  BA=0.6019\n",
      "w=1.6s  BA=0.6032\n",
      "w=1.8s  BA=0.6042\n",
      "w=2.0s  BA=0.6041\n",
      "w=2.2s  BA=0.6056\n",
      "w=2.4s  BA=0.6058\n",
      "w=2.6s  BA=0.6087\n",
      "w=2.8s  BA=0.6085\n",
      "w=3.0s  BA=0.6096\n",
      "w=3.2s  BA=0.6102\n",
      "w=3.4s  BA=0.6122\n",
      "w=3.6s  BA=0.6137\n",
      "w=3.8s  BA=0.6150\n",
      "Best Balanced Accuracy: 0.6150 at w=3.8s\n"
     ]
    }
   ],
   "execution_count": 6
  },
  {
   "cell_type": "code",
   "execution_count": null,
   "metadata": {},
   "outputs": [],
   "source": []
  },
  {
   "cell_type": "code",
   "execution_count": null,
   "metadata": {},
   "outputs": [],
   "source": []
  }
 ],
 "metadata": {
  "kernelspec": {
   "display_name": "tf_gpu_ver3",
   "language": "python",
   "name": "python3"
  },
  "language_info": {
   "codemirror_mode": {
    "name": "ipython",
    "version": 3
   },
   "file_extension": ".py",
   "mimetype": "text/x-python",
   "name": "python",
   "nbconvert_exporter": "python",
   "pygments_lexer": "ipython3",
   "version": "3.7.16"
  }
 },
 "nbformat": 4,
 "nbformat_minor": 2
}
