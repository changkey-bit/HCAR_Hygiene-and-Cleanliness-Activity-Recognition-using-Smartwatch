{
 "cells": [
  {
   "metadata": {
    "ExecuteTime": {
     "end_time": "2025-07-28T07:12:29.520896Z",
     "start_time": "2025-07-28T07:11:22.564865Z"
    }
   },
   "cell_type": "code",
   "source": [
    "# Simplified Multimodal TFLite & TF-Keras Evaluation\n",
    "import os\n",
    "import pickle as pkl\n",
    "import numpy as np\n",
    "import pandas as pd\n",
    "import tensorflow as tf\n",
    "import matplotlib.pyplot as plt\n",
    "from pathlib import Path\n",
    "from sklearn.metrics import balanced_accuracy_score, f1_score, confusion_matrix\n",
    "\n",
    "# Configuration\n",
    "DATA_DIR = Path('../../Data/Experiment_Data/2_PreprocessDataset')\n",
    "TF_MODEL_DIR = Path('../../Models/Tensorflow_Model/Multimodal')\n",
    "OUTPUT_ACC_DIR = Path('../../Results/Experiment_Result/Model_Accuracy/Multimodal')\n",
    "OUTPUT_PRED_DIR = Path('../../Results/Experiment_Result/Model_Preds/Multimodal')\n",
    "OUTPUT_CM_DIR = Path('../../Result/Experiment_Result/Confusion_Matrix/Multimodal')\n",
    "NORM_PATH = Path('../../Normalization_params/Normalization_params_pickle/normalization_params_Right_ver1.pkl')\n",
    "LB_PATH = Path('../../LabelBinarizer/Label_binarizer_6_classes.pkl')\n",
    "\n",
    "# Model names\n",
    "TF_MODEL = TF_MODEL_DIR / 'MultiModal_ver1/Right/MM_Scratch.h5'\n",
    "\n",
    "# Classes\n",
    "def get_classes():\n",
    "    return ['Shower','Tooth_brushing','Washing_hands','Wiping','Vacuum_Cleaner','Other']\n",
    "\n",
    "# Utilities\n",
    "def load_norm():\n",
    "    return pkl.load(open(NORM_PATH,'rb'))\n",
    "\n",
    "def load_lb():\n",
    "    return pkl.load(open(LB_PATH,'rb'))\n",
    "\n",
    "# TF-Keras batch inference\n",
    "def predict_tf(pid, norm_params, lb, batch_size=256):\n",
    "    model = tf.keras.models.load_model(str(TF_MODEL))\n",
    "    pkl_path = DATA_DIR / pid / f'{pid}_preprocessing.pkl'\n",
    "    data = pkl.load(open(pkl_path,'rb'))\n",
    "    imu = data['IMU'].astype(np.float32)\n",
    "    audio = data['Audio'].astype(np.float32)[...,None]\n",
    "    y_true = np.array(data['Activity'])\n",
    "\n",
    "    pm,pn,mu,sd = [norm_params[k].reshape(1,1,-1) for k in ('max','min','mean','std')]\n",
    "    imu = 1 + (imu - pm)*2/(pm-pn)\n",
    "    imu = (imu - mu)/sd\n",
    "\n",
    "    imu   = np.ascontiguousarray(imu,   dtype=np.float32)\n",
    "    audio = np.ascontiguousarray(audio, dtype=np.float32)\n",
    "\n",
    "    # NumPy to Tensor\n",
    "    imu_t   = tf.convert_to_tensor(imu,   dtype=tf.float32)\n",
    "    audio_t = tf.convert_to_tensor(audio, dtype=tf.float32)\n",
    "\n",
    "    preds = model.predict([imu_t, audio_t], batch_size=batch_size)\n",
    "    df = pd.DataFrame(preds, columns=lb.classes_)\n",
    "    df['y_true'] = y_true\n",
    "    df['y_pred'] = df.drop(columns=['y_true']).idxmax(axis=1)\n",
    "    return df\n",
    "\n",
    "# Evaluation & plotting\n",
    "if __name__ == '__main__':\n",
    "    norm = load_norm(); lb = load_lb()\n",
    "    OUTPUT_ACC_DIR.mkdir(parents=True, exist_ok=True)\n",
    "    OUTPUT_PRED_DIR.mkdir(parents=True, exist_ok=True)\n",
    "    OUTPUT_CM_DIR.mkdir(parents=True, exist_ok=True)\n",
    "\n",
    "    for pid in sorted(d.name for d in DATA_DIR.iterdir() if d.is_dir()):\n",
    "        print(f'Evaluating {pid}')\n",
    "\n",
    "        # Save preds & acc\n",
    "        out_pred = OUTPUT_PRED_DIR / pid\n",
    "        out_pred.mkdir(exist_ok=True)\n",
    "\n",
    "        # TF-Keras\n",
    "        df_tf = predict_tf(pid, norm, lb)\n",
    "        ba_tf = balanced_accuracy_score(df_tf['y_true'], df_tf['y_pred'])\n",
    "        f1_tf = f1_score(df_tf['y_true'], df_tf['y_pred'], average='weighted')\n",
    "        df_tf.to_csv(out_pred/f'{pid}_tf.csv', index=False)\n",
    "        with open(OUTPUT_ACC_DIR/f'{pid}_tf_acc.txt','w') as f:\n",
    "            f.write(f'BA: {ba_tf:.4f}\\nF1: {f1_tf:.4f}')\n",
    "\n",
    "        print(f\"{pid} done: TF BA={ba_tf:.3f}\")"
   ],
   "outputs": [
    {
     "name": "stdout",
     "output_type": "stream",
     "text": [
      "Evaluating 201\n",
      "538/538 [==============================] - 13s 24ms/step\n",
      "201 done: TF BA=0.167\n"
     ]
    }
   ],
   "execution_count": 10
  },
  {
   "metadata": {},
   "cell_type": "code",
   "source": "",
   "outputs": [],
   "execution_count": null
  }
 ],
 "metadata": {
  "kernelspec": {
   "display_name": "tf_gpu_ver3",
   "language": "python",
   "name": "python3"
  },
  "language_info": {
   "codemirror_mode": {
    "name": "ipython",
    "version": 3
   },
   "file_extension": ".py",
   "mimetype": "text/x-python",
   "name": "python",
   "nbconvert_exporter": "python",
   "pygments_lexer": "ipython3",
   "version": "3.7.16"
  }
 },
 "nbformat": 4,
 "nbformat_minor": 2
}
