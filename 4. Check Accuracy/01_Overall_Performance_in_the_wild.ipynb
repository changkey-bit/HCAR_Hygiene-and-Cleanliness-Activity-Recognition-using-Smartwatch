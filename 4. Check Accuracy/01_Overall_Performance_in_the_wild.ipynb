{
 "cells": [
  {
   "cell_type": "code",
   "id": "15dc53ce",
   "metadata": {},
   "source": [
    "# Subject-wise Performance Evaluation\n",
    "import pandas as pd\n",
    "from pathlib import Path\n",
    "from sklearn.metrics import balanced_accuracy_score, f1_score\n",
    "\n",
    "# Configuration\n",
    "RESULT_DIR = Path(\"../Results/Experiment_Result/Model_Preds/Original\")\n",
    "SUBJECT_IDS = [str(i) for i in range(201, 211)]  # '201' to '210'\n",
    "OUTPUT_CSV = RESULT_DIR / \"subject_performance.csv\"\n",
    "\n",
    "def evaluate_subject(sid: str) -> dict:\n",
    "    \"\"\"\n",
    "    Load the first CSV in subject folder, compute BA and Macro F1.\n",
    "    Returns dict with 'BA' and 'MacroF1' percentages.\n",
    "    \"\"\"\n",
    "    subj_dir = RESULT_DIR / sid\n",
    "    if not subj_dir.is_dir():\n",
    "        return {}\n",
    "    csv_files = sorted([f for f in subj_dir.glob('*.csv')])\n",
    "    if not csv_files:\n",
    "        return {}\n",
    "    df = pd.read_csv(csv_files[0])\n",
    "    if not {'y_true', 'y_pred'}.issubset(df.columns):\n",
    "        return {}\n",
    "    ba = balanced_accuracy_score(df['y_true'], df['y_pred']) * 100\n",
    "    f1 = f1_score(df['y_true'], df['y_pred'], average='micro') * 100\n",
    "    return {'BA': round(ba, 2), 'MacroF1': round(f1, 2)}\n",
    "\n",
    "if __name__ == '__main__':\n",
    "    # Evaluate each subject\n",
    "    metrics = {}\n",
    "    all_true, all_pred = [], []\n",
    "    for sid in SUBJECT_IDS:\n",
    "        res = evaluate_subject(sid)\n",
    "        if res:\n",
    "            metrics[sid] = res\n",
    "            df = pd.read_csv((RESULT_DIR / sid / sorted((RESULT_DIR / sid).glob('*.csv'))[0]))\n",
    "            all_true.extend(df['y_true'])\n",
    "            all_pred.extend(df['y_pred'])\n",
    "\n",
    "    # Create DataFrame\n",
    "    df_metrics = pd.DataFrame(metrics).T\n",
    "\n",
    "    # Add overall mean\n",
    "    overall = pd.Series({\n",
    "        'BA': round(pd.Series(all_true).pipe(balanced_accuracy_score, pd.Series(all_pred)) * 100, 2),\n",
    "        'MacroF1': round(f1_score(all_true, all_pred, average='micro') * 100, 2)\n",
    "    }, name='Mean')\n",
    "    df_metrics = df_metrics.append(overall)\n",
    "\n",
    "    # Save to CSV\n",
    "    df_metrics.to_csv(OUTPUT_CSV, index=True)\n",
    "    print(f\"Saved per-subject performance to {OUTPUT_CSV}\")\n"
   ],
   "outputs": [],
   "execution_count": null
  }
 ],
 "metadata": {
  "kernelspec": {
   "display_name": "tf_gpu_ver3",
   "language": "python",
   "name": "python3"
  },
  "language_info": {
   "codemirror_mode": {
    "name": "ipython",
    "version": 3
   },
   "file_extension": ".py",
   "mimetype": "text/x-python",
   "name": "python",
   "nbconvert_exporter": "python",
   "pygments_lexer": "ipython3",
   "version": "3.7.16"
  }
 },
 "nbformat": 4,
 "nbformat_minor": 5
}
