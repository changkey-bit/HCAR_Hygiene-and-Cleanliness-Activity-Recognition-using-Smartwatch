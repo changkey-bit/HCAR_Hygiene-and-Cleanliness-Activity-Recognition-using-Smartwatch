{
 "cells": [
  {
   "cell_type": "markdown",
   "metadata": {},
   "source": "## <i> Tflite, Quantized Tflite Model"
  },
  {
   "cell_type": "code",
   "metadata": {
    "ExecuteTime": {
     "end_time": "2025-07-28T05:30:11.650829Z",
     "start_time": "2025-07-28T05:29:59.835746Z"
    }
   },
   "source": [
    "import tensorflow as tf\n",
    "from pathlib import Path\n",
    "\n",
    "# Configuration\n",
    "MODEL_VERSION = 1\n",
    "BASE_MODEL_PATH = Path(f'../../Models/tensorflow_model/Multimodal/MultiModal_ver{MODEL_VERSION}/Right/MM_Scratch.h5')\n",
    "TFLITE_SAVE_DIR = Path(f'../../Models/TFlite_Model/Multimodal')\n",
    "TFLITE_SAVE_DIR.mkdir(parents=True, exist_ok=True)\n",
    "\n",
    "def convert_to_tflite(model_path, save_path, quantize=False):\n",
    "    \"\"\"\n",
    "    Converts a Keras model to TFLite format.\n",
    "\n",
    "    Args:\n",
    "        model_path (Path): Path to the .h5 Keras model.\n",
    "        save_path (Path): Path to save the resulting .tflite file.\n",
    "        quantize (bool): Whether to apply dynamic range quantization.\n",
    "    \"\"\"\n",
    "    model = tf.keras.models.load_model(model_path)\n",
    "\n",
    "    converter = tf.lite.TFLiteConverter.from_keras_model(model)\n",
    "    if quantize:\n",
    "        converter.optimizations = [tf.lite.Optimize.DEFAULT]\n",
    "\n",
    "    tflite_model = converter.convert()\n",
    "\n",
    "    with open(save_path, 'wb') as f:\n",
    "        f.write(tflite_model)\n",
    "    print(f\"Saved TFLite model: {save_path.name}\")\n",
    "\n",
    "# Convert dynamic quantized model\n",
    "convert_to_tflite(\n",
    "    model_path=BASE_MODEL_PATH,\n",
    "    save_path=TFLITE_SAVE_DIR / f\"quan_multimodal_cnn_ver{MODEL_VERSION}.tflite\",\n",
    "    quantize=True\n",
    ")"
   ],
   "outputs": [
    {
     "name": "stderr",
     "output_type": "stream",
     "text": [
      "WARNING:absl:Function `_wrapped_model` contains input name(s) IMU_input with unsupported characters which will be renamed to imu_input in the SavedModel.\n",
      "WARNING:absl:Found untraced functions such as _jit_compiled_convolution_op, _jit_compiled_convolution_op, _jit_compiled_convolution_op, _jit_compiled_convolution_op, _jit_compiled_convolution_op while saving (showing 5 of 10). These functions will not be directly callable after loading.\n"
     ]
    },
    {
     "name": "stdout",
     "output_type": "stream",
     "text": [
      "INFO:tensorflow:Assets written to: C:\\Users\\Public\\Documents\\ESTsoft\\CreatorTemp\\tmpflbvuzqa\\assets\n"
     ]
    },
    {
     "name": "stderr",
     "output_type": "stream",
     "text": [
      "INFO:tensorflow:Assets written to: C:\\Users\\Public\\Documents\\ESTsoft\\CreatorTemp\\tmpflbvuzqa\\assets\n"
     ]
    },
    {
     "name": "stdout",
     "output_type": "stream",
     "text": [
      "Saved TFLite model: quan_multimodal_cnn_ver1.tflite\n"
     ]
    }
   ],
   "execution_count": 1
  },
  {
   "metadata": {},
   "cell_type": "code",
   "outputs": [],
   "execution_count": null,
   "source": ""
  }
 ],
 "metadata": {
  "kernelspec": {
   "display_name": "tf_gpu_ver3",
   "language": "python",
   "name": "python3"
  },
  "language_info": {
   "codemirror_mode": {
    "name": "ipython",
    "version": 3
   },
   "file_extension": ".py",
   "mimetype": "text/x-python",
   "name": "python",
   "nbconvert_exporter": "python",
   "pygments_lexer": "ipython3",
   "version": "3.7.16"
  }
 },
 "nbformat": 4,
 "nbformat_minor": 2
}
